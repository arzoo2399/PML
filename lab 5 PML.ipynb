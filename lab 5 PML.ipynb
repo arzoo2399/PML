{
 "cells": [
  {
   "cell_type": "code",
   "execution_count": 1,
   "id": "bearing-disabled",
   "metadata": {},
   "outputs": [],
   "source": [
    "import pandas as pd\n",
    "import seaborn as sns\n",
    "import matplotlib.pyplot as plt\n",
    "plt.style.use('seaborn')"
   ]
  },
  {
   "cell_type": "markdown",
   "id": "featured-jamaica",
   "metadata": {},
   "source": [
    "## Step1. [Understand Data]. Using Pandas, import “diabetes.csv” file and print properties such as head,shape,columns,dtype,info and value_counts."
   ]
  },
  {
   "cell_type": "code",
   "execution_count": 2,
   "id": "geological-milan",
   "metadata": {},
   "outputs": [],
   "source": [
    "df = pd.read_csv(\"diabetes.csv\")"
   ]
  },
  {
   "cell_type": "code",
   "execution_count": 3,
   "id": "likely-recipe",
   "metadata": {},
   "outputs": [
    {
     "data": {
      "text/html": [
       "<div>\n",
       "<style scoped>\n",
       "    .dataframe tbody tr th:only-of-type {\n",
       "        vertical-align: middle;\n",
       "    }\n",
       "\n",
       "    .dataframe tbody tr th {\n",
       "        vertical-align: top;\n",
       "    }\n",
       "\n",
       "    .dataframe thead th {\n",
       "        text-align: right;\n",
       "    }\n",
       "</style>\n",
       "<table border=\"1\" class=\"dataframe\">\n",
       "  <thead>\n",
       "    <tr style=\"text-align: right;\">\n",
       "      <th></th>\n",
       "      <th>Pregnancies</th>\n",
       "      <th>Glucose</th>\n",
       "      <th>BloodPressure</th>\n",
       "      <th>SkinThickness</th>\n",
       "      <th>Insulin</th>\n",
       "      <th>BMI</th>\n",
       "      <th>DiabetesPedigreeFunction</th>\n",
       "      <th>Age</th>\n",
       "      <th>Outcome</th>\n",
       "    </tr>\n",
       "  </thead>\n",
       "  <tbody>\n",
       "    <tr>\n",
       "      <th>0</th>\n",
       "      <td>6</td>\n",
       "      <td>148</td>\n",
       "      <td>72</td>\n",
       "      <td>35</td>\n",
       "      <td>0</td>\n",
       "      <td>33.6</td>\n",
       "      <td>0.627</td>\n",
       "      <td>50</td>\n",
       "      <td>1</td>\n",
       "    </tr>\n",
       "    <tr>\n",
       "      <th>1</th>\n",
       "      <td>1</td>\n",
       "      <td>85</td>\n",
       "      <td>66</td>\n",
       "      <td>29</td>\n",
       "      <td>0</td>\n",
       "      <td>26.6</td>\n",
       "      <td>0.351</td>\n",
       "      <td>31</td>\n",
       "      <td>0</td>\n",
       "    </tr>\n",
       "    <tr>\n",
       "      <th>2</th>\n",
       "      <td>8</td>\n",
       "      <td>183</td>\n",
       "      <td>64</td>\n",
       "      <td>0</td>\n",
       "      <td>0</td>\n",
       "      <td>23.3</td>\n",
       "      <td>0.672</td>\n",
       "      <td>32</td>\n",
       "      <td>1</td>\n",
       "    </tr>\n",
       "    <tr>\n",
       "      <th>3</th>\n",
       "      <td>1</td>\n",
       "      <td>89</td>\n",
       "      <td>66</td>\n",
       "      <td>23</td>\n",
       "      <td>94</td>\n",
       "      <td>28.1</td>\n",
       "      <td>0.167</td>\n",
       "      <td>21</td>\n",
       "      <td>0</td>\n",
       "    </tr>\n",
       "    <tr>\n",
       "      <th>4</th>\n",
       "      <td>0</td>\n",
       "      <td>137</td>\n",
       "      <td>40</td>\n",
       "      <td>35</td>\n",
       "      <td>168</td>\n",
       "      <td>43.1</td>\n",
       "      <td>2.288</td>\n",
       "      <td>33</td>\n",
       "      <td>1</td>\n",
       "    </tr>\n",
       "  </tbody>\n",
       "</table>\n",
       "</div>"
      ],
      "text/plain": [
       "   Pregnancies  Glucose  BloodPressure  SkinThickness  Insulin   BMI  \\\n",
       "0            6      148             72             35        0  33.6   \n",
       "1            1       85             66             29        0  26.6   \n",
       "2            8      183             64              0        0  23.3   \n",
       "3            1       89             66             23       94  28.1   \n",
       "4            0      137             40             35      168  43.1   \n",
       "\n",
       "   DiabetesPedigreeFunction  Age  Outcome  \n",
       "0                     0.627   50        1  \n",
       "1                     0.351   31        0  \n",
       "2                     0.672   32        1  \n",
       "3                     0.167   21        0  \n",
       "4                     2.288   33        1  "
      ]
     },
     "execution_count": 3,
     "metadata": {},
     "output_type": "execute_result"
    }
   ],
   "source": [
    "df.head()"
   ]
  },
  {
   "cell_type": "code",
   "execution_count": 4,
   "id": "diagnostic-latter",
   "metadata": {},
   "outputs": [
    {
     "data": {
      "text/plain": [
       "(768, 9)"
      ]
     },
     "execution_count": 4,
     "metadata": {},
     "output_type": "execute_result"
    }
   ],
   "source": [
    "df.shape"
   ]
  },
  {
   "cell_type": "code",
   "execution_count": 5,
   "id": "considered-accordance",
   "metadata": {},
   "outputs": [
    {
     "data": {
      "text/plain": [
       "Pregnancies                   int64\n",
       "Glucose                       int64\n",
       "BloodPressure                 int64\n",
       "SkinThickness                 int64\n",
       "Insulin                       int64\n",
       "BMI                         float64\n",
       "DiabetesPedigreeFunction    float64\n",
       "Age                           int64\n",
       "Outcome                       int64\n",
       "dtype: object"
      ]
     },
     "execution_count": 5,
     "metadata": {},
     "output_type": "execute_result"
    }
   ],
   "source": [
    "df.dtypes"
   ]
  },
  {
   "cell_type": "code",
   "execution_count": 6,
   "id": "recovered-paragraph",
   "metadata": {},
   "outputs": [
    {
     "data": {
      "text/plain": [
       "<bound method DataFrame.info of      Pregnancies  Glucose  BloodPressure  SkinThickness  Insulin   BMI  \\\n",
       "0              6      148             72             35        0  33.6   \n",
       "1              1       85             66             29        0  26.6   \n",
       "2              8      183             64              0        0  23.3   \n",
       "3              1       89             66             23       94  28.1   \n",
       "4              0      137             40             35      168  43.1   \n",
       "..           ...      ...            ...            ...      ...   ...   \n",
       "763           10      101             76             48      180  32.9   \n",
       "764            2      122             70             27        0  36.8   \n",
       "765            5      121             72             23      112  26.2   \n",
       "766            1      126             60              0        0  30.1   \n",
       "767            1       93             70             31        0  30.4   \n",
       "\n",
       "     DiabetesPedigreeFunction  Age  Outcome  \n",
       "0                       0.627   50        1  \n",
       "1                       0.351   31        0  \n",
       "2                       0.672   32        1  \n",
       "3                       0.167   21        0  \n",
       "4                       2.288   33        1  \n",
       "..                        ...  ...      ...  \n",
       "763                     0.171   63        0  \n",
       "764                     0.340   27        0  \n",
       "765                     0.245   30        0  \n",
       "766                     0.349   47        1  \n",
       "767                     0.315   23        0  \n",
       "\n",
       "[768 rows x 9 columns]>"
      ]
     },
     "execution_count": 6,
     "metadata": {},
     "output_type": "execute_result"
    }
   ],
   "source": [
    "df.info"
   ]
  },
  {
   "cell_type": "code",
   "execution_count": 7,
   "id": "thousand-palestine",
   "metadata": {},
   "outputs": [
    {
     "data": {
      "text/plain": [
       "Pregnancies  Glucose  BloodPressure  SkinThickness  Insulin  BMI   DiabetesPedigreeFunction  Age  Outcome\n",
       "0            57       60             0              0        21.7  0.735                     67   0          1\n",
       "             67       76             0              0        45.3  0.194                     46   0          1\n",
       "5            103      108            37             0        39.2  0.305                     65   0          1\n",
       "             104      74             0              0        28.8  0.153                     48   0          1\n",
       "             105      72             29             325      36.9  0.159                     28   0          1\n",
       "                                                                                                            ..\n",
       "2            84       50             23             76       30.4  0.968                     21   0          1\n",
       "             85       65             0              0        39.6  0.930                     27   0          1\n",
       "             87       0              23             0        28.9  0.773                     25   0          1\n",
       "                      58             16             52       32.7  0.166                     25   0          1\n",
       "17           163      72             41             114      40.9  0.817                     47   1          1\n",
       "Length: 768, dtype: int64"
      ]
     },
     "execution_count": 7,
     "metadata": {},
     "output_type": "execute_result"
    }
   ],
   "source": [
    "df.value_counts()"
   ]
  },
  {
   "cell_type": "markdown",
   "id": "impressive-mother",
   "metadata": {},
   "source": [
    "## Step2. [Build Logistic Regression Model]"
   ]
  },
  {
   "cell_type": "markdown",
   "id": "romance-printing",
   "metadata": {},
   "source": [
    "###  Prepare X matrix (8 feature columns) and y vector (ie., Outcome column)"
   ]
  },
  {
   "cell_type": "code",
   "execution_count": 8,
   "id": "juvenile-attitude",
   "metadata": {},
   "outputs": [],
   "source": [
    "inp = ['Pregnancies','Glucose','BloodPressure','SkinThickness','Insulin','BMI','DiabetesPedigreeFunction','Age']\n",
    "X=df[inp]"
   ]
  },
  {
   "cell_type": "code",
   "execution_count": 9,
   "id": "quiet-magnitude",
   "metadata": {},
   "outputs": [],
   "source": [
    "y=df.Outcome"
   ]
  },
  {
   "cell_type": "markdown",
   "id": "sophisticated-bonus",
   "metadata": {},
   "source": [
    "### Split dataset with stratified shuffle split for training and testing as X_train, X_test, y_train, y_test (use 25% test size)."
   ]
  },
  {
   "cell_type": "code",
   "execution_count": 10,
   "id": "short-horizontal",
   "metadata": {},
   "outputs": [],
   "source": [
    "from sklearn.model_selection import StratifiedShuffleSplit"
   ]
  },
  {
   "cell_type": "code",
   "execution_count": 11,
   "id": "bridal-culture",
   "metadata": {},
   "outputs": [
    {
     "data": {
      "text/plain": [
       "5"
      ]
     },
     "execution_count": 11,
     "metadata": {},
     "output_type": "execute_result"
    }
   ],
   "source": [
    "sss = StratifiedShuffleSplit(n_splits=5, test_size=0.25,train_size=0.75,random_state=0)\n",
    "sss.get_n_splits(X, y)"
   ]
  },
  {
   "cell_type": "code",
   "execution_count": 12,
   "id": "subtle-billion",
   "metadata": {},
   "outputs": [],
   "source": [
    "for train,test in sss.split(X,y):    \n",
    "    X_train = X.iloc[train]\n",
    "    y_train = y.iloc[train]\n",
    "    X_test = X.iloc[test]\n",
    "    y_test = y.iloc[test]"
   ]
  },
  {
   "cell_type": "markdown",
   "id": "damaged-efficiency",
   "metadata": {},
   "source": [
    "### Create LogisticRegression model, fit on training set and predict on test set"
   ]
  },
  {
   "cell_type": "code",
   "execution_count": 13,
   "id": "streaming-budget",
   "metadata": {},
   "outputs": [],
   "source": [
    "from sklearn.linear_model import LogisticRegression"
   ]
  },
  {
   "cell_type": "code",
   "execution_count": 14,
   "id": "pointed-level",
   "metadata": {},
   "outputs": [
    {
     "name": "stderr",
     "output_type": "stream",
     "text": [
      "C:\\Users\\Arzoo Sah\\anaconda3\\envs\\notebook\\lib\\site-packages\\sklearn\\linear_model\\_logistic.py:763: ConvergenceWarning: lbfgs failed to converge (status=1):\n",
      "STOP: TOTAL NO. of ITERATIONS REACHED LIMIT.\n",
      "\n",
      "Increase the number of iterations (max_iter) or scale the data as shown in:\n",
      "    https://scikit-learn.org/stable/modules/preprocessing.html\n",
      "Please also refer to the documentation for alternative solver options:\n",
      "    https://scikit-learn.org/stable/modules/linear_model.html#logistic-regression\n",
      "  n_iter_i = _check_optimize_result(\n"
     ]
    },
    {
     "data": {
      "text/plain": [
       "LogisticRegression()"
      ]
     },
     "execution_count": 14,
     "metadata": {},
     "output_type": "execute_result"
    }
   ],
   "source": [
    "model = LogisticRegression()\n",
    "model.fit(X_train,y_train)"
   ]
  },
  {
   "cell_type": "code",
   "execution_count": 15,
   "id": "objective-broadway",
   "metadata": {},
   "outputs": [
    {
     "data": {
      "text/plain": [
       "array([1, 0, 1, 1, 0, 0, 0, 0, 0, 0, 0, 0, 1, 0, 1, 0, 0, 0, 0, 1, 0, 0,\n",
       "       0, 0, 0, 0, 0, 0, 0, 0, 1, 0, 0, 0, 0, 0, 0, 0, 0, 0, 0, 0, 1, 0,\n",
       "       1, 0, 0, 1, 0, 0, 0, 0, 1, 0, 1, 0, 0, 0, 0, 1, 1, 0, 0, 0, 0, 0,\n",
       "       0, 1, 0, 0, 1, 0, 0, 0, 0, 1, 1, 0, 0, 0, 0, 0, 1, 0, 0, 1, 0, 0,\n",
       "       0, 0, 1, 1, 0, 0, 0, 0, 1, 0, 0, 0, 0, 1, 1, 1, 0, 1, 0, 0, 0, 0,\n",
       "       0, 0, 0, 0, 0, 1, 0, 0, 1, 1, 0, 0, 0, 1, 0, 0, 1, 0, 0, 0, 0, 0,\n",
       "       0, 0, 1, 0, 0, 0, 1, 0, 1, 0, 0, 1, 0, 0, 0, 0, 0, 0, 0, 0, 0, 0,\n",
       "       0, 0, 1, 1, 0, 1, 0, 0, 0, 0, 1, 0, 1, 0, 0, 0, 0, 0, 0, 0, 0, 0,\n",
       "       0, 0, 0, 1, 1, 0, 0, 1, 0, 0, 0, 0, 1, 0, 0, 1], dtype=int64)"
      ]
     },
     "execution_count": 15,
     "metadata": {},
     "output_type": "execute_result"
    }
   ],
   "source": [
    "y_pred=model.predict(X_test)\n",
    "y_pred"
   ]
  },
  {
   "cell_type": "markdown",
   "id": "assigned-detective",
   "metadata": {},
   "source": [
    "## Step3. [Predict on a new sample]\n",
    "\n",
    "\n",
    "### Will this person become diabetic?. His details are given below.                                                     \n",
    "###    new_person = [[6, 200, 90, 10, 25, 23.3, 0.672, 42]]"
   ]
  },
  {
   "cell_type": "code",
   "execution_count": 16,
   "id": "least-rescue",
   "metadata": {},
   "outputs": [
    {
     "name": "stdout",
     "output_type": "stream",
     "text": [
      "[1]\n"
     ]
    }
   ],
   "source": [
    "new_patients = [[6,200,90,10,25,23.3,0.672,42]]\n",
    "print(model.predict(new_patients))"
   ]
  },
  {
   "cell_type": "markdown",
   "id": "ceramic-colors",
   "metadata": {},
   "source": [
    "## Step4. [Compute Classification Metrics]\n",
    "### compute and print Accuracy, Precision, Recall and AUC scores"
   ]
  },
  {
   "cell_type": "code",
   "execution_count": 17,
   "id": "polyphonic-third",
   "metadata": {},
   "outputs": [],
   "source": [
    "from sklearn.metrics import precision_score, recall_score,accuracy_score,roc_auc_score"
   ]
  },
  {
   "cell_type": "code",
   "execution_count": 18,
   "id": "disabled-tiffany",
   "metadata": {},
   "outputs": [
    {
     "name": "stdout",
     "output_type": "stream",
     "text": [
      "LoR Accuracy    0.7864583333333334\n",
      "LoR Precision   0.782608695652174\n",
      "LoR Recall      0.5373134328358209\n",
      "LoR AUC         0.7286567164179104\n"
     ]
    }
   ],
   "source": [
    "print(\"LoR Accuracy   \",accuracy_score(y_test,y_pred))\n",
    "print(\"LoR Precision  \",precision_score(y_test,y_pred))\n",
    "print(\"LoR Recall     \",recall_score(y_test,y_pred))\n",
    "print(\"LoR AUC        \",roc_auc_score(y_test,y_pred))"
   ]
  },
  {
   "cell_type": "markdown",
   "id": "underlying-pride",
   "metadata": {},
   "source": [
    "## Step5. [Understand Correlation]\n",
    "### Create confusion matrix between y_test and y_pred and plot confusion matrix values in a Heatmap. Explain the meaning of the 4 numbers you get."
   ]
  },
  {
   "cell_type": "code",
   "execution_count": 19,
   "id": "dying-invite",
   "metadata": {},
   "outputs": [
    {
     "data": {
      "text/plain": [
       "array([[115,  10],\n",
       "       [ 31,  36]], dtype=int64)"
      ]
     },
     "execution_count": 19,
     "metadata": {},
     "output_type": "execute_result"
    }
   ],
   "source": [
    "from sklearn.metrics import confusion_matrix\n",
    "confusion_matrix(y_test,y_pred)"
   ]
  },
  {
   "cell_type": "code",
   "execution_count": 20,
   "id": "printable-explorer",
   "metadata": {},
   "outputs": [
    {
     "data": {
      "text/plain": [
       "<AxesSubplot:>"
      ]
     },
     "execution_count": 20,
     "metadata": {},
     "output_type": "execute_result"
    },
    {
     "data": {
      "image/png": "[encoded data removed]",
      "text/plain": [
       "<Figure size 576x396 with 2 Axes>"
      ]
     },
     "metadata": {},
     "output_type": "display_data"
    }
   ],
   "source": [
    "sns.heatmap(confusion_matrix(y_test,y_pred) / len(y), cmap='Reds', annot=True)"
   ]
  },
  {
   "cell_type": "markdown",
   "id": "severe-birth",
   "metadata": {},
   "source": [
    "## Step6. [Normalization using MinmaxScaler and rebuild LoR] "
   ]
  },
  {
   "cell_type": "code",
   "execution_count": 21,
   "id": "round-president",
   "metadata": {},
   "outputs": [],
   "source": [
    "from sklearn.preprocessing import MinMaxScaler\n",
    "m_scaler = MinMaxScaler()"
   ]
  },
  {
   "cell_type": "markdown",
   "id": "grateful-belief",
   "metadata": {},
   "source": [
    "###  Now, normalize your X_train and X_test values using MinMaxScaler"
   ]
  },
  {
   "cell_type": "code",
   "execution_count": 22,
   "id": "referenced-necessity",
   "metadata": {},
   "outputs": [],
   "source": [
    "m_ss = m_scaler.fit_transform(X_train)\n",
    "m_ss1 = m_scaler.transform(X_test)"
   ]
  },
  {
   "cell_type": "markdown",
   "id": "tamil-equation",
   "metadata": {},
   "source": [
    "### Create a new LogisticRegression model, fit on normalized training set and predict on the normalized test set"
   ]
  },
  {
   "cell_type": "code",
   "execution_count": 23,
   "id": "gross-artist",
   "metadata": {},
   "outputs": [
    {
     "data": {
      "text/plain": [
       "LogisticRegression()"
      ]
     },
     "execution_count": 23,
     "metadata": {},
     "output_type": "execute_result"
    }
   ],
   "source": [
    "model1 = LogisticRegression()\n",
    "model1.fit(m_ss,y_train)"
   ]
  },
  {
   "cell_type": "code",
   "execution_count": 24,
   "id": "annual-listening",
   "metadata": {},
   "outputs": [
    {
     "data": {
      "text/plain": [
       "array([1, 0, 1, 0, 0, 0, 0, 0, 0, 0, 0, 0, 1, 0, 0, 0, 0, 0, 0, 1, 0, 0,\n",
       "       0, 0, 0, 0, 0, 0, 0, 0, 0, 0, 0, 0, 0, 0, 0, 0, 0, 0, 0, 0, 1, 0,\n",
       "       1, 0, 0, 1, 1, 0, 0, 0, 1, 0, 1, 0, 0, 0, 0, 1, 0, 0, 0, 0, 0, 0,\n",
       "       0, 0, 0, 0, 1, 0, 0, 0, 0, 1, 1, 0, 0, 0, 0, 0, 1, 0, 0, 1, 0, 0,\n",
       "       1, 0, 1, 1, 0, 0, 0, 0, 1, 0, 0, 0, 0, 1, 1, 1, 0, 1, 0, 0, 0, 0,\n",
       "       0, 0, 0, 0, 0, 0, 0, 0, 1, 1, 0, 0, 0, 1, 0, 0, 1, 0, 0, 0, 0, 0,\n",
       "       0, 0, 1, 0, 0, 0, 1, 0, 1, 0, 0, 0, 0, 0, 0, 0, 0, 0, 0, 0, 0, 0,\n",
       "       0, 0, 1, 1, 1, 1, 0, 0, 1, 0, 1, 0, 0, 0, 0, 0, 0, 0, 0, 0, 0, 0,\n",
       "       0, 0, 0, 1, 0, 0, 0, 1, 0, 0, 0, 0, 1, 1, 0, 1], dtype=int64)"
      ]
     },
     "execution_count": 24,
     "metadata": {},
     "output_type": "execute_result"
    }
   ],
   "source": [
    "ms_y_pred=model1.predict(m_ss1)\n",
    "ms_y_pred"
   ]
  },
  {
   "cell_type": "markdown",
   "id": "square-outline",
   "metadata": {},
   "source": [
    "### Compute and print Accuracy, Precision, Recall and AUC scores"
   ]
  },
  {
   "cell_type": "code",
   "execution_count": 25,
   "id": "adjacent-complexity",
   "metadata": {},
   "outputs": [
    {
     "name": "stdout",
     "output_type": "stream",
     "text": [
      "MinMaxScaler Accuracy    0.7864583333333334\n",
      "MinMaxScaler Precision   0.8095238095238095\n",
      "MinMaxScaler Recall      0.5074626865671642\n",
      "MinMaxScaler AUC         0.7217313432835821\n"
     ]
    }
   ],
   "source": [
    "print(\"MinMaxScaler Accuracy   \",accuracy_score(y_test,ms_y_pred))\n",
    "print(\"MinMaxScaler Precision  \",precision_score(y_test,ms_y_pred))\n",
    "print(\"MinMaxScaler Recall     \",recall_score(y_test,ms_y_pred))\n",
    "print(\"MinMaxScaler AUC        \",roc_auc_score(y_test,ms_y_pred))"
   ]
  },
  {
   "cell_type": "markdown",
   "id": "different-crystal",
   "metadata": {},
   "source": [
    "## Step7. [Normalization using StandardScaler and rebuild LoR]"
   ]
  },
  {
   "cell_type": "markdown",
   "id": "smaller-earth",
   "metadata": {},
   "source": [
    "### Repeat Step5 with StandardScaler"
   ]
  },
  {
   "cell_type": "code",
   "execution_count": 26,
   "id": "confirmed-audience",
   "metadata": {},
   "outputs": [],
   "source": [
    "from sklearn.preprocessing import StandardScaler\n",
    "scale = StandardScaler()"
   ]
  },
  {
   "cell_type": "code",
   "execution_count": 27,
   "id": "authorized-wheel",
   "metadata": {},
   "outputs": [],
   "source": [
    "ss = scale.fit_transform(X_train)\n",
    "ss1 = scale.transform(X_test)"
   ]
  },
  {
   "cell_type": "code",
   "execution_count": 28,
   "id": "compound-poetry",
   "metadata": {},
   "outputs": [
    {
     "data": {
      "text/plain": [
       "LogisticRegression()"
      ]
     },
     "execution_count": 28,
     "metadata": {},
     "output_type": "execute_result"
    }
   ],
   "source": [
    "model2 = LogisticRegression()\n",
    "model2.fit(ss,y_train)"
   ]
  },
  {
   "cell_type": "code",
   "execution_count": 29,
   "id": "offensive-military",
   "metadata": {},
   "outputs": [
    {
     "data": {
      "text/plain": [
       "array([1, 0, 1, 0, 0, 0, 0, 0, 0, 0, 0, 0, 1, 0, 0, 0, 0, 0, 0, 1, 0, 0,\n",
       "       0, 0, 0, 0, 0, 0, 0, 0, 0, 0, 0, 0, 0, 0, 0, 0, 0, 0, 0, 0, 1, 0,\n",
       "       1, 0, 0, 1, 0, 0, 0, 0, 1, 0, 1, 0, 0, 0, 0, 1, 0, 0, 0, 0, 0, 0,\n",
       "       0, 0, 0, 0, 1, 0, 0, 0, 0, 1, 1, 0, 0, 0, 0, 0, 1, 0, 0, 1, 0, 0,\n",
       "       1, 0, 1, 1, 0, 0, 0, 0, 1, 0, 0, 0, 0, 1, 1, 1, 0, 1, 0, 0, 0, 0,\n",
       "       0, 0, 0, 0, 0, 0, 0, 0, 1, 1, 0, 0, 0, 0, 0, 0, 1, 0, 0, 0, 0, 0,\n",
       "       0, 0, 1, 0, 0, 0, 1, 0, 1, 0, 0, 0, 0, 0, 0, 0, 0, 0, 0, 0, 0, 0,\n",
       "       0, 0, 1, 1, 0, 1, 0, 0, 1, 0, 1, 0, 0, 0, 0, 0, 0, 0, 0, 0, 0, 0,\n",
       "       0, 0, 0, 1, 0, 0, 0, 1, 0, 0, 0, 0, 1, 1, 0, 1], dtype=int64)"
      ]
     },
     "execution_count": 29,
     "metadata": {},
     "output_type": "execute_result"
    }
   ],
   "source": [
    "m_y_pred=model1.predict(ss1)\n",
    "m_y_pred"
   ]
  },
  {
   "cell_type": "code",
   "execution_count": 30,
   "id": "physical-providence",
   "metadata": {},
   "outputs": [
    {
     "name": "stdout",
     "output_type": "stream",
     "text": [
      "StandardScaler Accuracy   0.78125\n",
      "StandardScaler Precision  0.8205128205128205\n",
      "StandardScaler Recall     0.47761194029850745\n",
      "StandardScaler AUC        0.7108059701492537\n"
     ]
    }
   ],
   "source": [
    "print(\"StandardScaler Accuracy  \",accuracy_score(y_test,m_y_pred))\n",
    "print(\"StandardScaler Precision \",precision_score(y_test,m_y_pred))\n",
    "print(\"StandardScaler Recall    \",recall_score(y_test,m_y_pred))\n",
    "print(\"StandardScaler AUC       \",roc_auc_score(y_test,m_y_pred))"
   ]
  },
  {
   "cell_type": "markdown",
   "id": "fatty-publicity",
   "metadata": {},
   "source": [
    "## Step8. [Plot ROC curve]\n",
    "### Plot ROC curve as shown below. You can use the MinmaxScaler scaled values of X_test for computing predict_proba() score."
   ]
  },
  {
   "cell_type": "code",
   "execution_count": 31,
   "id": "touched-navigation",
   "metadata": {},
   "outputs": [],
   "source": [
    "from sklearn.metrics import roc_curve"
   ]
  },
  {
   "cell_type": "code",
   "execution_count": 32,
   "id": "occasional-diploma",
   "metadata": {},
   "outputs": [],
   "source": [
    "pred_prob1 = model1.predict_proba(m_ss1)\n",
    "fpr1, tpr1, thresh1 = roc_curve(y_test,pred_prob1[:,1], pos_label=1)"
   ]
  },
  {
   "cell_type": "code",
   "execution_count": 33,
   "id": "nonprofit-survey",
   "metadata": {},
   "outputs": [
    {
     "name": "stderr",
     "output_type": "stream",
     "text": [
      "<ipython-input-33-e7d465f84cbb>:3: MatplotlibDeprecationWarning: The 's' parameter of annotate() has been renamed 'text' since Matplotlib 3.3; support for the old name will be dropped two minor releases later.\n",
      "  plt.annotate(xy=[0.7,0],s=(\"MinMax ROC \",roc_auc_score(y_test,ms_y_pred)))\n"
     ]
    },
    {
     "data": {
      "text/plain": [
       "Text(0, 0.5, 'True  Positive Rate')"
      ]
     },
     "execution_count": 33,
     "metadata": {},
     "output_type": "execute_result"
    },
    {
     "data": {
      "image/png": "[encoded data removed]",
      "text/plain": [
       "<Figure size 576x396 with 1 Axes>"
      ]
     },
     "metadata": {},
     "output_type": "display_data"
    }
   ],
   "source": [
    "plt.plot(fpr1,tpr1,linestyle=':',color='red',label='Logistic Regression')\n",
    "plt.legend(loc='best')\n",
    "plt.annotate(xy=[0.7,0],s=(\"MinMax ROC \",roc_auc_score(y_test,ms_y_pred)))\n",
    "plt.title('ROC curve')\n",
    "plt.xlabel('False Positive Rate')\n",
    "plt.ylabel('True  Positive Rate')"
   ]
  },
  {
   "cell_type": "markdown",
   "id": "controlled-stadium",
   "metadata": {},
   "source": [
    "## Step9. [Comparison with KNN classifier].\n",
    "### Create a KNN classifier with default values, fit on the scaled X using MinmaxScaler, predict and print classification metric scores."
   ]
  },
  {
   "cell_type": "code",
   "execution_count": 34,
   "id": "cardiovascular-satellite",
   "metadata": {},
   "outputs": [],
   "source": [
    "from sklearn.neighbors import KNeighborsClassifier"
   ]
  },
  {
   "cell_type": "code",
   "execution_count": 35,
   "id": "adequate-greeting",
   "metadata": {},
   "outputs": [],
   "source": [
    "model3  = KNeighborsClassifier(n_neighbors=3)"
   ]
  },
  {
   "cell_type": "code",
   "execution_count": 36,
   "id": "sitting-fifteen",
   "metadata": {},
   "outputs": [
    {
     "data": {
      "text/plain": [
       "KNeighborsClassifier(n_neighbors=3)"
      ]
     },
     "execution_count": 36,
     "metadata": {},
     "output_type": "execute_result"
    }
   ],
   "source": [
    "model3.fit(m_ss,y_train)"
   ]
  },
  {
   "cell_type": "code",
   "execution_count": 37,
   "id": "approved-marks",
   "metadata": {},
   "outputs": [
    {
     "data": {
      "text/plain": [
       "array([1, 0, 1, 0, 0, 0, 0, 0, 0, 0, 0, 0, 1, 0, 0, 0, 0, 1, 1, 1, 0, 0,\n",
       "       1, 0, 0, 0, 0, 0, 0, 0, 1, 0, 0, 0, 1, 0, 1, 0, 0, 0, 0, 1, 0, 0,\n",
       "       1, 0, 0, 1, 0, 0, 0, 0, 0, 0, 1, 0, 1, 0, 1, 1, 1, 0, 0, 0, 0, 0,\n",
       "       1, 0, 0, 0, 1, 0, 0, 0, 0, 1, 0, 0, 0, 0, 0, 0, 1, 1, 0, 1, 0, 0,\n",
       "       1, 0, 1, 1, 0, 0, 0, 0, 0, 1, 0, 0, 0, 0, 1, 1, 0, 1, 0, 0, 0, 0,\n",
       "       0, 0, 0, 0, 0, 0, 0, 0, 1, 0, 0, 0, 0, 1, 0, 0, 1, 1, 0, 1, 0, 0,\n",
       "       0, 0, 1, 0, 0, 0, 1, 0, 1, 0, 0, 1, 0, 0, 0, 0, 0, 0, 0, 1, 0, 0,\n",
       "       0, 1, 1, 1, 1, 1, 1, 0, 0, 1, 1, 0, 0, 1, 0, 0, 0, 0, 0, 0, 0, 0,\n",
       "       0, 1, 0, 0, 0, 1, 0, 0, 0, 1, 0, 0, 0, 1, 0, 0], dtype=int64)"
      ]
     },
     "execution_count": 37,
     "metadata": {},
     "output_type": "execute_result"
    }
   ],
   "source": [
    "knn_y_pred = model3.predict(m_ss1)\n",
    "knn_y_pred"
   ]
  },
  {
   "cell_type": "code",
   "execution_count": 38,
   "id": "illegal-static",
   "metadata": {},
   "outputs": [
    {
     "name": "stdout",
     "output_type": "stream",
     "text": [
      "KNN Accuracy   0.6927083333333334\n",
      "KNN Precision  0.5740740740740741\n",
      "KNN Recall     0.4626865671641791\n",
      "KNN AUC        0.6393432835820896\n"
     ]
    }
   ],
   "source": [
    "print(\"KNN Accuracy  \",accuracy_score(y_test,knn_y_pred))\n",
    "print(\"KNN Precision \",precision_score(y_test,knn_y_pred))\n",
    "print(\"KNN Recall    \",recall_score(y_test,knn_y_pred))\n",
    "print(\"KNN AUC       \",roc_auc_score(y_test,knn_y_pred))"
   ]
  },
  {
   "cell_type": "markdown",
   "id": "visible-doctor",
   "metadata": {},
   "source": [
    "## Step10. [Update ROC curve]\n",
    "### Update your ROC curve, this time, with one more curve of KNN classifier,"
   ]
  },
  {
   "cell_type": "code",
   "execution_count": 39,
   "id": "cloudy-advertising",
   "metadata": {},
   "outputs": [],
   "source": [
    "pred_prob2 = model3.predict_proba(m_ss1)\n",
    "fpr1,tpr1,thresh1 = roc_curve(y_test,pred_prob1[:,1],pos_label=1)\n",
    "fpr2,tpr2,thresh2 = roc_curve(y_test,pred_prob2[:,1],pos_label=1)"
   ]
  },
  {
   "cell_type": "code",
   "execution_count": 40,
   "id": "equipped-public",
   "metadata": {},
   "outputs": [
    {
     "name": "stderr",
     "output_type": "stream",
     "text": [
      "<ipython-input-40-52f7c67b6eff>:4: MatplotlibDeprecationWarning: The 's' parameter of annotate() has been renamed 'text' since Matplotlib 3.3; support for the old name will be dropped two minor releases later.\n",
      "  plt.annotate(xy=[0.7,0.2],s=(\"LoR ROC \",roc_auc_score(y_test,ms_y_pred)))\n",
      "<ipython-input-40-52f7c67b6eff>:5: MatplotlibDeprecationWarning: The 's' parameter of annotate() has been renamed 'text' since Matplotlib 3.3; support for the old name will be dropped two minor releases later.\n",
      "  plt.annotate(xy=[0.7,0.1],s=(\"KNN ROC \",roc_auc_score(y_test,knn_y_pred)))\n"
     ]
    },
    {
     "data": {
      "text/plain": [
       "Text(0, 0.5, 'True  Positive Rate')"
      ]
     },
     "execution_count": 40,
     "metadata": {},
     "output_type": "execute_result"
    },
    {
     "data": {
      "image/png": "[encoded data removed]",
      "text/plain": [
       "<Figure size 576x396 with 1 Axes>"
      ]
     },
     "metadata": {},
     "output_type": "display_data"
    }
   ],
   "source": [
    " plt.plot(fpr1,tpr1,linestyle='--',color='orange',label='Logistic Regression')\n",
    "plt.plot(fpr2,tpr2,linestyle='--',color='green',label='KNN')\n",
    "plt.legend(loc='best')\n",
    "plt.annotate(xy=[0.7,0.2],s=(\"LoR ROC \",roc_auc_score(y_test,ms_y_pred)))\n",
    "plt.annotate(xy=[0.7,0.1],s=(\"KNN ROC \",roc_auc_score(y_test,knn_y_pred)))\n",
    "plt.title('ROC curve')\n",
    "plt.xlabel('False Positive Rate')\n",
    "plt.ylabel('True  Positive Rate')"
   ]
  },
  {
   "cell_type": "markdown",
   "id": "prospective-development",
   "metadata": {},
   "source": [
    "## Step11. [Regularization]\n",
    "### In order to reduce overfitting of your data, you will use LogisticRegressionCV model with L1 and L2 regularization parameters. Create both models using the following statements"
   ]
  },
  {
   "cell_type": "code",
   "execution_count": 41,
   "id": "elder-application",
   "metadata": {},
   "outputs": [],
   "source": [
    "from sklearn.linear_model import LogisticRegressionCV"
   ]
  },
  {
   "cell_type": "code",
   "execution_count": 42,
   "id": "needed-botswana",
   "metadata": {},
   "outputs": [],
   "source": [
    "model4 = LogisticRegressionCV(Cs=10, cv=4, penalty='l1', solver='liblinear')\n",
    "model5 = LogisticRegressionCV(Cs=10, cv=4, penalty='l2')"
   ]
  },
  {
   "cell_type": "markdown",
   "id": "ideal-damage",
   "metadata": {},
   "source": [
    "### Perform fit using MinmaxScaler scaled values and predict"
   ]
  },
  {
   "cell_type": "code",
   "execution_count": 43,
   "id": "desirable-consequence",
   "metadata": {},
   "outputs": [
    {
     "name": "stdout",
     "output_type": "stream",
     "text": [
      "LogisticRegressionCV(cv=4, penalty='l1', solver='liblinear')\n",
      "LogisticRegressionCV(cv=4)\n"
     ]
    }
   ],
   "source": [
    "print(model4.fit(m_ss,y_train))\n",
    "print(model5.fit(m_ss,y_train))    "
   ]
  },
  {
   "cell_type": "code",
   "execution_count": 44,
   "id": "middle-marketplace",
   "metadata": {},
   "outputs": [
    {
     "name": "stdout",
     "output_type": "stream",
     "text": [
      "[1 0 1 0 0 0 0 0 0 0 0 0 1 0 0 0 0 0 0 1 0 0 0 0 0 0 0 0 0 0 1 0 0 0 0 0 0\n",
      " 0 0 0 0 0 1 0 1 0 0 1 1 0 0 0 1 0 1 0 0 0 0 1 0 0 0 0 0 0 0 1 0 0 1 0 0 0\n",
      " 0 1 1 0 0 0 0 0 1 0 0 1 0 0 1 0 1 1 0 0 0 0 1 0 0 0 0 1 1 1 0 1 0 0 0 0 0\n",
      " 0 0 0 0 0 0 0 1 1 0 0 0 1 0 0 1 0 0 0 0 0 0 0 1 0 0 0 1 0 1 0 0 1 0 0 0 0\n",
      " 0 0 0 0 0 0 0 0 1 1 1 1 0 0 1 0 1 0 1 0 0 0 0 1 0 0 0 0 0 0 0 1 1 0 0 1 0\n",
      " 0 0 0 1 1 0 1]\n",
      "\n",
      "\n",
      "\n",
      "[1 0 1 0 0 0 0 0 0 0 0 0 1 0 0 0 0 0 0 1 0 0 0 0 0 0 0 0 0 0 1 0 0 0 0 0 0\n",
      " 0 0 0 0 0 1 0 1 0 0 1 1 0 0 0 1 0 1 0 0 0 0 1 0 0 0 0 0 0 0 0 0 0 1 0 0 0\n",
      " 0 1 1 0 0 0 0 0 1 0 0 1 0 0 1 0 1 1 0 0 0 0 1 0 0 0 0 1 1 1 0 1 0 0 0 0 0\n",
      " 0 0 0 0 1 0 0 1 1 0 0 0 1 0 0 1 0 0 0 0 0 0 0 1 0 0 0 1 0 1 0 0 1 0 0 0 0\n",
      " 0 0 0 0 0 0 0 0 1 1 1 1 0 0 1 0 1 0 1 0 0 0 0 0 0 0 0 0 0 0 0 1 1 0 0 1 0\n",
      " 0 0 0 1 1 0 1]\n"
     ]
    }
   ],
   "source": [
    "lr_y_pred1=model4.predict(m_ss1)\n",
    "lr_y_pred2=model5.predict(m_ss1)\n",
    "print(lr_y_pred1)\n",
    "print(\"\\n\\n\")\n",
    "print(lr_y_pred2)"
   ]
  },
  {
   "cell_type": "code",
   "execution_count": 45,
   "id": "excessive-child",
   "metadata": {},
   "outputs": [
    {
     "name": "stdout",
     "output_type": "stream",
     "text": [
      "LoR_CV L1 AUC:   0.7321194029850747\n",
      "LoR_CV L2 AUC:   0.7361194029850746\n"
     ]
    }
   ],
   "source": [
    "print(\"LoR_CV L1 AUC:  \",roc_auc_score(y_test,lr_y_pred1))\n",
    "print(\"LoR_CV L2 AUC:  \",roc_auc_score(y_test,lr_y_pred2))"
   ]
  },
  {
   "cell_type": "markdown",
   "id": "broad-boulder",
   "metadata": {},
   "source": [
    "## Step12. [Update ROC curve]\n",
    "### Update your ROC curve, this time, with two more curves"
   ]
  },
  {
   "cell_type": "code",
   "execution_count": 46,
   "id": "identified-ecuador",
   "metadata": {},
   "outputs": [],
   "source": [
    "pred_prob3 = model4.predict_proba(m_ss1)\n",
    "pred_prob4 = model5.predict_proba(m_ss1)\n",
    "fpr1,tpr1,thresh1 = roc_curve(y_test, pred_prob1[:,1], pos_label=1)\n",
    "fpr2,tpr2,thresh2 = roc_curve(y_test, pred_prob2[:,1], pos_label=1)\n",
    "fpr3,tpr3,thresh3 = roc_curve(y_test, pred_prob3[:,1], pos_label=1)\n",
    "fpr4,tpr4,thresh4 = roc_curve(y_test, pred_prob4[:,1], pos_label=1)"
   ]
  },
  {
   "cell_type": "code",
   "execution_count": 47,
   "id": "acting-interest",
   "metadata": {},
   "outputs": [
    {
     "name": "stderr",
     "output_type": "stream",
     "text": [
      "<ipython-input-47-7f7649d528f4>:5: MatplotlibDeprecationWarning: The 's' parameter of annotate() has been renamed 'text' since Matplotlib 3.3; support for the old name will be dropped two minor releases later.\n",
      "  plt.annotate(xy=[0.6,0.6],s=(\"LoR ROC \",roc_auc_score(y_test,ms_y_pred)))\n",
      "<ipython-input-47-7f7649d528f4>:6: MatplotlibDeprecationWarning: The 's' parameter of annotate() has been renamed 'text' since Matplotlib 3.3; support for the old name will be dropped two minor releases later.\n",
      "  plt.annotate(xy=[0.6,0.5],s=(\"KNN ROC \",roc_auc_score(y_test,knn_y_pred)))\n",
      "<ipython-input-47-7f7649d528f4>:7: MatplotlibDeprecationWarning: The 's' parameter of annotate() has been renamed 'text' since Matplotlib 3.3; support for the old name will be dropped two minor releases later.\n",
      "  plt.annotate(xy=[0.6,0.4],s=(\"LoR L1 ROC \",roc_auc_score(y_test,lr_y_pred1)))\n",
      "<ipython-input-47-7f7649d528f4>:8: MatplotlibDeprecationWarning: The 's' parameter of annotate() has been renamed 'text' since Matplotlib 3.3; support for the old name will be dropped two minor releases later.\n",
      "  plt.annotate(xy=[0.6,0.3],s=(\"LoR L2 ROC \",roc_auc_score(y_test,lr_y_pred2)))\n"
     ]
    },
    {
     "data": {
      "text/plain": [
       "Text(0, 0.5, 'True  Positive Rate')"
      ]
     },
     "execution_count": 47,
     "metadata": {},
     "output_type": "execute_result"
    },
    {
     "data": {
      "image/png": "[encoded data removed]",
      "text/plain": [
       "<Figure size 576x396 with 1 Axes>"
      ]
     },
     "metadata": {},
     "output_type": "display_data"
    }
   ],
   "source": [
    "plt.plot(fpr1,tpr1,linestyle='--',color='orange', label='Logistic Regression')\n",
    "plt.plot(fpr2,tpr2,linestyle='--',color='green', label='KNN')\n",
    "plt.plot(fpr3,tpr3,linestyle='--',color='red', label='LoR L1')\n",
    "plt.plot(fpr4,tpr4,linestyle='--',color='blue', label='LoR L2')\n",
    "plt.annotate(xy=[0.6,0.6],s=(\"LoR ROC \",roc_auc_score(y_test,ms_y_pred)))\n",
    "plt.annotate(xy=[0.6,0.5],s=(\"KNN ROC \",roc_auc_score(y_test,knn_y_pred)))\n",
    "plt.annotate(xy=[0.6,0.4],s=(\"LoR L1 ROC \",roc_auc_score(y_test,lr_y_pred1)))\n",
    "plt.annotate(xy=[0.6,0.3],s=(\"LoR L2 ROC \",roc_auc_score(y_test,lr_y_pred2)))\n",
    "plt.legend(loc='best')\n",
    "plt.title('ROC curve')\n",
    "plt.xlabel('False Positive Rate')\n",
    "plt.ylabel('True  Positive Rate')"
   ]
  }
 ],
 "metadata": {
  "kernelspec": {
   "display_name": "Python 3",
   "language": "python",
   "name": "python3"
  },
  "language_info": {
   "codemirror_mode": {
    "name": "ipython",
    "version": 3
   },
   "file_extension": ".py",
   "mimetype": "text/x-python",
   "name": "python",
   "nbconvert_exporter": "python",
   "pygments_lexer": "ipython3",
   "version": "3.9.1"
  }
 },
 "nbformat": 4,
 "nbformat_minor": 5
}
