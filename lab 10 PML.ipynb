{
 "cells": [
  {
   "cell_type": "markdown",
   "metadata": {
    "id": "zLoloMcGyIOf"
   },
   "source": [
    "### Lab10. Patients Physical Activities Prediction using Boosting"
   ]
  },
  {
   "cell_type": "code",
   "execution_count": 1,
   "metadata": {
    "id": "GNVl0-miyJZt"
   },
   "outputs": [],
   "source": [
    "import pandas as pd\n",
    "import warnings\n",
    "warnings.filterwarnings('ignore')\n",
    "from sklearn.metrics import accuracy_score,classification_report\n",
    "from sklearn.ensemble import GradientBoostingClassifier,AdaBoostClassifier,RandomForestClassifier, VotingClassifier\n",
    "from sklearn.linear_model import LogisticRegressionCV\n",
    "from sklearn.model_selection import train_test_split,GridSearchCV,cross_val_score\n",
    "from sklearn.tree import DecisionTreeClassifier"
   ]
  },
  {
   "cell_type": "markdown",
   "metadata": {
    "id": "x7aCji7TyfxD"
   },
   "source": [
    "### Step 1 [Understand Data]"
   ]
  },
  {
   "cell_type": "code",
   "execution_count": 2,
   "metadata": {
    "id": "5U4HomriydLE"
   },
   "outputs": [],
   "source": [
    "df = pd.read_csv(\"human_activity_clipped.csv\")"
   ]
  },
  {
   "cell_type": "code",
   "execution_count": 3,
   "metadata": {
    "colab": {
     "base_uri": "https://localhost:8080/",
     "height": 278
    },
    "id": "2gvh2-Pwy5v_",
    "outputId": "43a1f729-5243-488f-b0ef-6f07d58ed212"
   },
   "outputs": [
    {
     "data": {
      "text/html": [
       "<div>\n",
       "<style scoped>\n",
       "    .dataframe tbody tr th:only-of-type {\n",
       "        vertical-align: middle;\n",
       "    }\n",
       "\n",
       "    .dataframe tbody tr th {\n",
       "        vertical-align: top;\n",
       "    }\n",
       "\n",
       "    .dataframe thead th {\n",
       "        text-align: right;\n",
       "    }\n",
       "</style>\n",
       "<table border=\"1\" class=\"dataframe\">\n",
       "  <thead>\n",
       "    <tr style=\"text-align: right;\">\n",
       "      <th></th>\n",
       "      <th>Unnamed: 0</th>\n",
       "      <th>tBodyAcc-mean()-X</th>\n",
       "      <th>tBodyAcc-mean()-Y</th>\n",
       "      <th>tBodyAcc-mean()-Z</th>\n",
       "      <th>tBodyAcc-std()-X</th>\n",
       "      <th>tBodyAcc-std()-Y</th>\n",
       "      <th>tBodyAcc-std()-Z</th>\n",
       "      <th>tBodyAcc-mad()-X</th>\n",
       "      <th>tBodyAcc-mad()-Y</th>\n",
       "      <th>tBodyAcc-mad()-Z</th>\n",
       "      <th>...</th>\n",
       "      <th>fBodyBodyGyroJerkMag-skewness()</th>\n",
       "      <th>fBodyBodyGyroJerkMag-kurtosis()</th>\n",
       "      <th>angle(tBodyAccMean,gravity)</th>\n",
       "      <th>angle(tBodyAccJerkMean),gravityMean)</th>\n",
       "      <th>angle(tBodyGyroMean,gravityMean)</th>\n",
       "      <th>angle(tBodyGyroJerkMean,gravityMean)</th>\n",
       "      <th>angle(X,gravityMean)</th>\n",
       "      <th>angle(Y,gravityMean)</th>\n",
       "      <th>angle(Z,gravityMean)</th>\n",
       "      <th>Activity</th>\n",
       "    </tr>\n",
       "  </thead>\n",
       "  <tbody>\n",
       "    <tr>\n",
       "      <th>0</th>\n",
       "      <td>0</td>\n",
       "      <td>0.272284</td>\n",
       "      <td>-0.017143</td>\n",
       "      <td>-0.106584</td>\n",
       "      <td>-0.984438</td>\n",
       "      <td>-0.986949</td>\n",
       "      <td>-0.985428</td>\n",
       "      <td>-0.985560</td>\n",
       "      <td>-0.985928</td>\n",
       "      <td>-0.984612</td>\n",
       "      <td>...</td>\n",
       "      <td>-0.612020</td>\n",
       "      <td>-0.891765</td>\n",
       "      <td>-0.043298</td>\n",
       "      <td>-0.173359</td>\n",
       "      <td>0.581853</td>\n",
       "      <td>-0.028842</td>\n",
       "      <td>0.533818</td>\n",
       "      <td>0.999507</td>\n",
       "      <td>-0.183528</td>\n",
       "      <td>LAYING</td>\n",
       "    </tr>\n",
       "    <tr>\n",
       "      <th>1</th>\n",
       "      <td>1</td>\n",
       "      <td>0.295983</td>\n",
       "      <td>-0.015322</td>\n",
       "      <td>-0.112112</td>\n",
       "      <td>-0.949491</td>\n",
       "      <td>-0.973776</td>\n",
       "      <td>-0.970503</td>\n",
       "      <td>-0.949401</td>\n",
       "      <td>-0.972080</td>\n",
       "      <td>-0.971777</td>\n",
       "      <td>...</td>\n",
       "      <td>0.002383</td>\n",
       "      <td>-0.481007</td>\n",
       "      <td>-0.003165</td>\n",
       "      <td>-0.081509</td>\n",
       "      <td>0.100942</td>\n",
       "      <td>-0.027632</td>\n",
       "      <td>0.441570</td>\n",
       "      <td>-0.315805</td>\n",
       "      <td>-0.681485</td>\n",
       "      <td>LAYING</td>\n",
       "    </tr>\n",
       "    <tr>\n",
       "      <th>2</th>\n",
       "      <td>2</td>\n",
       "      <td>0.300053</td>\n",
       "      <td>-0.018087</td>\n",
       "      <td>-0.108184</td>\n",
       "      <td>-0.981943</td>\n",
       "      <td>-0.982872</td>\n",
       "      <td>-0.936259</td>\n",
       "      <td>-0.982640</td>\n",
       "      <td>-0.983396</td>\n",
       "      <td>-0.938447</td>\n",
       "      <td>...</td>\n",
       "      <td>-0.551846</td>\n",
       "      <td>-0.863125</td>\n",
       "      <td>-0.020589</td>\n",
       "      <td>0.017579</td>\n",
       "      <td>0.120518</td>\n",
       "      <td>-0.163567</td>\n",
       "      <td>0.441892</td>\n",
       "      <td>-0.817761</td>\n",
       "      <td>0.178551</td>\n",
       "      <td>LAYING</td>\n",
       "    </tr>\n",
       "    <tr>\n",
       "      <th>3</th>\n",
       "      <td>3</td>\n",
       "      <td>0.279295</td>\n",
       "      <td>-0.017524</td>\n",
       "      <td>-0.109860</td>\n",
       "      <td>-0.972667</td>\n",
       "      <td>-0.991136</td>\n",
       "      <td>-0.981223</td>\n",
       "      <td>-0.971652</td>\n",
       "      <td>-0.990865</td>\n",
       "      <td>-0.980863</td>\n",
       "      <td>...</td>\n",
       "      <td>-0.587825</td>\n",
       "      <td>-0.880670</td>\n",
       "      <td>0.518345</td>\n",
       "      <td>-0.019843</td>\n",
       "      <td>0.654278</td>\n",
       "      <td>-0.552475</td>\n",
       "      <td>0.528955</td>\n",
       "      <td>-0.492714</td>\n",
       "      <td>-0.511868</td>\n",
       "      <td>LAYING</td>\n",
       "    </tr>\n",
       "    <tr>\n",
       "      <th>4</th>\n",
       "      <td>4</td>\n",
       "      <td>0.265142</td>\n",
       "      <td>-0.069291</td>\n",
       "      <td>-0.027058</td>\n",
       "      <td>-0.884655</td>\n",
       "      <td>-0.754350</td>\n",
       "      <td>-0.798074</td>\n",
       "      <td>-0.900493</td>\n",
       "      <td>-0.749072</td>\n",
       "      <td>-0.787325</td>\n",
       "      <td>...</td>\n",
       "      <td>0.009777</td>\n",
       "      <td>-0.483548</td>\n",
       "      <td>-0.007532</td>\n",
       "      <td>-0.004246</td>\n",
       "      <td>-0.173846</td>\n",
       "      <td>0.348528</td>\n",
       "      <td>0.633505</td>\n",
       "      <td>-0.433927</td>\n",
       "      <td>-0.574650</td>\n",
       "      <td>LAYING</td>\n",
       "    </tr>\n",
       "  </tbody>\n",
       "</table>\n",
       "<p>5 rows × 563 columns</p>\n",
       "</div>"
      ],
      "text/plain": [
       "   Unnamed: 0  tBodyAcc-mean()-X  tBodyAcc-mean()-Y  tBodyAcc-mean()-Z  \\\n",
       "0           0           0.272284          -0.017143          -0.106584   \n",
       "1           1           0.295983          -0.015322          -0.112112   \n",
       "2           2           0.300053          -0.018087          -0.108184   \n",
       "3           3           0.279295          -0.017524          -0.109860   \n",
       "4           4           0.265142          -0.069291          -0.027058   \n",
       "\n",
       "   tBodyAcc-std()-X  tBodyAcc-std()-Y  tBodyAcc-std()-Z  tBodyAcc-mad()-X  \\\n",
       "0         -0.984438         -0.986949         -0.985428         -0.985560   \n",
       "1         -0.949491         -0.973776         -0.970503         -0.949401   \n",
       "2         -0.981943         -0.982872         -0.936259         -0.982640   \n",
       "3         -0.972667         -0.991136         -0.981223         -0.971652   \n",
       "4         -0.884655         -0.754350         -0.798074         -0.900493   \n",
       "\n",
       "   tBodyAcc-mad()-Y  tBodyAcc-mad()-Z  ...  fBodyBodyGyroJerkMag-skewness()  \\\n",
       "0         -0.985928         -0.984612  ...                        -0.612020   \n",
       "1         -0.972080         -0.971777  ...                         0.002383   \n",
       "2         -0.983396         -0.938447  ...                        -0.551846   \n",
       "3         -0.990865         -0.980863  ...                        -0.587825   \n",
       "4         -0.749072         -0.787325  ...                         0.009777   \n",
       "\n",
       "   fBodyBodyGyroJerkMag-kurtosis()  angle(tBodyAccMean,gravity)  \\\n",
       "0                        -0.891765                    -0.043298   \n",
       "1                        -0.481007                    -0.003165   \n",
       "2                        -0.863125                    -0.020589   \n",
       "3                        -0.880670                     0.518345   \n",
       "4                        -0.483548                    -0.007532   \n",
       "\n",
       "   angle(tBodyAccJerkMean),gravityMean)  angle(tBodyGyroMean,gravityMean)  \\\n",
       "0                             -0.173359                          0.581853   \n",
       "1                             -0.081509                          0.100942   \n",
       "2                              0.017579                          0.120518   \n",
       "3                             -0.019843                          0.654278   \n",
       "4                             -0.004246                         -0.173846   \n",
       "\n",
       "   angle(tBodyGyroJerkMean,gravityMean)  angle(X,gravityMean)  \\\n",
       "0                             -0.028842              0.533818   \n",
       "1                             -0.027632              0.441570   \n",
       "2                             -0.163567              0.441892   \n",
       "3                             -0.552475              0.528955   \n",
       "4                              0.348528              0.633505   \n",
       "\n",
       "   angle(Y,gravityMean)  angle(Z,gravityMean)  Activity  \n",
       "0              0.999507             -0.183528    LAYING  \n",
       "1             -0.315805             -0.681485    LAYING  \n",
       "2             -0.817761              0.178551    LAYING  \n",
       "3             -0.492714             -0.511868    LAYING  \n",
       "4             -0.433927             -0.574650    LAYING  \n",
       "\n",
       "[5 rows x 563 columns]"
      ]
     },
     "execution_count": 3,
     "metadata": {},
     "output_type": "execute_result"
    }
   ],
   "source": [
    "df.head()"
   ]
  },
  {
   "cell_type": "code",
   "execution_count": 4,
   "metadata": {
    "colab": {
     "base_uri": "https://localhost:8080/"
    },
    "id": "_VcCBkgny8lT",
    "outputId": "2f960986-7a10-47fc-ddf6-ea323bf84405"
   },
   "outputs": [
    {
     "data": {
      "text/plain": [
       "Index(['Unnamed: 0', 'tBodyAcc-mean()-X', 'tBodyAcc-mean()-Y',\n",
       "       'tBodyAcc-mean()-Z', 'tBodyAcc-std()-X', 'tBodyAcc-std()-Y',\n",
       "       'tBodyAcc-std()-Z', 'tBodyAcc-mad()-X', 'tBodyAcc-mad()-Y',\n",
       "       'tBodyAcc-mad()-Z',\n",
       "       ...\n",
       "       'fBodyBodyGyroJerkMag-skewness()', 'fBodyBodyGyroJerkMag-kurtosis()',\n",
       "       'angle(tBodyAccMean,gravity)', 'angle(tBodyAccJerkMean),gravityMean)',\n",
       "       'angle(tBodyGyroMean,gravityMean)',\n",
       "       'angle(tBodyGyroJerkMean,gravityMean)', 'angle(X,gravityMean)',\n",
       "       'angle(Y,gravityMean)', 'angle(Z,gravityMean)', 'Activity'],\n",
       "      dtype='object', length=563)"
      ]
     },
     "execution_count": 4,
     "metadata": {},
     "output_type": "execute_result"
    }
   ],
   "source": [
    "df.columns"
   ]
  },
  {
   "cell_type": "code",
   "execution_count": 5,
   "metadata": {
    "colab": {
     "base_uri": "https://localhost:8080/"
    },
    "id": "3KxaEzdsy-2C",
    "outputId": "213e7db1-71f5-4742-8a26-3f67706f4ee5"
   },
   "outputs": [
    {
     "data": {
      "text/plain": [
       "(1500, 563)"
      ]
     },
     "execution_count": 5,
     "metadata": {},
     "output_type": "execute_result"
    }
   ],
   "source": [
    "df.shape"
   ]
  },
  {
   "cell_type": "code",
   "execution_count": 6,
   "metadata": {
    "colab": {
     "base_uri": "https://localhost:8080/"
    },
    "id": "HtaCpgNczCf_",
    "outputId": "ab2834e9-35f1-4e7b-ce41-a22546482c82"
   },
   "outputs": [
    {
     "data": {
      "text/plain": [
       "Unnamed: 0                                int64\n",
       "tBodyAcc-mean()-X                       float64\n",
       "tBodyAcc-mean()-Y                       float64\n",
       "tBodyAcc-mean()-Z                       float64\n",
       "tBodyAcc-std()-X                        float64\n",
       "                                         ...   \n",
       "angle(tBodyGyroJerkMean,gravityMean)    float64\n",
       "angle(X,gravityMean)                    float64\n",
       "angle(Y,gravityMean)                    float64\n",
       "angle(Z,gravityMean)                    float64\n",
       "Activity                                 object\n",
       "Length: 563, dtype: object"
      ]
     },
     "execution_count": 6,
     "metadata": {},
     "output_type": "execute_result"
    }
   ],
   "source": [
    "df.dtypes"
   ]
  },
  {
   "cell_type": "code",
   "execution_count": 7,
   "metadata": {
    "colab": {
     "base_uri": "https://localhost:8080/"
    },
    "id": "Wg0Yk5XtzELB",
    "outputId": "ab4d75b8-8b36-42e8-a0b9-131a622137ac"
   },
   "outputs": [
    {
     "name": "stdout",
     "output_type": "stream",
     "text": [
      "<class 'pandas.core.frame.DataFrame'>\n",
      "RangeIndex: 1500 entries, 0 to 1499\n",
      "Columns: 563 entries, Unnamed: 0 to Activity\n",
      "dtypes: float64(561), int64(1), object(1)\n",
      "memory usage: 6.4+ MB\n"
     ]
    }
   ],
   "source": [
    "df.info()"
   ]
  },
  {
   "cell_type": "code",
   "execution_count": 8,
   "metadata": {
    "colab": {
     "base_uri": "https://localhost:8080/"
    },
    "id": "OoHdP8Z5zLby",
    "outputId": "efccd3bb-94e9-48fb-cf7a-c7b8f0a094aa",
    "scrolled": false
   },
   "outputs": [
    {
     "data": {
      "text/plain": [
       "Unnamed: 0  tBodyAcc-mean()-X  tBodyAcc-mean()-Y  tBodyAcc-mean()-Z  tBodyAcc-std()-X  tBodyAcc-std()-Y  tBodyAcc-std()-Z  tBodyAcc-mad()-X  tBodyAcc-mad()-Y  tBodyAcc-mad()-Z  tBodyAcc-max()-X  tBodyAcc-max()-Y  tBodyAcc-max()-Z  tBodyAcc-min()-X  tBodyAcc-min()-Y  tBodyAcc-min()-Z  tBodyAcc-sma()  tBodyAcc-energy()-X  tBodyAcc-energy()-Y  tBodyAcc-energy()-Z  tBodyAcc-iqr()-X  tBodyAcc-iqr()-Y  tBodyAcc-iqr()-Z  tBodyAcc-entropy()-X  tBodyAcc-entropy()-Y  tBodyAcc-entropy()-Z  tBodyAcc-arCoeff()-X,1  tBodyAcc-arCoeff()-X,2  tBodyAcc-arCoeff()-X,3  tBodyAcc-arCoeff()-X,4  tBodyAcc-arCoeff()-Y,1  tBodyAcc-arCoeff()-Y,2  tBodyAcc-arCoeff()-Y,3  tBodyAcc-arCoeff()-Y,4  tBodyAcc-arCoeff()-Z,1  tBodyAcc-arCoeff()-Z,2  tBodyAcc-arCoeff()-Z,3  tBodyAcc-arCoeff()-Z,4  tBodyAcc-correlation()-X,Y  tBodyAcc-correlation()-X,Z  tBodyAcc-correlation()-Y,Z  tGravityAcc-mean()-X  tGravityAcc-mean()-Y  tGravityAcc-mean()-Z  tGravityAcc-std()-X  tGravityAcc-std()-Y  tGravityAcc-std()-Z  tGravityAcc-mad()-X  tGravityAcc-mad()-Y  tGravityAcc-mad()-Z  tGravityAcc-max()-X  tGravityAcc-max()-Y  tGravityAcc-max()-Z  tGravityAcc-min()-X  tGravityAcc-min()-Y  tGravityAcc-min()-Z  tGravityAcc-sma()  tGravityAcc-energy()-X  tGravityAcc-energy()-Y  tGravityAcc-energy()-Z  tGravityAcc-iqr()-X  tGravityAcc-iqr()-Y  tGravityAcc-iqr()-Z  tGravityAcc-entropy()-X  tGravityAcc-entropy()-Y  tGravityAcc-entropy()-Z  tGravityAcc-arCoeff()-X,1  tGravityAcc-arCoeff()-X,2  tGravityAcc-arCoeff()-X,3  tGravityAcc-arCoeff()-X,4  tGravityAcc-arCoeff()-Y,1  tGravityAcc-arCoeff()-Y,2  tGravityAcc-arCoeff()-Y,3  tGravityAcc-arCoeff()-Y,4  tGravityAcc-arCoeff()-Z,1  tGravityAcc-arCoeff()-Z,2  tGravityAcc-arCoeff()-Z,3  tGravityAcc-arCoeff()-Z,4  tGravityAcc-correlation()-X,Y  tGravityAcc-correlation()-X,Z  tGravityAcc-correlation()-Y,Z  tBodyAccJerk-mean()-X  tBodyAccJerk-mean()-Y  tBodyAccJerk-mean()-Z  tBodyAccJerk-std()-X  tBodyAccJerk-std()-Y  tBodyAccJerk-std()-Z  tBodyAccJerk-mad()-X  tBodyAccJerk-mad()-Y  tBodyAccJerk-mad()-Z  tBodyAccJerk-max()-X  tBodyAccJerk-max()-Y  tBodyAccJerk-max()-Z  tBodyAccJerk-min()-X  tBodyAccJerk-min()-Y  tBodyAccJerk-min()-Z  tBodyAccJerk-sma()  tBodyAccJerk-energy()-X  tBodyAccJerk-energy()-Y  tBodyAccJerk-energy()-Z  tBodyAccJerk-iqr()-X  tBodyAccJerk-iqr()-Y  tBodyAccJerk-iqr()-Z  tBodyAccJerk-entropy()-X  tBodyAccJerk-entropy()-Y  tBodyAccJerk-entropy()-Z  tBodyAccJerk-arCoeff()-X,1  tBodyAccJerk-arCoeff()-X,2  tBodyAccJerk-arCoeff()-X,3  tBodyAccJerk-arCoeff()-X,4  tBodyAccJerk-arCoeff()-Y,1  tBodyAccJerk-arCoeff()-Y,2  tBodyAccJerk-arCoeff()-Y,3  tBodyAccJerk-arCoeff()-Y,4  tBodyAccJerk-arCoeff()-Z,1  tBodyAccJerk-arCoeff()-Z,2  tBodyAccJerk-arCoeff()-Z,3  tBodyAccJerk-arCoeff()-Z,4  tBodyAccJerk-correlation()-X,Y  tBodyAccJerk-correlation()-X,Z  tBodyAccJerk-correlation()-Y,Z  tBodyGyro-mean()-X  tBodyGyro-mean()-Y  tBodyGyro-mean()-Z  tBodyGyro-std()-X  tBodyGyro-std()-Y  tBodyGyro-std()-Z  tBodyGyro-mad()-X  tBodyGyro-mad()-Y  tBodyGyro-mad()-Z  tBodyGyro-max()-X  tBodyGyro-max()-Y  tBodyGyro-max()-Z  tBodyGyro-min()-X  tBodyGyro-min()-Y  tBodyGyro-min()-Z  tBodyGyro-sma()  tBodyGyro-energy()-X  tBodyGyro-energy()-Y  tBodyGyro-energy()-Z  tBodyGyro-iqr()-X  tBodyGyro-iqr()-Y  tBodyGyro-iqr()-Z  tBodyGyro-entropy()-X  tBodyGyro-entropy()-Y  tBodyGyro-entropy()-Z  tBodyGyro-arCoeff()-X,1  tBodyGyro-arCoeff()-X,2  tBodyGyro-arCoeff()-X,3  tBodyGyro-arCoeff()-X,4  tBodyGyro-arCoeff()-Y,1  tBodyGyro-arCoeff()-Y,2  tBodyGyro-arCoeff()-Y,3  tBodyGyro-arCoeff()-Y,4  tBodyGyro-arCoeff()-Z,1  tBodyGyro-arCoeff()-Z,2  tBodyGyro-arCoeff()-Z,3  tBodyGyro-arCoeff()-Z,4  tBodyGyro-correlation()-X,Y  tBodyGyro-correlation()-X,Z  tBodyGyro-correlation()-Y,Z  tBodyGyroJerk-mean()-X  tBodyGyroJerk-mean()-Y  tBodyGyroJerk-mean()-Z  tBodyGyroJerk-std()-X  tBodyGyroJerk-std()-Y  tBodyGyroJerk-std()-Z  tBodyGyroJerk-mad()-X  tBodyGyroJerk-mad()-Y  tBodyGyroJerk-mad()-Z  tBodyGyroJerk-max()-X  tBodyGyroJerk-max()-Y  tBodyGyroJerk-max()-Z  tBodyGyroJerk-min()-X  tBodyGyroJerk-min()-Y  tBodyGyroJerk-min()-Z  tBodyGyroJerk-sma()  tBodyGyroJerk-energy()-X  tBodyGyroJerk-energy()-Y  tBodyGyroJerk-energy()-Z  tBodyGyroJerk-iqr()-X  tBodyGyroJerk-iqr()-Y  tBodyGyroJerk-iqr()-Z  tBodyGyroJerk-entropy()-X  tBodyGyroJerk-entropy()-Y  tBodyGyroJerk-entropy()-Z  tBodyGyroJerk-arCoeff()-X,1  tBodyGyroJerk-arCoeff()-X,2  tBodyGyroJerk-arCoeff()-X,3  tBodyGyroJerk-arCoeff()-X,4  tBodyGyroJerk-arCoeff()-Y,1  tBodyGyroJerk-arCoeff()-Y,2  tBodyGyroJerk-arCoeff()-Y,3  tBodyGyroJerk-arCoeff()-Y,4  tBodyGyroJerk-arCoeff()-Z,1  tBodyGyroJerk-arCoeff()-Z,2  tBodyGyroJerk-arCoeff()-Z,3  tBodyGyroJerk-arCoeff()-Z,4  tBodyGyroJerk-correlation()-X,Y  tBodyGyroJerk-correlation()-X,Z  tBodyGyroJerk-correlation()-Y,Z  tBodyAccMag-mean()  tBodyAccMag-std()  tBodyAccMag-mad()  tBodyAccMag-max()  tBodyAccMag-min()  tBodyAccMag-sma()  tBodyAccMag-energy()  tBodyAccMag-iqr()  tBodyAccMag-entropy()  tBodyAccMag-arCoeff()1  tBodyAccMag-arCoeff()2  tBodyAccMag-arCoeff()3  tBodyAccMag-arCoeff()4  tGravityAccMag-mean()  tGravityAccMag-std()  tGravityAccMag-mad()  tGravityAccMag-max()  tGravityAccMag-min()  tGravityAccMag-sma()  tGravityAccMag-energy()  tGravityAccMag-iqr()  tGravityAccMag-entropy()  tGravityAccMag-arCoeff()1  tGravityAccMag-arCoeff()2  tGravityAccMag-arCoeff()3  tGravityAccMag-arCoeff()4  tBodyAccJerkMag-mean()  tBodyAccJerkMag-std()  tBodyAccJerkMag-mad()  tBodyAccJerkMag-max()  tBodyAccJerkMag-min()  tBodyAccJerkMag-sma()  tBodyAccJerkMag-energy()  tBodyAccJerkMag-iqr()  tBodyAccJerkMag-entropy()  tBodyAccJerkMag-arCoeff()1  tBodyAccJerkMag-arCoeff()2  tBodyAccJerkMag-arCoeff()3  tBodyAccJerkMag-arCoeff()4  tBodyGyroMag-mean()  tBodyGyroMag-std()  tBodyGyroMag-mad()  tBodyGyroMag-max()  tBodyGyroMag-min()  tBodyGyroMag-sma()  tBodyGyroMag-energy()  tBodyGyroMag-iqr()  tBodyGyroMag-entropy()  tBodyGyroMag-arCoeff()1  tBodyGyroMag-arCoeff()2  tBodyGyroMag-arCoeff()3  tBodyGyroMag-arCoeff()4  tBodyGyroJerkMag-mean()  tBodyGyroJerkMag-std()  tBodyGyroJerkMag-mad()  tBodyGyroJerkMag-max()  tBodyGyroJerkMag-min()  tBodyGyroJerkMag-sma()  tBodyGyroJerkMag-energy()  tBodyGyroJerkMag-iqr()  tBodyGyroJerkMag-entropy()  tBodyGyroJerkMag-arCoeff()1  tBodyGyroJerkMag-arCoeff()2  tBodyGyroJerkMag-arCoeff()3  tBodyGyroJerkMag-arCoeff()4  fBodyAcc-mean()-X  fBodyAcc-mean()-Y  fBodyAcc-mean()-Z  fBodyAcc-std()-X  fBodyAcc-std()-Y  fBodyAcc-std()-Z  fBodyAcc-mad()-X  fBodyAcc-mad()-Y  fBodyAcc-mad()-Z  fBodyAcc-max()-X  fBodyAcc-max()-Y  fBodyAcc-max()-Z  fBodyAcc-min()-X  fBodyAcc-min()-Y  fBodyAcc-min()-Z  fBodyAcc-sma()  fBodyAcc-energy()-X  fBodyAcc-energy()-Y  fBodyAcc-energy()-Z  fBodyAcc-iqr()-X  fBodyAcc-iqr()-Y  fBodyAcc-iqr()-Z  fBodyAcc-entropy()-X  fBodyAcc-entropy()-Y  fBodyAcc-entropy()-Z  fBodyAcc-maxInds-X  fBodyAcc-maxInds-Y  fBodyAcc-maxInds-Z  fBodyAcc-meanFreq()-X  fBodyAcc-meanFreq()-Y  fBodyAcc-meanFreq()-Z  fBodyAcc-skewness()-X  fBodyAcc-kurtosis()-X  fBodyAcc-skewness()-Y  fBodyAcc-kurtosis()-Y  fBodyAcc-skewness()-Z  fBodyAcc-kurtosis()-Z  fBodyAcc-bandsEnergy()-1,8  fBodyAcc-bandsEnergy()-9,16  fBodyAcc-bandsEnergy()-17,24  fBodyAcc-bandsEnergy()-25,32  fBodyAcc-bandsEnergy()-33,40  fBodyAcc-bandsEnergy()-41,48  fBodyAcc-bandsEnergy()-49,56  fBodyAcc-bandsEnergy()-57,64  fBodyAcc-bandsEnergy()-1,16  fBodyAcc-bandsEnergy()-17,32  fBodyAcc-bandsEnergy()-33,48  fBodyAcc-bandsEnergy()-49,64  fBodyAcc-bandsEnergy()-1,24  fBodyAcc-bandsEnergy()-25,48  fBodyAcc-bandsEnergy()-1,8.1  fBodyAcc-bandsEnergy()-9,16.1  fBodyAcc-bandsEnergy()-17,24.1  fBodyAcc-bandsEnergy()-25,32.1  fBodyAcc-bandsEnergy()-33,40.1  fBodyAcc-bandsEnergy()-41,48.1  fBodyAcc-bandsEnergy()-49,56.1  fBodyAcc-bandsEnergy()-57,64.1  fBodyAcc-bandsEnergy()-1,16.1  fBodyAcc-bandsEnergy()-17,32.1  fBodyAcc-bandsEnergy()-33,48.1  fBodyAcc-bandsEnergy()-49,64.1  fBodyAcc-bandsEnergy()-1,24.1  fBodyAcc-bandsEnergy()-25,48.1  fBodyAcc-bandsEnergy()-1,8.2  fBodyAcc-bandsEnergy()-9,16.2  fBodyAcc-bandsEnergy()-17,24.2  fBodyAcc-bandsEnergy()-25,32.2  fBodyAcc-bandsEnergy()-33,40.2  fBodyAcc-bandsEnergy()-41,48.2  fBodyAcc-bandsEnergy()-49,56.2  fBodyAcc-bandsEnergy()-57,64.2  fBodyAcc-bandsEnergy()-1,16.2  fBodyAcc-bandsEnergy()-17,32.2  fBodyAcc-bandsEnergy()-33,48.2  fBodyAcc-bandsEnergy()-49,64.2  fBodyAcc-bandsEnergy()-1,24.2  fBodyAcc-bandsEnergy()-25,48.2  fBodyAccJerk-mean()-X  fBodyAccJerk-mean()-Y  fBodyAccJerk-mean()-Z  fBodyAccJerk-std()-X  fBodyAccJerk-std()-Y  fBodyAccJerk-std()-Z  fBodyAccJerk-mad()-X  fBodyAccJerk-mad()-Y  fBodyAccJerk-mad()-Z  fBodyAccJerk-max()-X  fBodyAccJerk-max()-Y  fBodyAccJerk-max()-Z  fBodyAccJerk-min()-X  fBodyAccJerk-min()-Y  fBodyAccJerk-min()-Z  fBodyAccJerk-sma()  fBodyAccJerk-energy()-X  fBodyAccJerk-energy()-Y  fBodyAccJerk-energy()-Z  fBodyAccJerk-iqr()-X  fBodyAccJerk-iqr()-Y  fBodyAccJerk-iqr()-Z  fBodyAccJerk-entropy()-X  fBodyAccJerk-entropy()-Y  fBodyAccJerk-entropy()-Z  fBodyAccJerk-maxInds-X  fBodyAccJerk-maxInds-Y  fBodyAccJerk-maxInds-Z  fBodyAccJerk-meanFreq()-X  fBodyAccJerk-meanFreq()-Y  fBodyAccJerk-meanFreq()-Z  fBodyAccJerk-skewness()-X  fBodyAccJerk-kurtosis()-X  fBodyAccJerk-skewness()-Y  fBodyAccJerk-kurtosis()-Y  fBodyAccJerk-skewness()-Z  fBodyAccJerk-kurtosis()-Z  fBodyAccJerk-bandsEnergy()-1,8  fBodyAccJerk-bandsEnergy()-9,16  fBodyAccJerk-bandsEnergy()-17,24  fBodyAccJerk-bandsEnergy()-25,32  fBodyAccJerk-bandsEnergy()-33,40  fBodyAccJerk-bandsEnergy()-41,48  fBodyAccJerk-bandsEnergy()-49,56  fBodyAccJerk-bandsEnergy()-57,64  fBodyAccJerk-bandsEnergy()-1,16  fBodyAccJerk-bandsEnergy()-17,32  fBodyAccJerk-bandsEnergy()-33,48  fBodyAccJerk-bandsEnergy()-49,64  fBodyAccJerk-bandsEnergy()-1,24  fBodyAccJerk-bandsEnergy()-25,48  fBodyAccJerk-bandsEnergy()-1,8.1  fBodyAccJerk-bandsEnergy()-9,16.1  fBodyAccJerk-bandsEnergy()-17,24.1  fBodyAccJerk-bandsEnergy()-25,32.1  fBodyAccJerk-bandsEnergy()-33,40.1  fBodyAccJerk-bandsEnergy()-41,48.1  fBodyAccJerk-bandsEnergy()-49,56.1  fBodyAccJerk-bandsEnergy()-57,64.1  fBodyAccJerk-bandsEnergy()-1,16.1  fBodyAccJerk-bandsEnergy()-17,32.1  fBodyAccJerk-bandsEnergy()-33,48.1  fBodyAccJerk-bandsEnergy()-49,64.1  fBodyAccJerk-bandsEnergy()-1,24.1  fBodyAccJerk-bandsEnergy()-25,48.1  fBodyAccJerk-bandsEnergy()-1,8.2  fBodyAccJerk-bandsEnergy()-9,16.2  fBodyAccJerk-bandsEnergy()-17,24.2  fBodyAccJerk-bandsEnergy()-25,32.2  fBodyAccJerk-bandsEnergy()-33,40.2  fBodyAccJerk-bandsEnergy()-41,48.2  fBodyAccJerk-bandsEnergy()-49,56.2  fBodyAccJerk-bandsEnergy()-57,64.2  fBodyAccJerk-bandsEnergy()-1,16.2  fBodyAccJerk-bandsEnergy()-17,32.2  fBodyAccJerk-bandsEnergy()-33,48.2  fBodyAccJerk-bandsEnergy()-49,64.2  fBodyAccJerk-bandsEnergy()-1,24.2  fBodyAccJerk-bandsEnergy()-25,48.2  fBodyGyro-mean()-X  fBodyGyro-mean()-Y  fBodyGyro-mean()-Z  fBodyGyro-std()-X  fBodyGyro-std()-Y  fBodyGyro-std()-Z  fBodyGyro-mad()-X  fBodyGyro-mad()-Y  fBodyGyro-mad()-Z  fBodyGyro-max()-X  fBodyGyro-max()-Y  fBodyGyro-max()-Z  fBodyGyro-min()-X  fBodyGyro-min()-Y  fBodyGyro-min()-Z  fBodyGyro-sma()  fBodyGyro-energy()-X  fBodyGyro-energy()-Y  fBodyGyro-energy()-Z  fBodyGyro-iqr()-X  fBodyGyro-iqr()-Y  fBodyGyro-iqr()-Z  fBodyGyro-entropy()-X  fBodyGyro-entropy()-Y  fBodyGyro-entropy()-Z  fBodyGyro-maxInds-X  fBodyGyro-maxInds-Y  fBodyGyro-maxInds-Z  fBodyGyro-meanFreq()-X  fBodyGyro-meanFreq()-Y  fBodyGyro-meanFreq()-Z  fBodyGyro-skewness()-X  fBodyGyro-kurtosis()-X  fBodyGyro-skewness()-Y  fBodyGyro-kurtosis()-Y  fBodyGyro-skewness()-Z  fBodyGyro-kurtosis()-Z  fBodyGyro-bandsEnergy()-1,8  fBodyGyro-bandsEnergy()-9,16  fBodyGyro-bandsEnergy()-17,24  fBodyGyro-bandsEnergy()-25,32  fBodyGyro-bandsEnergy()-33,40  fBodyGyro-bandsEnergy()-41,48  fBodyGyro-bandsEnergy()-49,56  fBodyGyro-bandsEnergy()-57,64  fBodyGyro-bandsEnergy()-1,16  fBodyGyro-bandsEnergy()-17,32  fBodyGyro-bandsEnergy()-33,48  fBodyGyro-bandsEnergy()-49,64  fBodyGyro-bandsEnergy()-1,24  fBodyGyro-bandsEnergy()-25,48  fBodyGyro-bandsEnergy()-1,8.1  fBodyGyro-bandsEnergy()-9,16.1  fBodyGyro-bandsEnergy()-17,24.1  fBodyGyro-bandsEnergy()-25,32.1  fBodyGyro-bandsEnergy()-33,40.1  fBodyGyro-bandsEnergy()-41,48.1  fBodyGyro-bandsEnergy()-49,56.1  fBodyGyro-bandsEnergy()-57,64.1  fBodyGyro-bandsEnergy()-1,16.1  fBodyGyro-bandsEnergy()-17,32.1  fBodyGyro-bandsEnergy()-33,48.1  fBodyGyro-bandsEnergy()-49,64.1  fBodyGyro-bandsEnergy()-1,24.1  fBodyGyro-bandsEnergy()-25,48.1  fBodyGyro-bandsEnergy()-1,8.2  fBodyGyro-bandsEnergy()-9,16.2  fBodyGyro-bandsEnergy()-17,24.2  fBodyGyro-bandsEnergy()-25,32.2  fBodyGyro-bandsEnergy()-33,40.2  fBodyGyro-bandsEnergy()-41,48.2  fBodyGyro-bandsEnergy()-49,56.2  fBodyGyro-bandsEnergy()-57,64.2  fBodyGyro-bandsEnergy()-1,16.2  fBodyGyro-bandsEnergy()-17,32.2  fBodyGyro-bandsEnergy()-33,48.2  fBodyGyro-bandsEnergy()-49,64.2  fBodyGyro-bandsEnergy()-1,24.2  fBodyGyro-bandsEnergy()-25,48.2  fBodyAccMag-mean()  fBodyAccMag-std()  fBodyAccMag-mad()  fBodyAccMag-max()  fBodyAccMag-min()  fBodyAccMag-sma()  fBodyAccMag-energy()  fBodyAccMag-iqr()  fBodyAccMag-entropy()  fBodyAccMag-maxInds  fBodyAccMag-meanFreq()  fBodyAccMag-skewness()  fBodyAccMag-kurtosis()  fBodyBodyAccJerkMag-mean()  fBodyBodyAccJerkMag-std()  fBodyBodyAccJerkMag-mad()  fBodyBodyAccJerkMag-max()  fBodyBodyAccJerkMag-min()  fBodyBodyAccJerkMag-sma()  fBodyBodyAccJerkMag-energy()  fBodyBodyAccJerkMag-iqr()  fBodyBodyAccJerkMag-entropy()  fBodyBodyAccJerkMag-maxInds  fBodyBodyAccJerkMag-meanFreq()  fBodyBodyAccJerkMag-skewness()  fBodyBodyAccJerkMag-kurtosis()  fBodyBodyGyroMag-mean()  fBodyBodyGyroMag-std()  fBodyBodyGyroMag-mad()  fBodyBodyGyroMag-max()  fBodyBodyGyroMag-min()  fBodyBodyGyroMag-sma()  fBodyBodyGyroMag-energy()  fBodyBodyGyroMag-iqr()  fBodyBodyGyroMag-entropy()  fBodyBodyGyroMag-maxInds  fBodyBodyGyroMag-meanFreq()  fBodyBodyGyroMag-skewness()  fBodyBodyGyroMag-kurtosis()  fBodyBodyGyroJerkMag-mean()  fBodyBodyGyroJerkMag-std()  fBodyBodyGyroJerkMag-mad()  fBodyBodyGyroJerkMag-max()  fBodyBodyGyroJerkMag-min()  fBodyBodyGyroJerkMag-sma()  fBodyBodyGyroJerkMag-energy()  fBodyBodyGyroJerkMag-iqr()  fBodyBodyGyroJerkMag-entropy()  fBodyBodyGyroJerkMag-maxInds  fBodyBodyGyroJerkMag-meanFreq()  fBodyBodyGyroJerkMag-skewness()  fBodyBodyGyroJerkMag-kurtosis()  angle(tBodyAccMean,gravity)  angle(tBodyAccJerkMean),gravityMean)  angle(tBodyGyroMean,gravityMean)  angle(tBodyGyroJerkMean,gravityMean)  angle(X,gravityMean)  angle(Y,gravityMean)  angle(Z,gravityMean)  Activity\n",
       "0           0.272284           -0.017143          -0.106584          -0.984438         -0.986949         -0.985428         -0.985560         -0.985928         -0.984612         -0.929976         -0.570354         -0.818257          0.830670          0.690648          0.845018         -0.985974       -0.999807            -0.999918            -0.999699            -0.986758         -0.986164         -0.983820         -0.419956             -0.610287             -0.482784              0.079139               -0.112973                0.290208               -0.180729                0.369793               -0.172727                0.196146                0.035186                0.222996               -0.058571               -0.101768               -0.031486               -0.272714                   -0.410510                    0.301694                   -0.391376             -0.999726              0.288992             -0.992400            -0.997447            -0.991713            -0.993135            -0.997399            -0.992248            -0.457755            -0.999966             0.280567            -0.345652            -0.959150             0.290253            -0.184249          -0.993622                0.858967               -0.841190               -0.994993            -0.997278            -0.994193            -0.851886                -1.000000                -0.813564                -0.372068                  0.375147                   -0.378057                  0.380928                   -0.039538                  -0.036055                   0.050499                  -0.037947                  -0.347449                  0.349489                   -0.350950                  0.349496                   -0.542795                      -0.929921                       0.206785                       0.084169               0.007051              -0.004497              -0.981044             -0.983475             -0.994179             -0.979342             -0.981112             -0.993443             -0.985905             -0.992585             -0.993785              0.976136              0.990118              0.992562             -0.986011           -0.999692                -0.999705                -0.999897                -0.974584             -0.983552             -0.992001             -0.540258                 -0.691235                 -0.793959                  0.131656                    0.066220                    0.249528                   0.374990                     0.320296                    0.038152                    0.384900                   0.248854                     0.195637                    0.183708                   -0.000227                    0.126724                    0.030489                        0.213218                       -0.255489                       -0.027227           -0.070483            0.087609           -0.991667          -0.964158          -0.985172          -0.991159          -0.965365          -0.984254          -0.881980          -0.932544          -0.750923          0.841579           0.897101           0.824726           -0.976927        -0.999954             -0.999275             -0.999837             -0.990475          -0.967170          -0.984071          -0.406474              -0.151958              -0.331009              -0.064830                -0.018733                 0.369805                -0.145913                -0.173249                 0.082846                 0.470315                -0.400086                -0.042260                -0.047918                 0.090232                 0.287331                 0.319679                     0.393907                     0.661393                    -0.097658               -0.039607               -0.048634               -0.990868              -0.968727              -0.991656              -0.990871              -0.967867              -0.991961              -0.989330              -0.981130              -0.990620              0.989800               0.973245               0.992555               -0.980302            -0.999922                 -0.999436                 -0.999917                 -0.988657              -0.961255              -0.992996              -0.563274                  -0.091155                  -0.572068                   0.045469                    -0.125607                     0.280262                     0.344976                    -0.085946                    0.041719                      0.525947                     0.082879                    -0.071733                    -0.115771                    -0.048918                     0.192942                     0.205117                         0.059143                         0.346788                        -0.987091           -0.988649          -0.989551          -0.983903          -0.997047          -0.987091          -0.999761             -0.987005          -0.672677               0.171077               -0.223492                0.458497               -0.433609               -0.987091              -0.988649             -0.989551             -0.983903             -0.997047             -0.987091             -0.999761                -0.987005             -0.672677                  0.171077                  -0.223492                   0.458497                  -0.433609                  -0.986241               -0.990610              -0.990701              -0.986584              -0.969197              -0.986241              -0.999747                 -0.989415              -0.797205                   0.314272                   -0.249263                    0.225137                   -0.440520                   -0.975579            -0.973065           -0.970111           -0.976638           -0.987304           -0.975579           -0.999543              -0.972613           -0.028695                0.191143                -0.105593                -0.062051                 0.019877                -0.976210                -0.975769               -0.976337               -0.974546               -0.987604               -0.976210               -0.999604                  -0.974654               -0.129842                    0.730578                    -0.191179                    -0.316582                    -0.435979                    -0.983557          -0.984360          -0.990976          -0.984672         -0.988230         -0.982389         -0.984786         -0.986993         -0.988660         -0.985433         -0.991651         -0.973482         -0.998666         -0.990210         -0.993633         -0.986920       -0.999812            -0.999785            -0.999654            -0.985915         -0.989104         -0.991659         -0.792633             -0.944870             -0.868799             -1.000000           -1.000000           -1.000000           -0.030032               0.345713               0.095490              -0.107740              -0.494693              -0.586095              -0.885766               0.062263              -0.171268              -0.999851                   -0.999841                    -0.999517                     -0.999792                     -0.999706                     -0.999636                     -0.999775                     -0.999944                     -0.999837                    -0.999529                     -0.999694                     -0.999832                     -0.999816                    -0.999713                     -0.999811                     -0.999898                      -0.999783                       -0.999666                       -0.999665                       -0.999401                       -0.999710                       -0.999966                       -0.999819                      -0.999702                       -0.999558                       -0.999809                       -0.999798                      -0.999637                       -0.999547                     -0.999921                      -0.999881                       -0.999827                       -0.999824                       -0.999705                       -0.999965                       -0.999968                       -0.999644                      -0.999895                       -0.999826                       -0.999975                       -0.999652                      -0.999844                       -0.981041              -0.983664              -0.993436              -0.982752             -0.984398             -0.993359             -0.979465             -0.983653             -0.992567             -0.986585             -0.984656             -0.993552             -0.987865             -0.999773             -0.995477             -0.985521           -0.999692                -0.999705                -0.999897                -0.980411             -0.986229             -0.992140             -1.000000                 -1.000000                 -1.000000                 -0.28                   -0.08                    0.12                    0.137914                   0.189498                   0.151137                  -0.334518                  -0.753857                  -0.461020                  -0.853734                  -0.596249                  -0.886135                  -0.999925                       -0.999794                        -0.999606                         -0.999759                         -0.999720                         -0.999607                         -0.999666                         -0.999978                         -0.999836                        -0.999592                         -0.999664                         -0.999668                         -0.999722                        -0.999608                         -0.999794                         -0.999917                          -0.999713                           -0.999632                           -0.999676                           -0.999281                           -0.999734                           -0.999964                           -0.999883                          -0.999626                           -0.999476                           -0.999767                           -0.999790                          -0.999589                           -0.999843                         -0.999919                          -0.999889                           -0.999821                           -0.999834                           -0.999663                           -0.999962                           -0.999987                           -0.999908                          -0.999885                           -0.999780                           -0.999963                           -0.999924                          -0.999831                           -0.989539           -0.966566           -0.986268           -0.992278          -0.962873          -0.985976          -0.989823          -0.962879          -0.985103          -0.993110          -0.977902          -0.989409          -0.996817          -0.994772          -0.995590          -0.978609        -0.999949             -0.999265             -0.999824             -0.992074          -0.966387          -0.992830          -0.722740              -0.396660              -0.737458              -0.466667            -1.000000            -1.000000            -0.080733               -0.093197               -0.075299               -0.421273               -0.755938               -0.482689               -0.865345               -0.218018               -0.617732               -0.999970                    -0.999878                     -0.999897                      -0.999980                      -0.999956                      -0.999951                      -0.999966                      -0.999997                      -0.999954                     -0.999911                      -0.999951                      -0.999980                      -0.999950                     -0.999972                      -0.999587                      -0.999615                       -0.999342                        -0.999950                        -0.999951                        -0.999667                        -0.999780                        -0.999993                        -0.999472                       -0.999369                        -0.999893                        -0.999842                        -0.999194                       -0.999929                        -0.999859                      -0.999887                       -0.999962                        -0.999964                        -0.999958                        -0.999918                        -0.999922                        -0.999959                        -0.999829                       -0.999949                        -0.999953                        -0.999938                        -0.999827                       -0.999962                        -0.988583           -0.989441          -0.986926          -0.993542          -0.991727          -0.988583          -0.999820             -0.989537          -0.907014              -0.517241             0.257804               -0.586100               -0.858951               -0.989755                   -0.990595                  -0.987695                  -0.993481                  -0.988667                  -0.989755                  -0.999850                     -0.988544                  -1.000000                      -0.904762                     0.502503                       -0.695839                       -0.915392                       -0.970478                -0.979961               -0.974809               -0.984556               -0.984270               -0.970478               -0.999543                  -0.966403               -0.537739                   -0.128205                  0.356381                    -0.745923                    -0.912823                    -0.974923                    -0.978310                   -0.973292                   -0.985740                   -0.990798                   -0.974923                   -0.999634                      -0.966451                   -0.640514                       -0.777778                      0.477256                        -0.612020                        -0.891765                        -0.043298                    -0.173359                              0.581853                         -0.028842                              0.533818              0.999507             -0.183528             LAYING      1\n",
       "997         0.280506           -0.025999          -0.102747          -0.980957         -0.951279         -0.946364         -0.985174         -0.947812         -0.954645         -0.919418         -0.544767         -0.775662          0.810001          0.677872          0.813819         -0.964414       -0.999736            -0.999221            -0.997933            -0.989465         -0.954013         -0.970314         -0.299427             -0.543058             -0.274687             -0.161298                0.156119               -0.215997                0.168561               -0.040204               -0.030092               -0.042466                0.322831               -0.149159                0.074602               -0.211323                0.309597               -0.472858                   -0.713811                    0.202772                    0.869404              0.167724              0.337802             -0.991659            -0.974305            -0.976057            -0.991973            -0.974397            -0.976443             0.799168             0.141025             0.330503             0.889270             0.182227             0.333628             0.209369           0.659284               -0.933357               -0.781748               -0.993151            -0.976928            -0.976255            -0.694170                -0.451333                -0.536352                -0.725799                  0.732484                   -0.738925                  0.745282                   -0.766664                   0.752382                  -0.753433                   0.761195                  -0.768909                  0.780863                   -0.792495                  0.800673                   -0.614896                      -0.304778                      -0.563243                       0.071408               0.025027              -0.005052              -0.986092             -0.983705             -0.985617             -0.988211             -0.980613             -0.983926             -0.986714             -0.986684             -0.987586              0.976017              0.991430              0.987665             -0.986167           -0.999809                -0.999711                -0.999685                -0.990141             -0.977600             -0.982606             -0.672552                 -0.668755                 -0.641543                 -0.115011                    0.314727                   -0.119015                   0.184684                    -0.072826                   -0.021558                   -0.157557                   0.205441                    -0.255079                    0.070998                   -0.465558                    0.232332                   -0.119865                        0.050442                       -0.101487                       -0.028201           -0.070861            0.079928           -0.985613          -0.952804          -0.962176          -0.986049          -0.957828          -0.961524          -0.876814          -0.928520          -0.732677          0.835164           0.888830           0.814228           -0.964189        -0.999881             -0.998784             -0.999172             -0.986607          -0.962390          -0.962725          -0.352909              -0.082379              -0.287852               0.095572                -0.267958                 0.276302                 0.441818                -0.584351                 0.417208                -0.293317                 0.384775                -0.084697                -0.010082                -0.094030                 0.362144                -0.181482                    -0.236513                    -0.507911                    -0.102701               -0.052509               -0.051025               -0.990686              -0.988465              -0.991838              -0.990434              -0.990317              -0.991968              -0.992192              -0.989812              -0.988194              0.988757               0.988097               0.994779               -0.991496            -0.999920                 -0.999905                 -0.999920                 -0.989880              -0.992516              -0.992858              -0.560033                  -0.445518                  -0.576705                   0.009242                    -0.379925                    -0.088723                     0.460414                    -0.549476                    0.258713                     -0.244080                     0.060349                     0.009697                    -0.074151                    -0.080479                    -0.133274                    -0.128114                         0.014820                        -0.068564                        -0.965269           -0.960276          -0.966005          -0.955552          -0.992559          -0.965269          -0.998863             -0.970019          -0.267047              -0.418527                0.329970               -0.260922                0.211705               -0.965269              -0.960276             -0.966005             -0.955552             -0.992559             -0.965269             -0.998863                -0.970019             -0.267047                 -0.418527                   0.329970                  -0.260922                   0.211705                  -0.986003               -0.987050              -0.986491              -0.985037              -0.972954              -0.986003              -0.999719                 -0.985027              -0.718714                   0.200793                    0.078109                   -0.252411                   -0.237973                   -0.963715            -0.959936           -0.952302           -0.973359           -0.986937           -0.963715           -0.999072              -0.954889            0.147326               -0.536653                 0.379948                -0.183684                 0.188619                -0.991096                -0.989097               -0.990895               -0.989239               -0.988072               -0.991096               -0.999913                  -0.993415               -0.496668                   -0.241289                     0.226734                    -0.197770                    -0.025034                    -0.981739          -0.967097          -0.963819          -0.980453         -0.946224         -0.940518         -0.981048         -0.966280         -0.949726         -0.981285         -0.941780         -0.935767         -0.989139         -0.982980         -0.992633         -0.971507       -0.999737            -0.998336            -0.997698            -0.978328         -0.986384         -0.977284         -0.820753             -0.815786             -0.571569             -1.000000           -1.000000           -1.000000           -0.373081              -0.135886              -0.435160              -0.001620              -0.389932               0.448223               0.222872              -0.104679              -0.427933              -0.999688                   -0.999922                    -0.999783                     -0.999768                     -0.999795                     -0.999788                     -0.999932                     -0.999945                     -0.999731                    -0.999750                     -0.999807                     -0.999937                     -0.999736                    -0.999750                     -0.997734                     -0.999817                      -0.999837                       -0.999701                       -0.999655                       -0.999503                       -0.999376                       -0.999557                       -0.998186                      -0.999764                       -0.999590                       -0.999433                       -0.998315                      -0.999672                       -0.997206                     -0.999328                      -0.999854                       -0.999832                       -0.999743                       -0.999544                       -0.999831                       -0.999972                       -0.997581                      -0.999880                       -0.999719                       -0.999881                       -0.997657                      -0.999817                       -0.985121              -0.982698              -0.982276              -0.988625             -0.986301             -0.987760             -0.984616             -0.985618             -0.985882             -0.992145             -0.987011             -0.989375             -0.991421             -0.981890             -0.999994             -0.982807           -0.999809                -0.999711                -0.999685                -0.981436             -0.985134             -0.981174             -1.000000                 -1.000000                 -1.000000                  0.20                   -0.84                   -0.84                   -0.006254                  -0.179044                  -0.416493                  -0.622318                  -0.899691                  -0.567864                  -0.907227                  -0.803458                  -0.952121                  -0.999912                       -0.999909                        -0.999791                         -0.999720                         -0.999792                         -0.999764                         -0.999935                         -0.999973                         -0.999904                        -0.999721                         -0.999777                         -0.999931                         -0.999848                        -0.999655                         -0.999369                         -0.999843                          -0.999895                           -0.999723                           -0.999655                           -0.999644                           -0.999717                           -0.999933                           -0.999716                          -0.999802                           -0.999615                           -0.999748                           -0.999749                          -0.999700                           -0.998701                         -0.999427                          -0.999851                           -0.999823                           -0.999749                           -0.999516                           -0.999774                           -0.999999                           -0.999082                          -0.999867                           -0.999670                           -0.999786                           -0.999532                          -0.999789                           -0.986236           -0.969174           -0.976987           -0.985484          -0.945086          -0.961395          -0.985034          -0.960634          -0.970284          -0.982750          -0.950598          -0.964645          -0.995480          -0.985526          -0.989854          -0.976357        -0.999869             -0.998766             -0.999117             -0.994026          -0.988865          -0.992260          -0.699120              -0.498415              -0.735887              -0.733333            -0.870968            -1.000000            -0.239216               -0.670279               -0.538439                0.099545               -0.224825                0.061800               -0.386427                0.257097               -0.119871               -0.999868                    -0.999941                     -0.999982                      -0.999989                      -0.999959                      -0.999898                      -0.999947                      -0.999975                      -0.999867                     -0.999983                      -0.999931                      -0.999960                      -0.999869                     -0.999973                      -0.997919                      -0.999893                       -0.999982                        -0.999977                        -0.999970                        -0.999910                        -0.999877                        -0.999835                        -0.998530                       -0.999976                        -0.999958                        -0.999842                        -0.998627                       -0.999970                        -0.999091                      -0.999955                       -0.999948                        -0.999951                        -0.999967                        -0.999847                        -0.999965                        -0.999968                        -0.999122                       -0.999929                        -0.999940                        -0.999967                        -0.999121                       -0.999950                        -0.971034           -0.959679          -0.957762          -0.967972          -0.995269          -0.971034          -0.998814             -0.976285          -0.763713              -0.931034            -0.335362               -0.210639               -0.567869               -0.986106                   -0.987090                  -0.987515                  -0.983464                  -0.968453                  -0.986106                  -0.999770                     -0.987049                  -0.940965                      -0.968254                     0.282358                        0.072152                       -0.159592                       -0.973800                -0.958248               -0.959216               -0.959130               -0.992417               -0.973800               -0.999059                  -0.981967               -0.576259                   -0.948718                 -0.493517                    -0.102078                    -0.475987                    -0.990001                    -0.988219                   -0.987361                   -0.988262                   -0.997711                   -0.990001                   -0.999908                      -0.987277                   -0.923452                       -0.968254                     -0.179932                        -0.108316                        -0.474329                        -0.032548                     0.197571                              0.223562                          0.285716                             -0.620834             -0.031723             -0.219109             SITTING     1\n",
       "1506        0.338521           -0.003876          -0.181334          -0.644293         -0.168873         -0.393432         -0.673706         -0.211966         -0.416048         -0.561563         -0.131795         -0.322861          0.430357          0.189704          0.388353         -0.425299       -0.934891            -0.865516            -0.823772            -0.731756         -0.480446         -0.483013          0.531469              0.338514             -0.115519             -0.759032                0.843725               -0.736692                0.384703               -0.213222                0.069197                0.281285               -0.066996               -0.173463                0.087468                0.173524               -0.264797                0.266178                   -0.105895                   -0.091634                    0.955995             -0.137137              0.114196             -0.971150            -0.958571            -0.885208            -0.972454            -0.955894            -0.904339             0.893164            -0.149944             0.127921             0.964073            -0.119584             0.068877            -0.402863           0.879997               -0.972537               -0.976099               -0.975380            -0.957064            -0.928816            -1.000000                -1.000000                 0.145118                -0.582250                  0.618239                   -0.653988                  0.689573                   -0.383770                   0.384778                  -0.427351                   0.485564                  -0.592523                  0.600818                   -0.608643                  0.613198                    0.623699                      -0.768416                      -0.028373                      -0.042618              -0.193262              -0.208187              -0.631761             -0.412232             -0.655066             -0.654574             -0.367864             -0.681854             -0.641939             -0.660005             -0.682961              0.535402              0.528495              0.658266             -0.562890           -0.930228                -0.823134                -0.936232                -0.709462             -0.440443             -0.773553              0.348948                  0.445391                  0.131082                 -0.777379                    0.859361                   -0.550491                   0.186037                    -0.300159                   -0.020989                   -0.042842                   0.583490                    -0.108408                   -0.028653                    0.047511                    0.203330                    0.147662                       -0.106572                       -0.342641                        0.014478           -0.144945            0.093518           -0.467095          -0.589241          -0.672486          -0.441129          -0.611527          -0.692780          -0.501600          -0.719831          -0.501151          0.490634           0.667098           0.589552           -0.453712        -0.869120             -0.915340             -0.949476             -0.362990          -0.654847          -0.758510           0.312805              -0.014176               0.144769              -0.572816                 0.365067                 0.091930                -0.098443                -0.490150                 0.432856                -0.304941                 0.232297                -0.463913                 0.317517                 0.142284                -0.295628                -0.563679                    -0.111055                     0.371524                    -0.076989               -0.010205                0.045135               -0.582398              -0.803721              -0.739516              -0.574303              -0.821893              -0.735137              -0.594544              -0.834544              -0.812801              0.664573               0.816865               0.808629               -0.734237            -0.911485                 -0.980308                 -0.964746                 -0.587701              -0.843593              -0.721851               0.499968                   0.502637                   0.579265                  -0.428186                     0.169764                    -0.213838                     0.499907                    -0.413782                    0.332203                     -0.016584                    -0.121592                    -0.349111                     0.146436                     0.184024                     0.105774                    -0.204386                        -0.193767                         0.047672                        -0.434835           -0.504620          -0.527043          -0.549423          -0.799695          -0.434835          -0.831364             -0.501366           0.712802              -0.096879               -0.016104               -0.130238                0.425984               -0.434835              -0.504620             -0.527043             -0.549423             -0.799695             -0.434835             -0.831364                -0.501366              0.712802                 -0.096879                  -0.016104                  -0.130238                   0.425984                  -0.568582               -0.516777              -0.520419              -0.554346              -0.793333              -0.568582              -0.893273                 -0.587915               0.522914                  -0.001461                    0.111944                   -0.487426                    0.315286                   -0.436617            -0.615650           -0.549778           -0.692870           -0.449274           -0.436617           -0.844691              -0.504348            0.942710               -0.399086                 0.289418                -0.086278                 0.019924                -0.720662                -0.784208               -0.786342               -0.813962               -0.694593               -0.720662               -0.963836                  -0.801746                0.742848                    0.130231                    -0.095584                    -0.131623                    -0.075434                    -0.604917          -0.218122          -0.468895          -0.660972         -0.195649         -0.399762         -0.574324         -0.141531         -0.430588         -0.744327         -0.512388         -0.401918         -0.829389         -0.814053         -0.787736         -0.381830       -0.935470            -0.649723            -0.809033            -0.479440         -0.499426         -0.637101          0.392767              0.405940              0.328831             -0.806452           -0.800000           -0.923077           -0.338949              -0.175738               0.072414              -0.350654              -0.735622              -0.478955              -0.843271              -0.199979              -0.507140              -0.943858                   -0.931328                    -0.936148                     -0.948177                     -0.966549                     -0.990538                     -0.978417                     -0.975034                     -0.934957                    -0.929746                     -0.975556                     -0.977283                     -0.935043                    -0.951257                     -0.703657                     -0.715314                      -0.935327                       -0.950289                       -0.916309                       -0.864740                       -0.893840                       -0.938101                       -0.626486                      -0.923146                       -0.886958                       -0.909071                       -0.647245                      -0.928077                       -0.827339                     -0.859929                      -0.940352                       -0.970135                       -0.979140                       -0.909157                       -0.880246                       -0.902362                       -0.816837                      -0.951173                       -0.959501                       -0.885867                       -0.811003                      -0.967119                       -0.654951              -0.447811              -0.609419              -0.639850             -0.411984             -0.700386             -0.531947             -0.430365             -0.683014             -0.751914             -0.543597             -0.719315             -0.860374             -0.929249             -0.740391             -0.507692           -0.930144                -0.823271                -0.936287                -0.540665             -0.587737             -0.672427              0.235895                  0.421316                  0.178260                 -0.40                   -0.60                   -0.52                   -0.489058                  -0.661747                  -0.271094                  -0.394601                  -0.827509                  -0.342167                  -0.816599                  -0.416777                  -0.770270                  -0.970143                       -0.918584                        -0.942244                         -0.935670                         -0.981542                         -0.995181                         -0.988076                         -0.997445                         -0.934468                        -0.925884                         -0.985633                         -0.987788                         -0.925420                        -0.942865                         -0.776287                         -0.797561                          -0.914281                           -0.967478                           -0.923725                           -0.862524                           -0.922731                           -0.998661                           -0.763741                          -0.922126                           -0.879284                           -0.932314                           -0.790410                          -0.933020                           -0.918208                         -0.870531                          -0.948960                           -0.971632                           -0.983522                           -0.920122                           -0.931007                           -0.978070                           -0.860211                          -0.960074                           -0.963263                           -0.932024                           -0.903084                          -0.968370                           -0.491572           -0.668253           -0.646550           -0.467956          -0.549990          -0.711284          -0.413936          -0.632552          -0.627003          -0.409119          -0.560493          -0.832914          -0.992168          -0.955938          -0.861096          -0.577226        -0.857245             -0.914785             -0.945129             -0.602614          -0.686163          -0.687143           0.348370               0.370447               0.156877              -0.933333            -0.935484            -0.793103            -0.500305               -0.466267               -0.115051                0.075213               -0.259426                0.058947               -0.287435               -0.457774               -0.822517               -0.886973                    -0.739809                     -0.984057                      -0.984638                      -0.970987                      -0.984255                      -0.990590                      -0.999961                      -0.855603                     -0.980911                      -0.973474                      -0.994737                      -0.857210                     -0.981248                      -0.875129                      -0.982032                       -0.991452                        -0.988597                        -0.994297                        -0.989843                        -0.993109                        -0.998579                        -0.904236                       -0.988552                        -0.993324                        -0.994541                        -0.906991                       -0.989196                        -0.961788                      -0.952827                       -0.982449                        -0.996202                        -0.991747                        -0.988038                        -0.976198                        -0.976694                        -0.947845                       -0.981428                        -0.990724                        -0.976414                        -0.945734                       -0.994504                        -0.548924           -0.557662          -0.526863          -0.714374          -0.835317          -0.548924          -0.873499             -0.733280           0.211837              -0.793103            -0.079852               -0.246531               -0.640035               -0.504314                   -0.535037                  -0.491420                  -0.634260                  -0.858332                  -0.504314                  -0.878922                     -0.589297                   0.116847                      -0.904762                     0.021063                       -0.250169                       -0.656397                       -0.653172                -0.655682               -0.581688               -0.754554               -0.955751               -0.653172               -0.925051                  -0.575391                0.437964                   -0.487179                 -0.090053                    -0.567931                    -0.857219                    -0.794225                    -0.786168                   -0.783176                   -0.794990                   -0.931349                   -0.794225                   -0.976127                      -0.801888                    0.081894                       -0.904762                     -0.010195                        -0.088579                        -0.481934                        -0.205142                     0.355867                             -0.672788                         -0.219972                             -0.843884              0.177861             -0.058227             WALKING     1\n",
       "1505        0.341960           -0.034048          -0.108171          -0.257331          0.116727         -0.563510         -0.329230          0.139161         -0.564320          0.115501          0.145171         -0.541191         -0.024233          0.164368          0.578146         -0.194381       -0.722104            -0.758744            -0.911033            -0.456891          0.001798         -0.534271          0.375256              0.279686              0.128825             -0.286940                0.357925               -0.274606                0.280131               -0.329487                0.248495                0.095236               -0.073031               -0.190610                0.240984               -0.090451               -0.074396               -0.269469                   -0.368709                    0.469053                    0.958754             -0.211435              0.026179             -0.974943            -0.957429            -0.929359            -0.975951            -0.961186            -0.931368             0.897382            -0.213768             0.045298             0.971815            -0.188443             0.018980            -0.430981           0.887244               -0.927752               -0.998942               -0.982910            -0.979195            -0.944757            -1.000000                -1.000000                -0.244601                -0.351109                  0.432125                   -0.511176                  0.588167                   -0.415881                   0.458044                  -0.542793                   0.642237                  -0.526326                  0.560134                   -0.593637                  0.623989                    0.855006                       0.837070                       0.947377                      -0.031825              -0.234299              -0.075878              -0.040382             -0.169978             -0.680101             -0.091053             -0.109989             -0.668157             -0.455931             -0.616791             -0.844460             -0.486860              0.319548              0.637550             -0.250763           -0.536986                -0.650668                -0.944852                -0.065654             -0.186358             -0.695721              0.710589                  0.729455                  0.492210                 -0.338402                    0.471571                   -0.193691                   0.230035                    -0.388333                    0.155321                    0.153187                   0.171544                    -0.206007                    0.169129                    0.066590                   -0.049652                   -0.159233                       -0.308900                        0.267210                        0.130114           -0.120478            0.106870           -0.471043          -0.360496          -0.445469          -0.428799          -0.392431          -0.470378          -0.386421          -0.453788          -0.197857          0.570202           0.523773           0.390036           -0.280971        -0.856204             -0.797424             -0.856648             -0.334980          -0.463449          -0.556137           0.294162               0.164642               0.338078              -0.216096                 0.133266                 0.248199                -0.310515                -0.279125                 0.240852                 0.002310                 0.150507                 0.001773                 0.087408                 0.112653                 0.080749                 0.017242                    -0.041276                     0.239137                    -0.119422               -0.047689               -0.109770               -0.417557              -0.529357              -0.339425              -0.418818              -0.563481              -0.343620              -0.357024              -0.712127              -0.491514              0.552783               0.560551               0.380232               -0.472858            -0.828732                 -0.888389                 -0.779282                 -0.398051              -0.576168              -0.315358               0.510920                   0.668806                   0.664050                  -0.024415                     0.066789                     0.233598                     0.252385                    -0.281537                    0.153274                      0.202055                    -0.099014                    -0.026517                     0.129456                     0.212409                     0.180818                     0.010365                        -0.041145                         0.166925                        -0.174794           -0.227402          -0.304207          -0.142803          -0.755424          -0.174794          -0.636244             -0.359200           0.837960              -0.082915                0.105822               -0.334748                0.394123               -0.174794              -0.227402             -0.304207             -0.142803             -0.755424             -0.174794             -0.636244                -0.359200              0.837960                 -0.082915                   0.105822                  -0.334748                   0.394123                  -0.234164               -0.067679              -0.179804               0.097071              -0.288300              -0.234164              -0.652670                 -0.321549               0.734288                  -0.109366                    0.007342                    0.028666                    0.103892                   -0.281534            -0.527008           -0.497699           -0.492151           -0.453827           -0.281534           -0.750384              -0.561037            0.798900                0.163727                -0.232192                 0.196201                -0.122196                -0.467996                -0.522722               -0.547727               -0.545246               -0.795476               -0.467996               -0.860763                  -0.583471                0.868980                   -0.038476                    -0.038902                    -0.003142                    -0.060319                    -0.144583           0.045670          -0.597246          -0.306728          0.082774         -0.578687         -0.125369          0.109137         -0.524004         -0.494857         -0.287452         -0.703414         -0.732818         -0.672521         -0.923810         -0.109158       -0.722223            -0.371476            -0.899091            -0.046117         -0.270481         -0.680504          0.573929              0.404199              0.237387             -0.806452           -0.800000           -0.923077           -0.198206              -0.052146              -0.046977              -0.410398              -0.782996              -0.374652              -0.753492              -0.572615              -0.837213              -0.819570                   -0.654841                    -0.388987                     -0.620194                     -0.511826                     -0.884782                     -0.867277                     -0.956089                     -0.754314                    -0.362334                     -0.651643                     -0.897044                     -0.728349                    -0.561320                     -0.440405                     -0.645307                      -0.582127                       -0.891861                       -0.893997                       -0.705134                       -0.862959                       -0.837165                       -0.388755                      -0.564963                       -0.809411                       -0.847619                       -0.367689                      -0.860726                       -0.914514                     -0.937464                      -0.934083                       -0.980435                       -0.968149                       -0.955885                       -0.978219                       -0.995113                       -0.911528                      -0.950907                       -0.962745                       -0.983108                       -0.901010                      -0.975407                       -0.080651              -0.218006              -0.673637              -0.083018             -0.172170             -0.684529              0.192824             -0.216397             -0.662880             -0.361509             -0.334728             -0.737868             -0.780059             -0.466144             -0.888012             -0.188060           -0.536148                -0.650855                -0.944858                 0.249143             -0.581186             -0.730328              0.713991                  0.495087                  0.083135                 -0.32                   -0.32                   -0.16                   -0.180470                  -0.491105                  -0.357503                  -0.367464                  -0.809283                  -0.284190                  -0.808122                  -0.353814                  -0.800078                  -0.876959                       -0.629861                        -0.456129                         -0.616091                         -0.540325                         -0.812407                         -0.829929                         -0.960800                         -0.707740                        -0.399563                         -0.614064                         -0.825296                         -0.557158                        -0.457230                         -0.607323                         -0.757032                          -0.579638                           -0.904227                           -0.872629                           -0.753038                           -0.906864                           -0.945953                           -0.687198                          -0.648112                           -0.790957                           -0.911799                           -0.587375                          -0.859239                           -0.920352                         -0.927590                          -0.931560                           -0.979365                           -0.974254                           -0.953530                           -0.970397                           -0.996337                           -0.909795                          -0.954962                           -0.966273                           -0.971492                           -0.913145                          -0.974247                           -0.378358           -0.383086           -0.309737           -0.501262          -0.351408          -0.548787          -0.402365          -0.379301          -0.357937          -0.426543          -0.444227          -0.750593          -0.971404          -0.979207          -0.847991          -0.323689        -0.859345             -0.794382             -0.844434             -0.400085          -0.460512          -0.330595           0.614737               0.712170               0.522483              -0.933333            -0.612903            -0.172414            -0.187007               -0.204858                0.183672                0.017164               -0.261207               -0.297494               -0.648999               -0.628435               -0.903996               -0.888346                    -0.835851                     -0.782031                      -0.949484                      -0.893751                      -0.920285                      -0.967351                      -0.999661                      -0.870926                     -0.804070                      -0.893873                      -0.981648                      -0.861243                     -0.932880                      -0.801765                      -0.886707                       -0.938460                        -0.962357                        -0.980103                        -0.936133                        -0.954526                        -0.999704                        -0.792842                       -0.931031                        -0.970869                        -0.967915                        -0.778107                       -0.962108                        -0.957534                      -0.773699                       -0.764391                        -0.911243                        -0.947564                        -0.920776                        -0.857453                        -0.950836                        -0.883795                       -0.732364                        -0.940164                        -0.898053                        -0.852685                       -0.920218                        -0.168532           -0.382530          -0.222536          -0.653561          -0.796944          -0.168532          -0.696681             -0.334505           0.590873              -0.448276             0.179739               -0.574673               -0.862616               -0.068652                   -0.073116                  -0.002277                  -0.309968                  -0.742197                  -0.068652                  -0.559762                     -0.454968                   0.496805                      -0.904762                    -0.026781                       -0.223897                       -0.669232                       -0.517461                -0.617686               -0.560587               -0.719722               -0.751498               -0.517461               -0.886853                  -0.532880                0.501440                   -0.487179                  0.261653                    -0.530708                    -0.835377                    -0.538464                    -0.535833                   -0.483877                   -0.639536                   -0.806604                   -0.538464                   -0.885005                      -0.532106                    0.389983                       -0.968254                     -0.079275                        -0.285586                        -0.723299                        -0.743932                     0.250916                             -0.957015                          0.327352                             -0.810737              0.228241              0.003562             WALKING     1\n",
       "1504        0.305848           -0.025655          -0.216395          -0.351955         -0.091961          0.266566         -0.393305         -0.236440          0.322601         -0.261007         -0.058869         -0.082309          0.093253         -0.109471         -0.005028         -0.081044       -0.788524            -0.840045            -0.268766            -0.452780         -0.532556          0.368492          0.546058              0.202467              0.198973             -0.194357                0.012571                0.456481               -0.392688               -0.208527                0.287995                0.046464               -0.085191               -0.120105                0.091494                0.437048               -0.585661                0.045714                   -0.334132                    0.197241                    0.939532             -0.169072             -0.158941             -0.981090            -0.977003            -0.966355            -0.980910            -0.978699            -0.969574             0.872179            -0.185710            -0.154397             0.954590            -0.151180            -0.164550            -0.198195           0.836958               -0.955982               -0.946392               -0.981794            -0.981834            -0.981780            -0.735495                -1.000000                -1.000000                -0.296642                  0.367276                   -0.433899                  0.496375                    0.153616                  -0.122643                   0.011941                   0.127603                  -0.035519                  0.123840                   -0.210129                  0.291909                   -0.774007                      -0.235655                       0.126028                       0.060285               0.173850              -0.418453              -0.251718             -0.030041              0.079512             -0.184456             -0.052103              0.162061             -0.469882             -0.466567             -0.435485              0.259959             -0.090199             -0.097622              0.027599           -0.717364                -0.524697                -0.409759                 0.022986             -0.232847              0.090295              0.615658                  0.649759                  0.814489                 -0.091997                   -0.112234                    0.509690                   0.039731                    -0.286752                    0.315416                    0.260032                   0.201277                    -0.067067                    0.070919                    0.255372                    0.392722                   -0.195849                       -0.502286                        0.367947                        0.488764           -0.340096           -0.228261            0.196757           0.371338          -0.116250           0.111679           0.252578          -0.122865           0.718271           0.309610           0.012582          0.507772           0.000432           0.153904            0.374643        -0.177308             -0.062066             -0.600315             -0.178779           0.081973          -0.285246           0.217766              -0.017259               0.034802              -0.477954                 0.410306                -0.069993                -0.194668                -0.273479                 0.356182                -0.010259                 0.027799                -0.265793                 0.220841                -0.150312                 0.307911                -0.349703                    -0.503665                     0.229402                     0.582280                0.001294               -0.482549               -0.289172               0.390891              -0.326471              -0.307550               0.236267              -0.341942              -0.301588               0.532679              -0.345875              0.233530               0.144782               0.460855               -0.033721            -0.743043                 -0.031829                 -0.770053                 -0.400064              -0.029842              -0.425915               0.902854                   0.549459                   0.328421                  -0.246681                     0.242341                     0.191859                    -0.018418                    -0.286943                    0.421327                      0.124087                     0.316479                    -0.249995                     0.090740                     0.020017                    -0.129109                    -0.324366                        -0.010030                        -0.266077                        -0.075403           -0.215576          -0.324555           0.024005          -0.776882          -0.075403          -0.561006             -0.461827           0.811870              -0.023725                0.209261               -0.465632                0.137358               -0.075403              -0.215576             -0.324555              0.024005             -0.776882             -0.075403             -0.561006                -0.461827              0.811870                 -0.023725                   0.209261                  -0.465632                   0.137358                  -0.021279                0.029307              -0.007419              -0.103377              -0.587577              -0.021279              -0.488560                 -0.190808               0.832301                   0.245385                    0.103175                   -0.234249                   -0.363352                    0.396597             0.729366            0.993446            0.244443           -0.460975            0.396597            0.212889               0.968992           -0.007725                0.565946                -0.371757                -0.092125                 0.026043                 0.075991                 0.368212                0.260230                0.383113               -0.406036                0.075991               -0.276369                  -0.116159                0.725616                    0.696013                    -0.204696                    -0.576224                    -0.086889                    -0.323692          -0.047121           0.291804          -0.363373         -0.174602          0.146963         -0.212107         -0.032981          0.385510         -0.542250         -0.606009         -0.159827         -0.917306         -0.942264         -0.680652          0.071809       -0.788143            -0.582751            -0.190186            -0.209551         -0.271490          0.491258          0.587862              0.638321              0.693487             -0.806452           -0.800000            0.230769           -0.365423               0.083217               0.113167              -0.345258              -0.751962              -0.662252              -0.946045              -0.683736              -0.883820              -0.820325                   -0.855252                    -0.395923                     -0.938833                     -0.929781                     -0.860139                     -0.911089                     -0.998509                     -0.813924                    -0.463403                     -0.903690                     -0.940390                     -0.784215                    -0.910018                     -0.729771                     -0.785644                      -0.305587                       -0.816833                       -0.827607                       -0.803796                       -0.894731                       -0.993851                       -0.682678                      -0.276059                       -0.798735                       -0.933144                       -0.587525                      -0.801897                       -0.546875                     -0.550639                       0.478385                       -0.828106                       -0.934502                       -0.420882                       -0.758354                       -0.729233                       -0.492900                       0.005084                       -0.796295                       -0.747575                       -0.203841                      -0.819050                       -0.313242              -0.082928               0.026685              -0.253712             -0.036311              0.125580             -0.125060             -0.096811              0.062692             -0.364161             -0.206128              0.336021             -0.926975             -0.242708             -0.996932              0.017879           -0.716835                -0.524774                -0.409982                -0.223208             -0.278121             -0.056512              0.531306                  0.619576                  0.719690                 -0.36                   -0.28                   -0.36                   -0.233418                  -0.312902                  -0.421697                  -0.155841                  -0.648662                  -0.193123                  -0.709772                   0.158262                  -0.200889                  -0.869148                       -0.847534                        -0.489971                         -0.929478                         -0.920119                         -0.793283                         -0.838701                         -0.985827                         -0.843797                        -0.564250                         -0.861281                         -0.838755                         -0.678873                        -0.854726                         -0.679042                         -0.789042                          -0.180192                           -0.819181                           -0.842073                           -0.768632                           -0.830598                           -0.893403                           -0.733116                          -0.316534                           -0.772759                           -0.838525                           -0.444876                          -0.798853                           -0.604236                         -0.550727                           0.169277                           -0.833680                           -0.954360                           -0.449091                           -0.731679                           -0.990277                           -0.475091                          -0.321117                           -0.798595                           -0.744285                            0.033992                          -0.819920                            0.406241            0.301243            0.039937            0.128429           0.403186          -0.254716           0.225046           0.347871          -0.083714           0.130953           0.077048          -0.460373          -0.388786          -0.860773          -0.544639           0.362315        -0.282847             -0.058604             -0.607214             -0.100235           0.133356          -0.145700           0.755417               0.892936               0.593088              -1.000000             0.032258            -0.586207            -0.032591                0.070922                0.108577                0.007195               -0.389535               -0.371444               -0.747735               -0.350582               -0.712828               -0.316487                    -0.672197                     -0.566449                      -0.662849                      -0.599010                      -0.567455                      -0.316773                      -0.262328                      -0.308755                     -0.513717                      -0.545837                      -0.292682                      -0.296947                     -0.625390                      -0.681355                      -0.745670                        0.354298                        -0.740631                        -0.921054                        -0.772506                        -0.778006                        -0.995245                        -0.620042                        0.345593                        -0.889740                        -0.841931                         0.003777                       -0.767285                        -0.693525                      -0.816971                       -0.799471                        -0.880706                        -0.850993                        -0.805634                        -0.644666                        -0.608971                        -0.647114                       -0.751033                        -0.838245                        -0.629147                        -0.621830                       -0.867533                        -0.093506           -0.415980          -0.229146          -0.576769          -0.903629          -0.093506          -0.687505             -0.179483           0.660049              -0.793103             0.283682               -0.580703               -0.795963                0.032420                    0.021017                   0.026274                  -0.102059                  -0.167081                   0.032420                  -0.463139                     -0.368657                   0.463502                      -0.904762                     0.171518                        0.011937                       -0.408347                        0.672461                 0.469431                0.481235                0.329743               -0.180230                0.672461                0.496028                   0.451740                0.921679                   -0.948718                  0.255715                    -0.249221                    -0.612908                     0.295212                     0.372646                    0.384498                    0.269089                    0.116884                    0.295212                   -0.057219                       0.425652                    0.789877                       -0.968254                      0.311728                         0.070459                        -0.345345                        -0.208605                    -0.012038                             -0.928568                         -0.818664                             -0.781947              0.199887              0.133377             WALKING     1\n",
       "                                                                                                                                                                                                                                                                                                                                                                                                                                                                                                                                                                                                                                                                                                                                                                                                                                                                                                                                                                                                                                                                                                                                                                                                                                                                                                                                                                                                                                                                                                                                                                                                                                                                                                                                                                                                                                                                                                                                                                                                                                                                                                                                                                                                                                                                                                                                                                                                                                                                                                                                                                                                                                                                                                                                                                                                                                                                                                                                                                                                                                                                                                                                                                                                                                                                                                                                                                                                                                                                                                                                                                                                                                                                                                                                                                                                                                                                                                                                                                                                                                                                                                                                                                                                                                                                                                                                                                                                                                                                                                                                                                                                                                                                                                                                                                                                                                                                                                                                                                                                                                                                                                                                                                                                                                                                                                                                                                                                                                                                                                                                                                                                                                                                                                                                                                                                                                                                                                                                                                                                                                                                                                                                                                                                                                                                                                                                                                                                                                                                                                                                                                                                                                                                                                                                                                                                                                                                                                                                                                                                                                                                                                                                                                                                                                                                                                                                                                                                                                                                                                                                                                                                                                                                                                                                                                                                                                                                                                                                                                                                                                                                                                                                                                                                                                                                                                                                                                                                                                                                                                                                                                                                                                                                                                                                                                                                                                                                                                                                                                                                                                                                                                                                                                                                                                                                                                                                                                                                                                                                                                                                                                                                                                                                                                                                                                                                                                                                                                                                                                                                                                                                                                                                                                                                                                                                                                                                                                                                                                                                                                                                                                                                                                                                                                                                                                                                                                                                                                                                                                                                                                                                                                                                                                                                                                                                                                                                                                                                                                                                                                                                                                                                                                                                                                                                                                                                                                                                                                                                                                                                                                                                                                                                                                                                                                                                                                                                                                                                                                                                                                                                                                                                                                                                                                                                                                                                                                                                                                                                                                                                                                                                                                                                                                                                                                                                                                                                                                                                                                                                                                                                                                                                                                                                                                                                                                                                                                                                                                                                                                                                                                                                                                                                                                                                                                                                                                                                                                                                                                                                                                                                                                                                                                                                                                                                                                                                                                                                                                                                                                                                 ..\n",
       "497         0.404488           -0.000827          -0.319702          -0.865384         -0.696864         -0.403846         -0.876213         -0.740587         -0.374930         -0.772358         -0.230709         -0.687840          0.708175          0.587648          0.396202         -0.683633       -0.987177            -0.980932            -0.771328            -0.882139         -0.857678         -0.328215          0.628193              0.029488             -0.374076             -0.285920                0.187308                0.031123               -0.183068               -0.356227                0.213070                0.203348               -0.288360               -0.187072               -0.041009                0.172881               -0.085818               -0.421265                    0.330270                   -0.753205                   -0.195606              0.911456              0.310830             -0.939595            -0.949932            -0.655528            -0.947594            -0.955276            -0.674442            -0.237164             0.880621             0.367490            -0.185713             0.910012             0.193270             0.109038          -0.928296                0.667005               -0.810508               -0.968499            -0.971098            -0.774376            -0.078748                -0.175497                 0.461710                -0.694654                  0.698171                   -0.701409                  0.704530                   -0.619866                   0.595899                  -0.596566                   0.607870                  -0.923259                  0.927271                   -0.930797                  0.930498                    0.697285                      -0.727495                      -0.963353                       0.095248              -0.032216               0.087992              -0.887992             -0.836309             -0.877143             -0.888736             -0.837265             -0.874651             -0.864424             -0.915702             -0.890470              0.874649              0.835342              0.877922             -0.863967           -0.993015                -0.985146                -0.990737                -0.893804             -0.870812             -0.883261              0.019939                 -0.017874                  0.065741                 -0.152402                    0.267880                    0.045681                   0.259887                    -0.309847                    0.126731                    0.142011                   0.323161                    -0.148084                   -0.206614                   -0.127317                    0.049555                   -0.285145                       -0.434200                        0.046705                       -0.009658           -0.074296            0.094078           -0.555979          -0.765388          -0.724743          -0.658074          -0.808522          -0.769462          -0.356532          -0.739004          -0.490627          0.607733           0.738568           0.585869           -0.681585        -0.909590             -0.972402             -0.964121             -0.887947          -0.860222          -0.862397          -0.135798               0.327607               0.173073              -0.847623                 0.710243                -0.392315                 0.188741                -0.436528                 0.372231                -0.098592                 0.057580                -0.534700                 0.341739                -0.072673                 0.121737                 0.196470                    -0.723230                     0.003470                    -0.114107               -0.024136               -0.124975               -0.798535              -0.848170              -0.882061              -0.845919              -0.872453              -0.889668              -0.828898              -0.873482              -0.868243              0.672820               0.881395               0.899401               -0.869211            -0.978982                 -0.988134                 -0.992394                 -0.893144              -0.907885              -0.909987               0.313806                   0.487095                   0.133519                  -0.580824                     0.211382                     0.224319                    -0.453510                    -0.394371                    0.416842                     -0.155322                     0.475062                    -0.461235                     0.014993                     0.146516                    -0.298389                    -0.109580                        -0.315765                        -0.013905                        -0.664926           -0.506412          -0.550570          -0.574750          -0.930930          -0.664926          -0.919678             -0.612413           0.589634              -0.366034                0.175849               -0.134811                0.349422               -0.664926              -0.506412             -0.550570             -0.574750             -0.930930             -0.664926             -0.919678                -0.612413              0.589634                 -0.366034                   0.175849                  -0.134811                   0.349422                  -0.868257               -0.853938              -0.864463              -0.859862              -0.873721              -0.868257              -0.988839                 -0.890698               0.046642                   0.364825                    0.026066                   -0.087302                   -0.591426                   -0.669799            -0.419092           -0.336882           -0.600122           -0.931359           -0.669799           -0.909064              -0.342781            0.751165               -0.580051                 0.486099                -0.319036                 0.234561                -0.863631                -0.809412               -0.827341               -0.840448               -0.943856               -0.863631               -0.986774                  -0.861717                0.569928                   -0.100074                    -0.015013                     0.038342                    -0.039263                    -0.870191          -0.748605          -0.669951          -0.863330         -0.690462         -0.334066         -0.861044         -0.711874         -0.548934         -0.873193         -0.747442         -0.293904         -0.939369         -0.955963         -0.884340         -0.748056       -0.990395            -0.951470            -0.815375            -0.846551         -0.825675         -0.848151         -0.174063             -0.079535             -0.058005             -1.000000           -0.933333           -1.000000           -0.453922              -0.340502              -0.664249               0.080781              -0.286652              -0.127972              -0.504361               0.262262              -0.090744              -0.989572                   -0.995078                    -0.991148                     -0.993821                     -0.995472                     -0.995507                     -0.998132                     -0.999276                     -0.990227                    -0.990566                     -0.995501                     -0.998516                     -0.990294                    -0.993433                     -0.944079                     -0.982535                      -0.989882                       -0.993774                       -0.993449                       -0.992005                       -0.992540                       -0.996833                       -0.948183                      -0.988431                       -0.992176                       -0.994110                       -0.950862                      -0.992981                       -0.762867                     -0.989785                      -0.990576                       -0.996733                       -0.995293                       -0.981466                       -0.990793                       -0.986619                       -0.807171                      -0.992839                       -0.991408                       -0.989472                       -0.812118                      -0.995231                       -0.887019              -0.843384              -0.856423              -0.899430             -0.839422             -0.897677             -0.884043             -0.840256             -0.885820             -0.915852             -0.865727             -0.915418             -0.990366             -0.990615             -0.989648             -0.842334           -0.993003                -0.985153                -0.990748                -0.895232             -0.863149             -0.884748             -0.357303                 -0.342459                 -0.379164                 -0.36                   -0.52                   -0.36                   -0.122581                  -0.574049                  -0.524594                  -0.274515                  -0.675688                  -0.390120                  -0.821284                  -0.685000                  -0.907048                  -0.998491                       -0.994047                        -0.992120                         -0.993478                         -0.995484                         -0.994259                         -0.997290                         -0.999889                         -0.995511                        -0.990889                         -0.994618                         -0.997316                         -0.993385                        -0.991580                         -0.988155                         -0.984899                          -0.988403                           -0.993695                           -0.995141                           -0.992270                           -0.992904                           -0.999982                           -0.983523                          -0.988574                           -0.992793                           -0.993801                           -0.982910                          -0.993284                           -0.960790                         -0.990413                          -0.993493                           -0.997097                           -0.996987                           -0.982792                           -0.994791                           -0.999835                           -0.977908                          -0.995284                           -0.992502                           -0.995039                           -0.985787                          -0.995318                           -0.621109           -0.779201           -0.748067           -0.547477          -0.758799          -0.742469          -0.542989          -0.767862          -0.706341          -0.569867          -0.821009          -0.807108          -0.975663          -0.978913          -0.945830          -0.700106        -0.900750             -0.971936             -0.961046             -0.756467          -0.806352          -0.855189           0.173987               0.302520               0.011895              -0.933333            -0.870968            -0.931034            -0.745039               -0.357505               -0.450297               -0.002386               -0.434651               -0.371509               -0.754110               -0.242259               -0.629001               -0.895192                    -0.987278                     -0.983856                      -0.997272                      -0.995352                      -0.998288                      -0.997340                      -0.999651                      -0.899491                     -0.985904                      -0.996082                      -0.998362                      -0.900334                     -0.996899                      -0.969766                      -0.986925                       -0.992073                        -0.996783                        -0.996194                        -0.995712                        -0.997352                        -0.999634                        -0.971140                       -0.991610                        -0.996056                        -0.997980                        -0.969399                       -0.996306                        -0.961113                      -0.995927                       -0.995556                        -0.998576                        -0.997975                        -0.996135                        -0.989655                        -0.990907                        -0.961641                       -0.995075                        -0.997478                        -0.990200                        -0.961226                       -0.998237                        -0.717749           -0.496607          -0.588727          -0.529002          -0.967052          -0.717749          -0.874404             -0.881582          -0.122728              -1.000000            -0.717607                0.354913                0.087533               -0.862837                   -0.842437                  -0.871326                  -0.823120                  -0.972159                  -0.862837                  -0.987793                     -0.904165                  -0.440582                      -1.000000                     0.288144                        0.684142                        0.569055                       -0.642145                -0.393759               -0.472884               -0.382945               -0.954403               -0.642145               -0.829844                  -0.727244                0.245570                   -1.000000                 -0.599802                     0.093640                    -0.283034                    -0.835845                    -0.791522                   -0.808190                   -0.770505                   -0.898313                   -0.835845                   -0.981315                      -0.860742                   -0.044755                       -1.000000                     -0.228800                         0.351082                         0.052646                         0.073735                     0.083446                             -0.161190                          0.012697                              0.389730             -0.746298             -0.205253             LAYING      1\n",
       "496         0.294291           -0.013993          -0.111121          -0.975537         -0.988980         -0.981211         -0.976256         -0.989671         -0.979706         -0.920877         -0.567682         -0.814143          0.836870          0.691376          0.836278         -0.978346       -0.999541            -0.999917            -0.999569            -0.977377         -0.991337         -0.976250         -0.064920             -0.513227             -0.527672              0.020783               -0.044799               -0.129923                0.126460                0.078835               -0.003754                0.077803                0.150990                0.185486               -0.042218                0.174794               -0.414379                0.194938                   -0.664390                   -0.235406                   -0.384526              0.733911              0.691573             -0.974281            -0.994458            -0.988239            -0.973974            -0.994411            -0.987853            -0.444262             0.688972             0.679409            -0.342426             0.748888             0.691286             0.280986          -0.992503                0.090899               -0.069428               -0.972324            -0.994563            -0.986109            -0.382529                -0.721574                -0.724296                -0.662022                  0.659665                   -0.656936                  0.654004                   -0.348922                   0.317363                  -0.329114                   0.359448                  -0.021256                  0.019592                   -0.017323                  0.012699                    0.939907                      -0.966834                      -0.966394                       0.076204               0.011978              -0.002538              -0.988273             -0.988334             -0.987221             -0.988369             -0.987728             -0.987547             -0.985049             -0.992360             -0.978634              0.987312              0.983034              0.984674             -0.989563           -0.999852                -0.999820                -0.999731                -0.984665             -0.987164             -0.985637             -0.634415                 -0.754968                 -0.698065                  0.100937                    0.170523                    0.000844                   0.103872                    -0.014734                    0.173373                   -0.009725                   0.501358                     0.222558                    0.160904                    0.282005                    0.180822                    0.190580                        0.155047                       -0.298359                       -0.026374           -0.072760            0.090334           -0.989064          -0.960100          -0.988128          -0.989436          -0.959048          -0.990471          -0.876356          -0.939255          -0.735836          0.837925           0.893062           0.827973           -0.974681        -0.999926             -0.999116             -0.999880             -0.990280          -0.957377          -0.992498          -0.326517              -0.047073              -0.390191               0.101798                -0.037252                 0.339688                -0.205749                -0.044465                -0.039814                 0.384060                -0.447774                 0.085898                -0.075578                 0.280371                -0.297899                -0.321910                     0.006455                     0.292442                    -0.095252               -0.039049               -0.052187               -0.982750              -0.982065              -0.989490              -0.982820              -0.982903              -0.991043              -0.983942              -0.982000              -0.984753              0.984901               0.985695               0.987014               -0.985458            -0.999783                 -0.999796                 -0.999885                 -0.984316              -0.984501              -0.993070              -0.384532                  -0.271824                  -0.545150                   0.212228                    -0.005001                     0.390776                     0.353429                     0.103946                    0.046970                      0.509482                    -0.027626                     0.246071                     0.062701                     0.324060                     0.386796                     0.218736                         0.552949                        -0.017816                        -0.978823           -0.983018          -0.984084          -0.981568          -0.988410          -0.978823          -0.999526             -0.984017          -0.549855               0.280758               -0.301325                0.097401                0.144674               -0.978823              -0.983018             -0.984084             -0.981568             -0.988410             -0.978823             -0.999526                -0.984017             -0.549855                  0.280758                  -0.301325                   0.097401                   0.144674                  -0.989379               -0.987547              -0.990471              -0.978285              -0.986864              -0.989379              -0.999787                 -0.992632              -0.791628                   0.210389                   -0.210201                   -0.202487                    0.160009                   -0.971579            -0.973969           -0.970502           -0.977005           -0.973774           -0.971579           -0.999446              -0.969589            0.020402                0.132321                -0.211119                 0.431864                -0.560983                -0.984335                -0.984375               -0.984871               -0.985066               -0.974001               -0.984335               -0.999808                  -0.985185               -0.328239                    0.787973                    -0.497227                    -0.217575                    -0.118757                    -0.984438          -0.986758          -0.985375          -0.972290         -0.989902         -0.979244         -0.981463         -0.987686         -0.982733         -0.968892         -0.994158         -0.970050         -0.998216         -0.997774         -0.995863         -0.986210       -0.999596            -0.999829            -0.999516            -0.986643         -0.985540         -0.980302         -0.854006             -1.000000             -0.848109             -1.000000           -0.733333           -1.000000           -0.535019               0.092349               0.178305               0.577911               0.385820              -0.670445              -0.931041              -0.023248              -0.226240              -0.999490                   -0.999905                    -0.999897                     -0.999687                     -0.999790                     -0.999772                     -0.999985                     -0.999999                     -0.999567                    -0.999824                     -0.999798                     -0.999990                     -0.999592                    -0.999688                     -0.999854                     -0.999857                      -0.999893                       -0.999855                       -0.999675                       -0.999873                       -0.999889                       -0.999998                       -0.999831                      -0.999862                       -0.999746                       -0.999932                       -0.999829                      -0.999835                       -0.999504                     -0.999807                      -0.999555                       -0.999791                       -0.999857                       -0.999584                       -0.999712                       -0.999991                       -0.999573                      -0.999674                       -0.999821                       -0.999802                       -0.999515                      -0.999816                       -0.988331              -0.987811              -0.986563              -0.989244             -0.989900             -0.986226             -0.985941             -0.989146             -0.985151             -0.992715             -0.991128             -0.989839             -0.996939             -0.985561             -0.995283             -0.987652           -0.999851                -0.999820                -0.999731                -0.983484             -0.990498             -0.986509             -1.000000                 -1.000000                 -1.000000                 -0.04                   -0.40                   -0.32                    0.174199                  -0.065831                   0.030419                  -0.546539                  -0.877119                  -0.610941                  -0.938205                  -0.555904                  -0.899239                  -0.999964                       -0.999931                        -0.999905                         -0.999680                         -0.999764                         -0.999669                         -0.999973                         -0.999993                         -0.999941                        -0.999795                         -0.999719                         -0.999972                         -0.999921                        -0.999587                         -0.999865                         -0.999866                          -0.999874                           -0.999842                           -0.999694                           -0.999815                           -0.999863                           -0.999959                           -0.999853                          -0.999843                           -0.999719                           -0.999879                           -0.999840                          -0.999815                           -0.999825                         -0.999769                          -0.999545                           -0.999772                           -0.999861                           -0.999550                           -0.999512                           -0.999991                           -0.999774                          -0.999686                           -0.999766                           -0.999537                           -0.999629                          -0.999796                           -0.983839           -0.971231           -0.986754           -0.990795          -0.954580          -0.989614          -0.986971          -0.968200          -0.986884          -0.993689          -0.953209          -0.990927          -0.995300          -0.996354          -0.991024          -0.978776        -0.999919             -0.999102             -0.999876             -0.985927          -0.978140          -0.984998          -0.723666              -0.474854              -0.732707              -0.933333            -1.000000            -1.000000             0.172285               -0.374239                0.051912               -0.599257               -0.878840                0.244463               -0.103003               -0.333806               -0.640622               -0.999960                    -0.999832                     -0.999729                      -0.999871                      -0.999807                      -0.999846                      -0.999861                      -0.999992                      -0.999938                     -0.999731                      -0.999805                      -0.999919                      -0.999924                     -0.999851                      -0.998638                      -0.999896                       -0.999867                        -0.999862                        -0.999946                        -0.999843                        -0.999613                        -0.999997                        -0.999016                       -0.999834                        -0.999925                        -0.999727                        -0.999024                       -0.999871                        -0.999911                      -0.999957                       -0.999805                        -0.999968                        -0.999943                        -0.999933                        -0.999919                        -0.999978                        -0.999903                       -0.999801                        -0.999946                        -0.999945                        -0.999880                       -0.999963                        -0.986517           -0.982429          -0.982614          -0.987237          -0.991046          -0.986517          -0.999684             -0.994577          -0.843671              -1.000000             0.044366               -0.321560               -0.700230               -0.986992                   -0.986931                  -0.985921                  -0.989096                  -0.996545                  -0.986992                  -0.999782                     -0.990793                  -1.000000                      -1.000000                     0.174267                       -0.403287                       -0.773760                       -0.975651                -0.977050               -0.973545               -0.979402               -0.995805               -0.975651               -0.999571                  -0.973541               -0.557620                   -0.948718                 -0.008374                    -0.483112                    -0.764102                    -0.983496                    -0.986354                   -0.984333                   -0.988370                   -0.980295                   -0.983496                   -0.999831                      -0.982600                   -0.809976                       -0.968254                      0.403619                        -0.438013                        -0.777369                        -0.129041                     0.053440                             -0.559511                         -0.419126                              0.528380             -0.490640             -0.513974             LAYING      1\n",
       "495         0.278257           -0.016710          -0.106023          -0.993648         -0.992108         -0.997078         -0.994975         -0.991352         -0.996562         -0.933622         -0.575069         -0.828755          0.851009          0.693805          0.846583         -0.995873       -0.999953            -0.999958            -0.999954            -0.995870         -0.991150         -0.991628         -0.623340             -0.676394             -0.600695              0.141846               -0.124546                0.131284                0.198112                0.109429                0.018795                0.028302                0.106680                0.158424               -0.048862                0.105087                0.101001               -0.415269                   -0.193994                    0.134338                   -0.335955              0.841628              0.539663             -0.994631            -0.996291            -0.998316            -0.995231            -0.996362            -0.998408            -0.403667             0.793193             0.527256            -0.290837             0.855307             0.541705             0.260988          -0.982320                0.425808               -0.435960               -0.996816            -0.996572            -0.998811            -0.914690                -1.000000                -1.000000                -0.512653                  0.529350                   -0.546283                  0.563579                   -0.039717                  -0.037711                   0.053349                  -0.041181                  -0.386087                  0.417774                   -0.449484                  0.478595                   -0.947864                      -0.594061                       0.496372                       0.068931               0.011011              -0.003779              -0.992842             -0.992065             -0.998529             -0.992756             -0.990233             -0.997413             -0.991135             -0.994748             -0.999144              0.989923              0.994846              0.997154             -0.995685           -0.999926                -0.999892                -0.999977                -0.991871             -0.989163             -0.995307             -0.797535                 -0.858956                 -0.903215                  0.089746                   -0.057568                    0.201175                   0.051652                     0.043141                    0.266460                    0.044122                   0.501656                    -0.024162                   -0.001816                   -0.034205                    0.201041                   -0.093063                        0.301620                        0.051314                       -0.020942           -0.055935            0.043713           -0.997759          -0.995123          -0.995183          -0.997820          -0.995107          -0.995733          -0.882144          -0.951706          -0.769171          0.847924           0.914878           0.815410           -0.979942        -0.999965             -0.999918             -0.999269             -0.997984          -0.994951          -0.996604          -0.394802              -0.218309              -1.000000               0.219049                -0.281932                 0.355850                -0.100773                 0.055243                -0.091124                 0.131325                -0.027098                 0.144904                -0.193406                 0.143289                -0.012845                -0.157766                    -0.075382                    -0.184615                    -0.098109               -0.038577               -0.052184               -0.997980              -0.996214              -0.995418              -0.997884              -0.996135              -0.995319              -0.998517              -0.994428              -0.994011              0.997509               0.998379               0.995901               -0.997212            -0.999990                 -0.999984                 -0.999963                 -0.997705              -0.995362              -0.995425              -0.818224                  -0.659331                  -0.681548                   0.358092                    -0.217142                     0.288971                     0.275060                     0.139088                    0.134496                      0.184383                     0.412600                     0.298443                    -0.114052                     0.211897                     0.019992                     0.018524                        -0.193475                         0.022832                        -0.996896           -0.996308          -0.997312          -0.992765          -0.998572          -0.996896          -0.999960             -0.996647          -0.851403               0.218320               -0.272368                0.388604               -0.248905               -0.996896              -0.996308             -0.997312             -0.992765             -0.998572             -0.996896             -0.999960                -0.996647             -0.851403                  0.218320                  -0.272368                   0.388604                  -0.248905                  -0.995976               -0.998226              -0.997856              -0.998448              -0.989677              -0.995976              -0.999947                 -0.997328              -0.942389                   0.180779                    0.029074                   -0.269043                   -0.106186                   -0.980711            -0.994844           -0.994114           -0.992545           -0.956580           -0.980711           -0.999766              -0.993506           -0.536600                0.076735                -0.186132                 0.044851                 0.160378                -0.997191                -0.997687               -0.998031               -0.995743               -0.990731               -0.997191               -0.999985                  -0.997813               -0.818546                    0.451675                    -0.394675                    -0.058265                    -0.034018                    -0.991793          -0.992039          -0.999326          -0.994539         -0.991522         -0.994919         -0.992478         -0.992430         -0.995785         -0.996640         -0.990563         -0.992265         -0.987256         -0.995000         -0.997400         -0.996309       -0.999952            -0.999890            -0.999947            -0.989989         -0.994842         -1.000000         -1.000000             -0.944870             -0.944190             -0.354839           -1.000000           -0.153846           -0.001722               0.159413               0.137774              -0.589991              -0.922129              -0.299106              -0.621753              -0.468881              -0.736018              -0.999968                   -0.999919                    -0.999957                     -0.999875                     -0.999856                     -0.999918                     -0.999900                     -0.999949                     -0.999953                    -0.999931                     -0.999894                     -0.999916                     -0.999955                    -0.999869                     -0.999885                     -0.999938                      -0.999878                       -0.999905                       -0.999828                       -0.999904                       -0.999912                       -0.999992                       -0.999896                      -0.999862                       -0.999870                       -0.999943                       -0.999885                      -0.999911                       -0.999931                     -0.999812                      -0.999949                       -0.999960                       -0.999966                       -0.999875                       -0.999935                       -0.999996                       -0.999916                      -0.999986                       -0.999985                       -0.999962                       -0.999928                      -0.999984                       -0.992401              -0.992499              -0.999231              -0.994064             -0.992037             -0.996171             -0.992295             -0.991759             -0.998494             -0.995777             -0.993709             -0.990907             -0.994593             -0.984386             -0.995138             -0.995987           -0.999926                -0.999892                -0.999977                -0.991732             -0.993200             -0.998445             -1.000000                 -1.000000                 -1.000000                 -0.60                   -0.28                   -0.56                    0.119648                   0.089330                  -0.017974                  -0.558980                  -0.874840                  -0.477673                  -0.909596                  -0.049260                  -0.403500                  -0.999972                       -0.999923                        -0.999970                         -0.999869                         -0.999896                         -0.999933                         -0.999883                         -0.999993                         -0.999939                        -0.999929                         -0.999916                         -0.999884                         -0.999945                        -0.999859                         -0.999938                         -0.999956                          -0.999843                           -0.999897                           -0.999834                           -0.999879                           -0.999890                           -0.999948                           -0.999952                          -0.999846                           -0.999860                           -0.999901                           -0.999898                          -0.999903                           -0.999907                         -0.999823                          -0.999946                           -0.999960                           -0.999966                           -0.999847                           -0.999883                           -0.999985                           -0.999849                          -0.999983                           -0.999936                           -0.999888                           -0.999937                          -0.999977                           -0.997592           -0.994540           -0.994243           -0.997744          -0.995494          -0.995940          -0.997845          -0.995547          -0.994942          -0.997093          -0.996280          -0.997388          -0.999487          -0.997547          -0.997045          -0.996319        -0.999993             -0.999975             -0.999967             -0.998804          -0.994431          -0.994750          -0.920371              -0.870162              -0.888885              -0.600000            -1.000000            -1.000000             0.135448                0.029451                0.227663               -0.209945               -0.547828               -0.517504               -0.837619               -0.557848               -0.852706               -0.999994                    -0.999994                     -0.999991                      -0.999993                      -0.999993                      -0.999966                      -0.999991                      -1.000000                      -0.999993                     -0.999992                      -0.999983                      -0.999995                      -0.999993                     -0.999991                      -0.999975                      -0.999987                       -0.999994                        -0.999989                        -0.999988                        -0.999963                        -0.999977                        -0.999999                        -0.999976                       -0.999991                        -0.999983                        -0.999983                        -0.999975                       -0.999986                        -0.999980                      -0.999962                       -0.999977                        -0.999966                        -0.999970                        -0.999968                        -0.999895                        -0.999994                        -0.999970                       -0.999964                        -0.999975                        -0.999938                        -0.999969                       -0.999971                        -0.996909           -0.995530          -0.994548          -0.997720          -0.997685          -0.996909          -0.999956             -0.996751          -1.000000              -0.586207             0.269332               -0.669302               -0.911210               -0.998186                   -0.996984                  -0.995204                  -0.997718                  -0.991736                  -0.998186                  -0.999978                     -0.994737                  -1.000000                      -0.936508                     0.499338                       -0.760215                       -0.955327                       -0.996074                -0.994616               -0.995223               -0.994571               -0.999175               -0.996074               -0.999969                  -0.995449               -0.896695                   -1.000000                  0.082166                    -0.280316                    -0.633258                    -0.997449                    -0.997867                   -0.997362                   -0.998510                   -0.993825                   -0.997449                   -0.999990                      -0.996406                   -1.000000                       -0.650794                      0.417903                        -0.704708                        -0.912165                        -0.533229                     0.143378                              0.061076                         -0.947027                              0.493754             -0.614997             -0.379927             LAYING      1\n",
       "494         0.274811           -0.015350          -0.109194          -0.993579         -0.984178         -0.988830         -0.993966         -0.985478         -0.989529         -0.940813         -0.562470         -0.821646          0.845147          0.685994          0.841706         -0.991917       -0.999951            -0.999886            -0.999790            -0.994361         -0.988815         -0.989602         -0.623929             -0.518125             -0.592664              0.196590               -0.207906                0.289727                0.115671                0.262292               -0.234125                0.173164                0.428165                0.317103               -0.125409                0.068270               -0.165421                0.131605                   -0.083745                   -0.315377                   -0.399907              0.647167              0.780722             -0.995529            -0.997183            -0.995284            -0.995338            -0.997584            -0.995173            -0.466921             0.603708             0.766766            -0.351225             0.663598             0.781729             0.254057          -0.994862               -0.146262                0.188164               -0.994575            -0.998287            -0.994977            -0.687697                -0.771812                -0.813564                -0.482633                  0.488167                   -0.493464                  0.498659                   -0.428071                   0.450616                  -0.514523                   0.594012                  -0.284960                  0.288951                   -0.292347                  0.292904                   -0.672433                      -0.302479                       0.161046                       0.074130               0.008073               0.002468              -0.992056             -0.987309             -0.993035             -0.990941             -0.985575             -0.991594             -0.993208             -0.994069             -0.997795              0.993091              0.990587              0.989992             -0.991485           -0.999914                -0.999798                -0.999873                -0.987458             -0.985620             -0.992830             -0.730889                 -0.747247                 -0.877183                  0.124891                   -0.065675                    0.163538                   0.418558                     0.042088                   -0.171755                   -0.092133                   0.560617                     0.303805                    0.122863                    0.166685                    0.190027                    0.056890                        0.495656                       -0.266394                       -0.025906           -0.039659            0.047842           -0.990736          -0.996282          -0.994417          -0.991632          -0.996425          -0.994701          -0.875564          -0.949631          -0.765329          0.842620           0.920047           0.817384           -0.976231        -0.999943             -0.999777             -0.999391             -0.992367          -0.996623          -0.995045          -0.378470              -0.279739              -1.000000               0.043028                -0.179772                 0.266888                 0.308647                -0.057645                -0.074225                 0.181441                -0.033678                 0.182782                -0.313593                 0.347431                -0.114801                -0.415258                     0.607967                    -0.081809                    -0.096360               -0.043314               -0.054922               -0.993298              -0.998714              -0.995237              -0.993867              -0.998962              -0.994668              -0.991229              -0.997869              -0.993909              0.988077               0.999306               0.997159               -0.997371            -0.999951                 -0.999996                 -0.999961                 -0.994818              -0.999231              -0.993986              -0.652022                  -0.898434                  -0.668566                   0.065643                    -0.329631                     0.153637                     0.026492                     0.056707                    0.020445                      0.163455                     0.237254                     0.347243                    -0.307487                     0.304656                     0.031740                    -0.014210                         0.336301                         0.010558                        -0.992678           -0.990753          -0.991079          -0.991101          -0.994535          -0.992678          -0.999876             -0.990656          -0.713513               0.196741               -0.193027                0.260250               -0.231678               -0.992678              -0.990753             -0.991079             -0.991101             -0.994535             -0.992678             -0.999876                -0.990656             -0.713513                  0.196741                  -0.193027                   0.260250                  -0.231678                  -0.991886               -0.995128              -0.994397              -0.995633              -0.984654              -0.991886              -0.999873                 -0.993725              -0.880670                   0.234198                   -0.200729                   -0.043037                   -0.079173                   -0.977745            -0.994338           -0.993772           -0.990651           -0.946743           -0.977745           -0.999702              -0.993923           -0.508416                0.028307                -0.147810                 0.151322                -0.053313                -0.997153                -0.997705               -0.998017               -0.995891               -0.987615               -0.997153               -0.999985                  -0.997766               -0.864100                    0.214494                    -0.315549                     0.325136                    -0.306355                    -0.992480          -0.984362          -0.990596          -0.994020         -0.983961         -0.987648         -0.991717         -0.984696         -0.989401         -0.996415         -0.985328         -0.982596         -0.999888         -0.987948         -0.990713         -0.991353       -0.999952            -0.999717            -0.999754            -0.990223         -0.989679         -0.990238         -1.000000             -0.904748             -0.868799             -1.000000           -0.600000           -1.000000           -0.190855               0.097842               0.247597              -0.595654              -0.922241              -0.297420              -0.650590              -0.302582              -0.554197              -0.999967                   -0.999926                    -0.999894                     -0.999972                     -0.999907                     -0.999883                     -0.999948                     -1.000000                     -0.999954                    -0.999907                     -0.999913                     -0.999966                     -0.999952                    -0.999947                     -0.999658                     -0.999896                      -0.999907                       -0.999909                       -0.999816                       -0.999500                       -0.999875                       -0.999957                       -0.999701                      -0.999891                       -0.999706                       -0.999906                       -0.999712                      -0.999863                       -0.999692                     -0.999914                      -0.999872                       -0.999792                       -0.999829                       -0.999632                       -0.999774                       -0.999948                       -0.999757                      -0.999876                       -0.999812                       -0.999834                       -0.999759                      -0.999814                       -0.991838              -0.986964              -0.991166              -0.993041             -0.988689             -0.993556             -0.991410             -0.989430             -0.992639             -0.994412             -0.987725             -0.991145             -0.991202             -0.995895             -0.986606             -0.990782           -0.999914                -0.999798                -0.999873                -0.989879             -0.990930             -0.988997             -1.000000                 -1.000000                 -1.000000                 -0.28                   -0.76                   -0.04                    0.097257                  -0.030502                   0.221651                  -0.440576                  -0.804056                  -0.465945                  -0.836306                  -0.612045                  -0.841870                  -0.999974                       -0.999921                        -0.999894                         -0.999964                         -0.999908                         -0.999822                         -0.999912                         -0.999985                         -0.999939                        -0.999911                         -0.999879                         -0.999911                         -0.999915                        -0.999904                         -0.999480                         -0.999904                          -0.999892                           -0.999895                           -0.999819                           -0.999396                           -0.999870                           -0.999947                           -0.999798                          -0.999881                           -0.999642                           -0.999884                           -0.999808                          -0.999818                           -0.999823                         -0.999895                          -0.999878                           -0.999804                           -0.999820                           -0.999626                           -0.999696                           -0.999942                           -0.999880                          -0.999871                           -0.999757                           -0.999706                           -0.999904                          -0.999812                           -0.990348           -0.996463           -0.994099           -0.990813          -0.996099          -0.994942          -0.989434          -0.996447          -0.993513          -0.991369          -0.997266          -0.995936          -0.996032          -0.996568          -0.999639          -0.994510        -0.999939             -0.999983             -0.999959             -0.995202          -0.996860          -0.992550          -0.744002              -0.847740              -0.888885              -0.600000            -1.000000            -0.586207            -0.226786               -0.114765                0.116669               -0.247586               -0.640934               -0.423148               -0.822780               -0.467071               -0.772840               -0.999938                    -0.999975                     -0.999994                      -0.999977                      -0.999966                      -0.999958                      -0.999961                      -0.999995                      -0.999939                     -0.999988                      -0.999960                      -0.999976                      -0.999940                     -0.999973                      -0.999975                      -0.999996                       -0.999997                        -0.999997                        -0.999997                        -0.999989                        -0.999984                        -0.999990                        -0.999981                       -0.999996                        -0.999996                        -0.999985                        -0.999982                       -0.999997                        -0.999968                      -0.999971                       -0.999980                        -0.999972                        -0.999978                        -0.999942                        -0.999917                        -1.000000                        -0.999962                       -0.999970                        -0.999974                        -0.999953                        -0.999961                       -0.999974                        -0.990418           -0.991452          -0.990512          -0.993118          -0.995303          -0.990418          -0.999863             -0.992883          -0.946182              -0.931034             0.248892               -0.503874               -0.779637               -0.994294                   -0.995217                  -0.993420                  -0.995391                  -0.991326                  -0.994294                  -0.999933                     -0.993964                  -1.000000                      -0.619048                     0.519038                       -0.685367                       -0.900295                       -0.995842                -0.994010               -0.993565               -0.993797               -0.999326               -0.995842               -0.999964                  -0.994751               -0.956057                   -0.948718                 -0.038520                    -0.380408                    -0.680242                    -0.997813                    -0.997258                   -0.996900                   -0.997553                   -0.995817                   -0.997813                   -0.999990                      -0.996446                   -1.000000                       -1.000000                      0.261908                        -0.516518                        -0.808906                        -0.203989                    -0.023079                              0.067924                          0.385459                              0.539374             -0.405778             -0.603093             LAYING      1\n",
       "1999        0.332680            0.005249          -0.115524          -0.239439         -0.070931         -0.320112         -0.300972         -0.110684         -0.329833         -0.001693         -0.151004         -0.405989          0.284341          0.083823          0.330797         -0.173261       -0.708896            -0.831867            -0.789592            -0.421435         -0.400191         -0.334949          0.380086              0.379539              0.132396             -0.306746                0.321223               -0.194310                0.147017                0.143903               -0.090957                0.417665               -0.351358               -0.168349                0.225051                0.014278               -0.288501               -0.431295                   -0.373112                    0.447742                    0.941701             -0.263742             -0.161783             -0.989444            -0.950291            -0.959463            -0.990482            -0.948000            -0.966058             0.872219            -0.272608            -0.156356             0.958342            -0.246887            -0.169506             0.070658           0.842585               -0.883406               -0.944503               -0.991714            -0.941735            -0.980822            -1.000000                -1.000000                -1.000000                -0.040799                  0.108402                   -0.166818                  0.215748                   -0.096867                   0.108066                  -0.180974                   0.276811                  -0.258791                  0.290797                   -0.321102                  0.347280                    0.399359                      -0.187951                      -0.803284                       0.079529              -0.184655              -0.276822              -0.102506             -0.021588             -0.482268             -0.124921              0.059622             -0.480347             -0.451915             -0.509781             -0.514384             -0.138858              0.287929              0.393368             -0.147560           -0.594631                -0.516424                -0.860202                -0.201240             -0.045923             -0.460263              0.828281                  0.683320                  0.474683                 -0.310028                    0.419252                   -0.177014                   0.294258                     0.160229                    0.025817                    0.515843                   0.436264                    -0.166142                    0.256375                    0.082163                    0.103467                   -0.470003                       -0.074312                        0.224406                       -0.010603           -0.033999            0.036611           -0.580260          -0.417548          -0.449527          -0.599839          -0.462990          -0.475821          -0.523943          -0.508085          -0.307154          0.305259           0.574779           0.405099           -0.416015        -0.919166             -0.831846             -0.857928             -0.627684          -0.551040          -0.590895           0.285702               0.084804               0.413080              -0.226147                 0.282614                 0.023715                -0.155652                -0.052202                 0.033592                 0.410595                -0.157340                -0.221198                 0.212695                 0.021090                -0.122696                -0.018821                     0.135724                    -0.443543                    -0.307639               -0.131865               -0.270997               -0.338247              -0.468204              -0.496772              -0.343230              -0.505891              -0.537844              -0.247468              -0.467721              -0.458493              0.318810               0.633995               0.519965               -0.467364            -0.779041                 -0.857654                 -0.871080                 -0.387898              -0.565542              -0.658908               0.486261                   0.599223                   0.532621                  -0.106067                     0.211767                     0.292382                     0.039344                    -0.056350                    0.039476                      0.408730                     0.237223                    -0.116118                     0.064661                     0.452055                    -0.370524                     0.182791                         0.340391                        -0.454406                        -0.173746           -0.219782          -0.331718          -0.040092          -0.764053          -0.173746          -0.634080             -0.457610           0.768568              -0.075088               -0.043951                0.316541               -0.216909               -0.173746              -0.219782             -0.331718             -0.040092             -0.764053             -0.173746             -0.634080                -0.457610              0.768568                 -0.075088                  -0.043951                   0.316541                  -0.216909                  -0.165458               -0.070659              -0.138669               0.024490              -0.542188              -0.165458              -0.612961                 -0.266469               0.769199                   0.049845                   -0.380490                    0.278601                    0.146850                   -0.410161            -0.483996           -0.466209           -0.487786           -0.448331           -0.410161           -0.816426              -0.542115            0.873900                0.213281                -0.178749                 0.141980                -0.251472                -0.450227                -0.456973               -0.506630               -0.521411               -0.742093               -0.450227               -0.842649                  -0.550228                0.882607                    0.373234                    -0.393465                     0.273569                    -0.330890                    -0.161292          -0.030421          -0.326516          -0.272498         -0.152358         -0.371257         -0.149701         -0.115122         -0.310295         -0.485364         -0.501142         -0.572626         -0.920282         -0.666412         -0.698972         -0.049376       -0.708763            -0.563407            -0.761428            -0.093435         -0.290131         -0.476847          0.770156              0.636971              0.399530             -0.806452           -0.733333           -0.923077           -0.303381               0.237771               0.223042              -0.261507              -0.673332              -0.469841              -0.830225              -0.562108              -0.836859              -0.752241                   -0.772207                    -0.376274                     -0.748283                     -0.653265                     -0.835507                     -0.951910                     -0.998912                     -0.735112                    -0.389661                     -0.721592                     -0.967664                     -0.709609                    -0.686403                     -0.723640                     -0.808784                      -0.205802                       -0.776885                       -0.657853                       -0.487128                       -0.645809                       -0.942315                       -0.689885                      -0.168090                       -0.553147                       -0.759440                       -0.576511                      -0.695942                       -0.811290                     -0.857146                      -0.819333                       -0.910872                       -0.916279                       -0.848414                       -0.884848                       -0.824898                       -0.803110                      -0.852525                       -0.892730                       -0.865902                       -0.772621                      -0.905715                       -0.115065              -0.103973              -0.450318              -0.170400              0.004238             -0.511368              0.023248             -0.101332             -0.488622             -0.216481              0.015696             -0.495616             -0.811847             -0.966202             -0.633576             -0.080306           -0.593876                -0.516568                -0.860298                 0.156391             -0.277370             -0.523671              0.691683                  0.627859                  0.371269                 -0.32                   -0.32                   -0.24                   -0.179413                  -0.113504                  -0.244259                  -0.234186                  -0.585560                  -0.050290                  -0.503732                  -0.236306                  -0.642346                  -0.848371                       -0.741271                        -0.437088                         -0.735517                         -0.614147                         -0.765674                         -0.915139                         -0.993168                         -0.766391                        -0.436978                         -0.644412                         -0.915288                         -0.596680                        -0.565792                         -0.804714                         -0.880994                          -0.118690                           -0.783985                           -0.699246                           -0.324718                           -0.752722                           -0.999319                           -0.846097                          -0.255061                           -0.466983                           -0.783834                           -0.499972                          -0.658740                           -0.863814                         -0.820734                          -0.816498                           -0.936371                           -0.938429                           -0.895477                           -0.922488                           -0.963378                           -0.798289                          -0.875135                           -0.921330                           -0.922257                           -0.784854                          -0.930487                           -0.359665           -0.387147           -0.337323           -0.655678          -0.441279          -0.542086          -0.516517          -0.425429          -0.389387          -0.686992          -0.652823          -0.732679          -0.840279          -0.812534          -0.782647          -0.325345        -0.911254             -0.829295             -0.846679             -0.337001          -0.431103          -0.356258           0.654208               0.660791               0.485620              -0.933333            -0.032258            -0.931034             0.224201                0.001223                0.071683               -0.445134               -0.744058               -0.540517               -0.877129               -0.490922               -0.823200               -0.952160                    -0.828640                     -0.753889                      -0.814426                      -0.903274                      -0.870741                      -0.888401                      -0.933504                      -0.929937                     -0.726328                      -0.880300                      -0.908359                      -0.917706                     -0.831415                      -0.921642                      -0.857754                       -0.904278                        -0.957443                        -0.974387                        -0.911848                        -0.823670                        -0.993173                        -0.854730                       -0.897563                        -0.961282                        -0.873124                        -0.819127                       -0.955347                        -0.889753                      -0.938526                       -0.827497                        -0.951364                        -0.959724                        -0.920894                        -0.882436                        -0.912691                        -0.874521                       -0.811962                        -0.949120                        -0.895590                        -0.851934                       -0.950670                        -0.150080           -0.382908          -0.279399          -0.556558          -0.444184          -0.150080          -0.690654             -0.444417           0.469264              -0.448276             0.268866               -0.391715               -0.720449               -0.091444                   -0.044524                   0.007263                  -0.227046                  -0.398855                  -0.091444                  -0.559657                     -0.180945                   0.484258                      -0.873016                     0.066940                       -0.107082                       -0.539872                       -0.468203                -0.587472               -0.526120               -0.618979               -0.232138               -0.468203               -0.865511                  -0.508647                0.458855                   -0.794872                  0.308702                    -0.412184                    -0.714415                    -0.475818                    -0.470490                   -0.439086                   -0.537346                   -0.894593                   -0.475818                   -0.851295                      -0.478394                    0.450231                       -0.873016                      0.049611                        -0.136726                        -0.569246                        -0.341108                    -0.181585                             -0.318367                          0.408750                             -0.711674              0.262563              0.133116             WALKING     1\n",
       "Length: 1500, dtype: int64"
      ]
     },
     "execution_count": 8,
     "metadata": {},
     "output_type": "execute_result"
    }
   ],
   "source": [
    "df.value_counts()"
   ]
  },
  {
   "cell_type": "markdown",
   "metadata": {
    "id": "WGW0SHAE3S3U"
   },
   "source": [
    "### Step3. [ Build GradientBoostingClassifier]"
   ]
  },
  {
   "cell_type": "code",
   "execution_count": 9,
   "metadata": {
    "id": "YSSndi5W4PvT"
   },
   "outputs": [],
   "source": [
    "X=df.drop('Activity',axis=1)\n",
    "y=df.Activity"
   ]
  },
  {
   "cell_type": "code",
   "execution_count": 10,
   "metadata": {
    "id": "sie-bXERzl8I"
   },
   "outputs": [],
   "source": [
    "X_train,X_test,y_train,y_test = train_test_split(X,y,test_size=0.3,random_state=22)"
   ]
  },
  {
   "cell_type": "code",
   "execution_count": 11,
   "metadata": {
    "colab": {
     "base_uri": "https://localhost:8080/"
    },
    "id": "Cw-TJmsH5Oef",
    "outputId": "d33e9078-7ad8-4681-edfc-b271339a83cf"
   },
   "outputs": [],
   "source": [
    "model = GradientBoostingClassifier(n_estimators=100,learning_rate=1.0,max_depth=1,random_state=0)"
   ]
  },
  {
   "cell_type": "code",
   "execution_count": 12,
   "metadata": {
    "colab": {
     "base_uri": "https://localhost:8080/"
    },
    "id": "Cw-TJmsH5Oef",
    "outputId": "d33e9078-7ad8-4681-edfc-b271339a83cf"
   },
   "outputs": [
    {
     "data": {
      "text/plain": [
       "GradientBoostingClassifier(learning_rate=1.0, max_depth=1, random_state=0)"
      ]
     },
     "execution_count": 12,
     "metadata": {},
     "output_type": "execute_result"
    }
   ],
   "source": [
    "model.fit(X_train,y_train)"
   ]
  },
  {
   "cell_type": "code",
   "execution_count": 13,
   "metadata": {
    "colab": {
     "base_uri": "https://localhost:8080/"
    },
    "id": "B5OWxD1a578-",
    "outputId": "6ebc8ce6-2b15-403a-d976-e598d7862434"
   },
   "outputs": [
    {
     "data": {
      "text/plain": [
       "array(['LAYING', 'LAYING', 'LAYING', 'SITTING', 'SITTING', 'LAYING',\n",
       "       'WALKING', 'WALKING', 'SITTING', 'WALKING', 'LAYING', 'LAYING',\n",
       "       'SITTING', 'LAYING', 'SITTING', 'LAYING', 'WALKING', 'SITTING',\n",
       "       'LAYING', 'LAYING', 'SITTING', 'LAYING', 'LAYING', 'LAYING',\n",
       "       'SITTING', 'LAYING', 'SITTING', 'SITTING', 'SITTING', 'WALKING',\n",
       "       'WALKING', 'SITTING', 'WALKING', 'SITTING', 'LAYING', 'LAYING',\n",
       "       'SITTING', 'SITTING', 'SITTING', 'LAYING', 'LAYING', 'LAYING',\n",
       "       'SITTING', 'SITTING', 'SITTING', 'SITTING', 'WALKING', 'WALKING',\n",
       "       'LAYING', 'LAYING', 'SITTING', 'LAYING', 'WALKING', 'LAYING',\n",
       "       'SITTING', 'LAYING', 'WALKING', 'SITTING', 'SITTING', 'SITTING',\n",
       "       'WALKING', 'SITTING', 'SITTING', 'SITTING', 'WALKING', 'WALKING',\n",
       "       'WALKING', 'WALKING', 'WALKING', 'LAYING', 'SITTING', 'LAYING',\n",
       "       'LAYING', 'WALKING', 'WALKING', 'WALKING', 'SITTING', 'WALKING',\n",
       "       'WALKING', 'LAYING', 'LAYING', 'LAYING', 'WALKING', 'WALKING',\n",
       "       'WALKING', 'LAYING', 'WALKING', 'SITTING', 'LAYING', 'WALKING',\n",
       "       'LAYING', 'LAYING', 'WALKING', 'LAYING', 'WALKING', 'WALKING',\n",
       "       'SITTING', 'LAYING', 'SITTING', 'WALKING', 'WALKING', 'LAYING',\n",
       "       'SITTING', 'SITTING', 'LAYING', 'SITTING', 'SITTING', 'SITTING',\n",
       "       'LAYING', 'WALKING', 'SITTING', 'LAYING', 'LAYING', 'WALKING',\n",
       "       'WALKING', 'WALKING', 'WALKING', 'LAYING', 'WALKING', 'WALKING',\n",
       "       'SITTING', 'WALKING', 'WALKING', 'LAYING', 'SITTING', 'WALKING',\n",
       "       'LAYING', 'SITTING', 'LAYING', 'LAYING', 'WALKING', 'WALKING',\n",
       "       'WALKING', 'SITTING', 'LAYING', 'SITTING', 'WALKING', 'SITTING',\n",
       "       'SITTING', 'SITTING', 'WALKING', 'LAYING', 'LAYING', 'LAYING',\n",
       "       'LAYING', 'LAYING', 'LAYING', 'LAYING', 'WALKING', 'SITTING',\n",
       "       'LAYING', 'WALKING', 'WALKING', 'SITTING', 'SITTING', 'SITTING',\n",
       "       'LAYING', 'WALKING', 'LAYING', 'LAYING', 'WALKING', 'LAYING',\n",
       "       'SITTING', 'LAYING', 'WALKING', 'SITTING', 'SITTING', 'SITTING',\n",
       "       'WALKING', 'LAYING', 'LAYING', 'WALKING', 'SITTING', 'WALKING',\n",
       "       'WALKING', 'WALKING', 'SITTING', 'LAYING', 'LAYING', 'SITTING',\n",
       "       'SITTING', 'SITTING', 'WALKING', 'WALKING', 'LAYING', 'WALKING',\n",
       "       'LAYING', 'WALKING', 'SITTING', 'WALKING', 'WALKING', 'LAYING',\n",
       "       'SITTING', 'SITTING', 'SITTING', 'SITTING', 'WALKING', 'LAYING',\n",
       "       'WALKING', 'WALKING', 'SITTING', 'LAYING', 'LAYING', 'LAYING',\n",
       "       'WALKING', 'LAYING', 'LAYING', 'WALKING', 'SITTING', 'SITTING',\n",
       "       'SITTING', 'LAYING', 'LAYING', 'LAYING', 'LAYING', 'WALKING',\n",
       "       'SITTING', 'LAYING', 'SITTING', 'SITTING', 'WALKING', 'SITTING',\n",
       "       'SITTING', 'SITTING', 'WALKING', 'WALKING', 'LAYING', 'SITTING',\n",
       "       'WALKING', 'WALKING', 'LAYING', 'WALKING', 'LAYING', 'WALKING',\n",
       "       'SITTING', 'LAYING', 'SITTING', 'LAYING', 'SITTING', 'SITTING',\n",
       "       'SITTING', 'SITTING', 'SITTING', 'WALKING', 'LAYING', 'LAYING',\n",
       "       'SITTING', 'SITTING', 'LAYING', 'WALKING', 'LAYING', 'LAYING',\n",
       "       'LAYING', 'SITTING', 'SITTING', 'WALKING', 'WALKING', 'SITTING',\n",
       "       'SITTING', 'WALKING', 'SITTING', 'SITTING', 'WALKING', 'SITTING',\n",
       "       'WALKING', 'LAYING', 'WALKING', 'SITTING', 'LAYING', 'WALKING',\n",
       "       'WALKING', 'SITTING', 'WALKING', 'WALKING', 'WALKING', 'SITTING',\n",
       "       'SITTING', 'LAYING', 'LAYING', 'LAYING', 'SITTING', 'SITTING',\n",
       "       'WALKING', 'SITTING', 'SITTING', 'LAYING', 'LAYING', 'LAYING',\n",
       "       'SITTING', 'WALKING', 'WALKING', 'SITTING', 'SITTING', 'WALKING',\n",
       "       'WALKING', 'WALKING', 'SITTING', 'LAYING', 'SITTING', 'WALKING',\n",
       "       'LAYING', 'LAYING', 'SITTING', 'WALKING', 'WALKING', 'LAYING',\n",
       "       'LAYING', 'SITTING', 'WALKING', 'SITTING', 'SITTING', 'WALKING',\n",
       "       'WALKING', 'LAYING', 'WALKING', 'LAYING', 'WALKING', 'SITTING',\n",
       "       'SITTING', 'SITTING', 'SITTING', 'SITTING', 'LAYING', 'LAYING',\n",
       "       'LAYING', 'WALKING', 'LAYING', 'SITTING', 'SITTING', 'LAYING',\n",
       "       'LAYING', 'SITTING', 'LAYING', 'SITTING', 'SITTING', 'WALKING',\n",
       "       'SITTING', 'LAYING', 'SITTING', 'WALKING', 'LAYING', 'LAYING',\n",
       "       'SITTING', 'SITTING', 'WALKING', 'WALKING', 'LAYING', 'LAYING',\n",
       "       'SITTING', 'WALKING', 'LAYING', 'LAYING', 'LAYING', 'LAYING',\n",
       "       'SITTING', 'LAYING', 'WALKING', 'WALKING', 'SITTING', 'WALKING',\n",
       "       'WALKING', 'WALKING', 'WALKING', 'WALKING', 'SITTING', 'WALKING',\n",
       "       'SITTING', 'WALKING', 'LAYING', 'LAYING', 'SITTING', 'WALKING',\n",
       "       'LAYING', 'LAYING', 'SITTING', 'LAYING', 'WALKING', 'SITTING',\n",
       "       'WALKING', 'SITTING', 'LAYING', 'SITTING', 'WALKING', 'WALKING',\n",
       "       'WALKING', 'SITTING', 'WALKING', 'WALKING', 'WALKING', 'WALKING',\n",
       "       'SITTING', 'WALKING', 'LAYING', 'LAYING', 'WALKING', 'LAYING',\n",
       "       'WALKING', 'WALKING', 'WALKING', 'LAYING', 'LAYING', 'WALKING',\n",
       "       'SITTING', 'LAYING', 'LAYING', 'SITTING', 'LAYING', 'LAYING',\n",
       "       'SITTING', 'WALKING', 'LAYING', 'SITTING', 'LAYING', 'LAYING',\n",
       "       'LAYING', 'SITTING', 'SITTING', 'SITTING', 'SITTING', 'SITTING',\n",
       "       'WALKING', 'WALKING', 'WALKING', 'LAYING', 'LAYING', 'LAYING',\n",
       "       'SITTING', 'WALKING', 'LAYING', 'SITTING', 'SITTING', 'LAYING',\n",
       "       'LAYING', 'SITTING', 'WALKING', 'WALKING', 'LAYING', 'WALKING',\n",
       "       'LAYING', 'WALKING', 'LAYING', 'WALKING', 'LAYING', 'LAYING',\n",
       "       'WALKING', 'LAYING', 'WALKING', 'LAYING', 'WALKING', 'LAYING'],\n",
       "      dtype=object)"
      ]
     },
     "execution_count": 13,
     "metadata": {},
     "output_type": "execute_result"
    }
   ],
   "source": [
    "y_pred=model.predict(X_test)\n",
    "y_pred"
   ]
  },
  {
   "cell_type": "code",
   "execution_count": 14,
   "metadata": {
    "colab": {
     "base_uri": "https://localhost:8080/"
    },
    "id": "FXu6ZGj56Ewk",
    "outputId": "041dbecd-aa79-4093-9363-e037f41e4567"
   },
   "outputs": [
    {
     "data": {
      "text/plain": [
       "1.0"
      ]
     },
     "execution_count": 14,
     "metadata": {},
     "output_type": "execute_result"
    }
   ],
   "source": [
    "accuracy_score(y_test,y_pred)"
   ]
  },
  {
   "cell_type": "code",
   "execution_count": 15,
   "metadata": {
    "colab": {
     "base_uri": "https://localhost:8080/"
    },
    "id": "G-OLG0696XbI",
    "outputId": "2460a8ab-e1d3-4572-f6c4-98cb9d5a9ee0"
   },
   "outputs": [
    {
     "name": "stdout",
     "output_type": "stream",
     "text": [
      "              precision    recall  f1-score   support\n",
      "\n",
      "      LAYING       1.00      1.00      1.00       154\n",
      "     SITTING       1.00      1.00      1.00       148\n",
      "     WALKING       1.00      1.00      1.00       148\n",
      "\n",
      "    accuracy                           1.00       450\n",
      "   macro avg       1.00      1.00      1.00       450\n",
      "weighted avg       1.00      1.00      1.00       450\n",
      "\n"
     ]
    }
   ],
   "source": [
    "print(classification_report(y_test,y_pred))"
   ]
  },
  {
   "cell_type": "markdown",
   "metadata": {
    "id": "HA_YGeQV6vD1"
   },
   "source": [
    "### Step4. [Find Best no. of trees and Best Learning Rate using Grid Search and Cross Validation]"
   ]
  },
  {
   "cell_type": "code",
   "execution_count": 16,
   "metadata": {
    "id": "nqudZAIA6jIn"
   },
   "outputs": [],
   "source": [
    "Param_grid={'n_estimators':[50, 100, 200, 400],'learning_rate':[0.1, 0.01]}"
   ]
  },
  {
   "cell_type": "code",
   "execution_count": 17,
   "metadata": {},
   "outputs": [],
   "source": [
    "classifier = GradientBoostingClassifier()"
   ]
  },
  {
   "cell_type": "code",
   "execution_count": 18,
   "metadata": {},
   "outputs": [],
   "source": [
    "all_scores = cross_val_score(estimator=classifier,X=X_train,y=y_train,cv=5)"
   ]
  },
  {
   "cell_type": "code",
   "execution_count": 19,
   "metadata": {},
   "outputs": [
    {
     "name": "stdout",
     "output_type": "stream",
     "text": [
      "[1.        1.        1.        1.        0.9952381]\n"
     ]
    }
   ],
   "source": [
    "print(all_scores)"
   ]
  },
  {
   "cell_type": "code",
   "execution_count": 20,
   "metadata": {
    "id": "GBeQpRFW8KhT"
   },
   "outputs": [],
   "source": [
    "model2 = GridSearchCV(estimator=classifier,param_grid=Param_grid,cv=5,n_jobs=-1)"
   ]
  },
  {
   "cell_type": "code",
   "execution_count": 21,
   "metadata": {
    "colab": {
     "base_uri": "https://localhost:8080/",
     "height": 303
    },
    "id": "A1FOjV_EKLiT",
    "outputId": "eefd6925-21c5-47b4-a74d-c31be637909d"
   },
   "outputs": [
    {
     "data": {
      "text/plain": [
       "GridSearchCV(cv=5, estimator=GradientBoostingClassifier(), n_jobs=-1,\n",
       "             param_grid={'learning_rate': [0.1, 0.01],\n",
       "                         'n_estimators': [50, 100, 200, 400]})"
      ]
     },
     "execution_count": 21,
     "metadata": {},
     "output_type": "execute_result"
    }
   ],
   "source": [
    "model2.fit(X_train,y_train)"
   ]
  },
  {
   "cell_type": "code",
   "execution_count": 22,
   "metadata": {},
   "outputs": [
    {
     "data": {
      "text/plain": [
       "array(['LAYING', 'LAYING', 'LAYING', 'SITTING', 'SITTING', 'LAYING',\n",
       "       'WALKING', 'WALKING', 'SITTING', 'WALKING', 'LAYING', 'LAYING',\n",
       "       'SITTING', 'LAYING', 'SITTING', 'LAYING', 'WALKING', 'SITTING',\n",
       "       'LAYING', 'LAYING', 'SITTING', 'LAYING', 'LAYING', 'LAYING',\n",
       "       'SITTING', 'LAYING', 'SITTING', 'SITTING', 'SITTING', 'WALKING',\n",
       "       'WALKING', 'SITTING', 'WALKING', 'SITTING', 'LAYING', 'LAYING',\n",
       "       'SITTING', 'SITTING', 'SITTING', 'LAYING', 'LAYING', 'LAYING',\n",
       "       'SITTING', 'SITTING', 'SITTING', 'SITTING', 'WALKING', 'WALKING',\n",
       "       'LAYING', 'LAYING', 'SITTING', 'LAYING', 'WALKING', 'LAYING',\n",
       "       'SITTING', 'LAYING', 'WALKING', 'SITTING', 'SITTING', 'SITTING',\n",
       "       'WALKING', 'SITTING', 'SITTING', 'SITTING', 'WALKING', 'WALKING',\n",
       "       'WALKING', 'WALKING', 'WALKING', 'LAYING', 'SITTING', 'LAYING',\n",
       "       'LAYING', 'WALKING', 'WALKING', 'WALKING', 'SITTING', 'WALKING',\n",
       "       'WALKING', 'LAYING', 'LAYING', 'LAYING', 'WALKING', 'WALKING',\n",
       "       'WALKING', 'LAYING', 'WALKING', 'SITTING', 'LAYING', 'WALKING',\n",
       "       'LAYING', 'LAYING', 'WALKING', 'LAYING', 'WALKING', 'WALKING',\n",
       "       'SITTING', 'LAYING', 'SITTING', 'WALKING', 'WALKING', 'LAYING',\n",
       "       'SITTING', 'SITTING', 'LAYING', 'SITTING', 'SITTING', 'SITTING',\n",
       "       'LAYING', 'WALKING', 'SITTING', 'LAYING', 'LAYING', 'WALKING',\n",
       "       'WALKING', 'WALKING', 'WALKING', 'LAYING', 'WALKING', 'WALKING',\n",
       "       'SITTING', 'WALKING', 'WALKING', 'LAYING', 'SITTING', 'WALKING',\n",
       "       'LAYING', 'SITTING', 'LAYING', 'LAYING', 'WALKING', 'WALKING',\n",
       "       'WALKING', 'SITTING', 'LAYING', 'SITTING', 'WALKING', 'SITTING',\n",
       "       'SITTING', 'SITTING', 'WALKING', 'LAYING', 'LAYING', 'LAYING',\n",
       "       'LAYING', 'LAYING', 'LAYING', 'LAYING', 'WALKING', 'SITTING',\n",
       "       'LAYING', 'WALKING', 'WALKING', 'SITTING', 'SITTING', 'SITTING',\n",
       "       'LAYING', 'WALKING', 'LAYING', 'LAYING', 'WALKING', 'LAYING',\n",
       "       'SITTING', 'LAYING', 'WALKING', 'SITTING', 'SITTING', 'SITTING',\n",
       "       'WALKING', 'LAYING', 'LAYING', 'WALKING', 'SITTING', 'WALKING',\n",
       "       'WALKING', 'WALKING', 'SITTING', 'LAYING', 'LAYING', 'SITTING',\n",
       "       'SITTING', 'SITTING', 'WALKING', 'WALKING', 'LAYING', 'WALKING',\n",
       "       'LAYING', 'WALKING', 'SITTING', 'WALKING', 'WALKING', 'LAYING',\n",
       "       'SITTING', 'SITTING', 'SITTING', 'SITTING', 'WALKING', 'LAYING',\n",
       "       'WALKING', 'WALKING', 'SITTING', 'LAYING', 'LAYING', 'LAYING',\n",
       "       'WALKING', 'LAYING', 'LAYING', 'WALKING', 'SITTING', 'SITTING',\n",
       "       'SITTING', 'LAYING', 'LAYING', 'LAYING', 'LAYING', 'WALKING',\n",
       "       'SITTING', 'LAYING', 'SITTING', 'SITTING', 'WALKING', 'SITTING',\n",
       "       'SITTING', 'SITTING', 'WALKING', 'WALKING', 'LAYING', 'SITTING',\n",
       "       'WALKING', 'WALKING', 'LAYING', 'WALKING', 'LAYING', 'WALKING',\n",
       "       'SITTING', 'LAYING', 'SITTING', 'LAYING', 'SITTING', 'SITTING',\n",
       "       'SITTING', 'SITTING', 'SITTING', 'WALKING', 'LAYING', 'LAYING',\n",
       "       'SITTING', 'SITTING', 'LAYING', 'WALKING', 'LAYING', 'LAYING',\n",
       "       'LAYING', 'SITTING', 'SITTING', 'WALKING', 'WALKING', 'SITTING',\n",
       "       'SITTING', 'WALKING', 'SITTING', 'SITTING', 'WALKING', 'SITTING',\n",
       "       'WALKING', 'LAYING', 'WALKING', 'SITTING', 'LAYING', 'WALKING',\n",
       "       'WALKING', 'SITTING', 'WALKING', 'WALKING', 'WALKING', 'SITTING',\n",
       "       'SITTING', 'LAYING', 'LAYING', 'LAYING', 'SITTING', 'SITTING',\n",
       "       'WALKING', 'SITTING', 'SITTING', 'LAYING', 'LAYING', 'LAYING',\n",
       "       'SITTING', 'WALKING', 'WALKING', 'SITTING', 'SITTING', 'WALKING',\n",
       "       'WALKING', 'WALKING', 'SITTING', 'LAYING', 'SITTING', 'WALKING',\n",
       "       'LAYING', 'LAYING', 'SITTING', 'WALKING', 'WALKING', 'LAYING',\n",
       "       'LAYING', 'SITTING', 'WALKING', 'SITTING', 'SITTING', 'WALKING',\n",
       "       'WALKING', 'LAYING', 'WALKING', 'LAYING', 'WALKING', 'SITTING',\n",
       "       'SITTING', 'SITTING', 'SITTING', 'SITTING', 'LAYING', 'LAYING',\n",
       "       'LAYING', 'WALKING', 'LAYING', 'SITTING', 'SITTING', 'LAYING',\n",
       "       'LAYING', 'SITTING', 'LAYING', 'SITTING', 'SITTING', 'WALKING',\n",
       "       'SITTING', 'LAYING', 'SITTING', 'WALKING', 'LAYING', 'LAYING',\n",
       "       'SITTING', 'SITTING', 'WALKING', 'WALKING', 'LAYING', 'LAYING',\n",
       "       'SITTING', 'WALKING', 'LAYING', 'LAYING', 'LAYING', 'LAYING',\n",
       "       'SITTING', 'LAYING', 'WALKING', 'WALKING', 'SITTING', 'WALKING',\n",
       "       'WALKING', 'WALKING', 'WALKING', 'WALKING', 'SITTING', 'WALKING',\n",
       "       'SITTING', 'WALKING', 'LAYING', 'LAYING', 'SITTING', 'WALKING',\n",
       "       'LAYING', 'LAYING', 'SITTING', 'LAYING', 'WALKING', 'SITTING',\n",
       "       'WALKING', 'SITTING', 'LAYING', 'SITTING', 'WALKING', 'WALKING',\n",
       "       'WALKING', 'SITTING', 'WALKING', 'WALKING', 'WALKING', 'WALKING',\n",
       "       'SITTING', 'WALKING', 'LAYING', 'LAYING', 'WALKING', 'LAYING',\n",
       "       'WALKING', 'WALKING', 'WALKING', 'LAYING', 'LAYING', 'WALKING',\n",
       "       'SITTING', 'LAYING', 'LAYING', 'SITTING', 'LAYING', 'LAYING',\n",
       "       'SITTING', 'WALKING', 'LAYING', 'SITTING', 'LAYING', 'LAYING',\n",
       "       'LAYING', 'SITTING', 'SITTING', 'SITTING', 'SITTING', 'SITTING',\n",
       "       'WALKING', 'WALKING', 'WALKING', 'LAYING', 'LAYING', 'LAYING',\n",
       "       'SITTING', 'WALKING', 'LAYING', 'SITTING', 'SITTING', 'LAYING',\n",
       "       'LAYING', 'SITTING', 'WALKING', 'WALKING', 'LAYING', 'WALKING',\n",
       "       'LAYING', 'WALKING', 'LAYING', 'WALKING', 'LAYING', 'LAYING',\n",
       "       'WALKING', 'LAYING', 'WALKING', 'LAYING', 'WALKING', 'LAYING'],\n",
       "      dtype=object)"
      ]
     },
     "execution_count": 22,
     "metadata": {},
     "output_type": "execute_result"
    }
   ],
   "source": [
    "y_pred2=model2.predict(X_test)\n",
    "y_pred2"
   ]
  },
  {
   "cell_type": "code",
   "execution_count": 23,
   "metadata": {},
   "outputs": [
    {
     "data": {
      "text/plain": [
       "1.0"
      ]
     },
     "execution_count": 23,
     "metadata": {},
     "output_type": "execute_result"
    }
   ],
   "source": [
    "accuracy_score(y_test,y_pred2)"
   ]
  },
  {
   "cell_type": "code",
   "execution_count": 24,
   "metadata": {},
   "outputs": [
    {
     "name": "stdout",
     "output_type": "stream",
     "text": [
      "              precision    recall  f1-score   support\n",
      "\n",
      "      LAYING       1.00      1.00      1.00       154\n",
      "     SITTING       1.00      1.00      1.00       148\n",
      "     WALKING       1.00      1.00      1.00       148\n",
      "\n",
      "    accuracy                           1.00       450\n",
      "   macro avg       1.00      1.00      1.00       450\n",
      "weighted avg       1.00      1.00      1.00       450\n",
      "\n"
     ]
    }
   ],
   "source": [
    "print(classification_report(y_test,y_pred2))"
   ]
  },
  {
   "cell_type": "code",
   "execution_count": 25,
   "metadata": {},
   "outputs": [
    {
     "data": {
      "text/plain": [
       "GradientBoostingClassifier(n_estimators=50)"
      ]
     },
     "execution_count": 25,
     "metadata": {},
     "output_type": "execute_result"
    }
   ],
   "source": [
    "model2.best_estimator_"
   ]
  },
  {
   "cell_type": "markdown",
   "metadata": {
    "id": "841LeEQEaz9M"
   },
   "source": [
    "### Step5. [Build AdaBoostClassifier]"
   ]
  },
  {
   "cell_type": "code",
   "execution_count": 26,
   "metadata": {
    "id": "2OiEi0fxet0D"
   },
   "outputs": [],
   "source": [
    "base = DecisionTreeClassifier()"
   ]
  },
  {
   "cell_type": "code",
   "execution_count": 27,
   "metadata": {
    "id": "1u7ImqWoa1ts"
   },
   "outputs": [],
   "source": [
    "base2 = AdaBoostClassifier(base_estimator=base,random_state=0)"
   ]
  },
  {
   "cell_type": "code",
   "execution_count": 28,
   "metadata": {
    "id": "6jzu2TnJcH6p"
   },
   "outputs": [],
   "source": [
    "param_grid = {'n_estimators': [100, 150, 200], 'learning_rate': [0.01, 0.001]}"
   ]
  },
  {
   "cell_type": "code",
   "execution_count": 29,
   "metadata": {
    "id": "F8YPZHuCcOO7"
   },
   "outputs": [],
   "source": [
    "model3 = GridSearchCV(base2,param_grid,cv=10,n_jobs=-1)"
   ]
  },
  {
   "cell_type": "code",
   "execution_count": 30,
   "metadata": {
    "colab": {
     "base_uri": "https://localhost:8080/"
    },
    "id": "x-YRJR5Pchfh",
    "outputId": "1f23cd5a-7371-430b-8891-900b4226b86f"
   },
   "outputs": [
    {
     "data": {
      "text/plain": [
       "GridSearchCV(cv=10,\n",
       "             estimator=AdaBoostClassifier(base_estimator=DecisionTreeClassifier(),\n",
       "                                          random_state=0),\n",
       "             n_jobs=-1,\n",
       "             param_grid={'learning_rate': [0.01, 0.001],\n",
       "                         'n_estimators': [100, 150, 200]})"
      ]
     },
     "execution_count": 30,
     "metadata": {},
     "output_type": "execute_result"
    }
   ],
   "source": [
    "model3.fit(X_train,y_train)"
   ]
  },
  {
   "cell_type": "code",
   "execution_count": 31,
   "metadata": {
    "colab": {
     "base_uri": "https://localhost:8080/"
    },
    "id": "b1pUbc1-fNK3",
    "outputId": "a669e175-c8a9-4242-b47d-a1c75f66ebe0"
   },
   "outputs": [
    {
     "data": {
      "text/plain": [
       "array(['LAYING', 'LAYING', 'LAYING', 'SITTING', 'SITTING', 'LAYING',\n",
       "       'WALKING', 'WALKING', 'SITTING', 'WALKING', 'LAYING', 'LAYING',\n",
       "       'SITTING', 'LAYING', 'SITTING', 'LAYING', 'WALKING', 'SITTING',\n",
       "       'LAYING', 'LAYING', 'SITTING', 'LAYING', 'LAYING', 'LAYING',\n",
       "       'SITTING', 'LAYING', 'SITTING', 'SITTING', 'SITTING', 'WALKING',\n",
       "       'WALKING', 'SITTING', 'WALKING', 'SITTING', 'LAYING', 'LAYING',\n",
       "       'SITTING', 'SITTING', 'SITTING', 'LAYING', 'LAYING', 'LAYING',\n",
       "       'SITTING', 'SITTING', 'SITTING', 'SITTING', 'WALKING', 'WALKING',\n",
       "       'LAYING', 'LAYING', 'SITTING', 'LAYING', 'WALKING', 'LAYING',\n",
       "       'SITTING', 'LAYING', 'WALKING', 'SITTING', 'SITTING', 'SITTING',\n",
       "       'WALKING', 'SITTING', 'SITTING', 'SITTING', 'WALKING', 'WALKING',\n",
       "       'WALKING', 'WALKING', 'WALKING', 'LAYING', 'SITTING', 'LAYING',\n",
       "       'LAYING', 'WALKING', 'WALKING', 'WALKING', 'SITTING', 'WALKING',\n",
       "       'WALKING', 'LAYING', 'LAYING', 'LAYING', 'WALKING', 'WALKING',\n",
       "       'WALKING', 'LAYING', 'WALKING', 'SITTING', 'LAYING', 'WALKING',\n",
       "       'LAYING', 'LAYING', 'WALKING', 'LAYING', 'WALKING', 'WALKING',\n",
       "       'SITTING', 'LAYING', 'SITTING', 'WALKING', 'WALKING', 'LAYING',\n",
       "       'SITTING', 'SITTING', 'LAYING', 'SITTING', 'SITTING', 'SITTING',\n",
       "       'LAYING', 'WALKING', 'SITTING', 'LAYING', 'LAYING', 'WALKING',\n",
       "       'WALKING', 'WALKING', 'WALKING', 'LAYING', 'WALKING', 'WALKING',\n",
       "       'SITTING', 'WALKING', 'WALKING', 'LAYING', 'SITTING', 'WALKING',\n",
       "       'LAYING', 'SITTING', 'LAYING', 'LAYING', 'WALKING', 'WALKING',\n",
       "       'WALKING', 'SITTING', 'LAYING', 'SITTING', 'WALKING', 'SITTING',\n",
       "       'SITTING', 'SITTING', 'WALKING', 'LAYING', 'LAYING', 'LAYING',\n",
       "       'LAYING', 'LAYING', 'LAYING', 'LAYING', 'WALKING', 'SITTING',\n",
       "       'LAYING', 'WALKING', 'WALKING', 'SITTING', 'SITTING', 'SITTING',\n",
       "       'LAYING', 'WALKING', 'LAYING', 'LAYING', 'WALKING', 'LAYING',\n",
       "       'SITTING', 'LAYING', 'WALKING', 'SITTING', 'SITTING', 'SITTING',\n",
       "       'WALKING', 'LAYING', 'LAYING', 'WALKING', 'SITTING', 'WALKING',\n",
       "       'WALKING', 'WALKING', 'SITTING', 'LAYING', 'LAYING', 'SITTING',\n",
       "       'SITTING', 'SITTING', 'WALKING', 'WALKING', 'LAYING', 'WALKING',\n",
       "       'LAYING', 'WALKING', 'SITTING', 'WALKING', 'WALKING', 'LAYING',\n",
       "       'SITTING', 'SITTING', 'SITTING', 'SITTING', 'WALKING', 'LAYING',\n",
       "       'WALKING', 'WALKING', 'SITTING', 'LAYING', 'LAYING', 'LAYING',\n",
       "       'WALKING', 'LAYING', 'LAYING', 'WALKING', 'SITTING', 'SITTING',\n",
       "       'SITTING', 'LAYING', 'LAYING', 'LAYING', 'LAYING', 'WALKING',\n",
       "       'SITTING', 'LAYING', 'SITTING', 'SITTING', 'WALKING', 'SITTING',\n",
       "       'SITTING', 'SITTING', 'WALKING', 'WALKING', 'LAYING', 'SITTING',\n",
       "       'WALKING', 'WALKING', 'LAYING', 'WALKING', 'LAYING', 'WALKING',\n",
       "       'SITTING', 'LAYING', 'SITTING', 'LAYING', 'SITTING', 'SITTING',\n",
       "       'SITTING', 'SITTING', 'SITTING', 'WALKING', 'LAYING', 'LAYING',\n",
       "       'SITTING', 'SITTING', 'LAYING', 'WALKING', 'LAYING', 'LAYING',\n",
       "       'LAYING', 'SITTING', 'SITTING', 'WALKING', 'WALKING', 'SITTING',\n",
       "       'SITTING', 'WALKING', 'SITTING', 'SITTING', 'WALKING', 'SITTING',\n",
       "       'WALKING', 'LAYING', 'WALKING', 'SITTING', 'LAYING', 'WALKING',\n",
       "       'WALKING', 'SITTING', 'WALKING', 'WALKING', 'WALKING', 'SITTING',\n",
       "       'SITTING', 'LAYING', 'LAYING', 'LAYING', 'SITTING', 'SITTING',\n",
       "       'WALKING', 'SITTING', 'SITTING', 'LAYING', 'LAYING', 'LAYING',\n",
       "       'SITTING', 'WALKING', 'WALKING', 'SITTING', 'SITTING', 'WALKING',\n",
       "       'WALKING', 'WALKING', 'SITTING', 'LAYING', 'SITTING', 'WALKING',\n",
       "       'LAYING', 'LAYING', 'SITTING', 'WALKING', 'WALKING', 'LAYING',\n",
       "       'LAYING', 'SITTING', 'WALKING', 'SITTING', 'SITTING', 'WALKING',\n",
       "       'WALKING', 'LAYING', 'WALKING', 'LAYING', 'WALKING', 'SITTING',\n",
       "       'SITTING', 'SITTING', 'SITTING', 'SITTING', 'LAYING', 'LAYING',\n",
       "       'LAYING', 'WALKING', 'LAYING', 'SITTING', 'SITTING', 'LAYING',\n",
       "       'LAYING', 'SITTING', 'LAYING', 'SITTING', 'SITTING', 'WALKING',\n",
       "       'SITTING', 'LAYING', 'SITTING', 'WALKING', 'LAYING', 'LAYING',\n",
       "       'SITTING', 'SITTING', 'WALKING', 'WALKING', 'LAYING', 'LAYING',\n",
       "       'SITTING', 'WALKING', 'LAYING', 'LAYING', 'LAYING', 'LAYING',\n",
       "       'SITTING', 'LAYING', 'WALKING', 'WALKING', 'SITTING', 'WALKING',\n",
       "       'WALKING', 'WALKING', 'WALKING', 'WALKING', 'SITTING', 'WALKING',\n",
       "       'SITTING', 'WALKING', 'LAYING', 'LAYING', 'SITTING', 'WALKING',\n",
       "       'LAYING', 'LAYING', 'SITTING', 'LAYING', 'WALKING', 'SITTING',\n",
       "       'WALKING', 'SITTING', 'LAYING', 'SITTING', 'WALKING', 'WALKING',\n",
       "       'WALKING', 'SITTING', 'WALKING', 'WALKING', 'WALKING', 'WALKING',\n",
       "       'SITTING', 'WALKING', 'LAYING', 'LAYING', 'WALKING', 'LAYING',\n",
       "       'WALKING', 'WALKING', 'WALKING', 'LAYING', 'LAYING', 'WALKING',\n",
       "       'SITTING', 'LAYING', 'LAYING', 'SITTING', 'LAYING', 'LAYING',\n",
       "       'SITTING', 'WALKING', 'LAYING', 'SITTING', 'LAYING', 'LAYING',\n",
       "       'LAYING', 'SITTING', 'SITTING', 'SITTING', 'SITTING', 'SITTING',\n",
       "       'WALKING', 'WALKING', 'WALKING', 'LAYING', 'LAYING', 'LAYING',\n",
       "       'SITTING', 'WALKING', 'LAYING', 'SITTING', 'SITTING', 'LAYING',\n",
       "       'LAYING', 'SITTING', 'WALKING', 'WALKING', 'LAYING', 'WALKING',\n",
       "       'LAYING', 'WALKING', 'LAYING', 'WALKING', 'LAYING', 'LAYING',\n",
       "       'WALKING', 'LAYING', 'WALKING', 'LAYING', 'WALKING', 'LAYING'],\n",
       "      dtype=object)"
      ]
     },
     "execution_count": 31,
     "metadata": {},
     "output_type": "execute_result"
    }
   ],
   "source": [
    "y_pred3=model3.predict(X_test)\n",
    "y_pred3"
   ]
  },
  {
   "cell_type": "code",
   "execution_count": 32,
   "metadata": {
    "colab": {
     "base_uri": "https://localhost:8080/"
    },
    "id": "e_BJH2mkfYr1",
    "outputId": "9585f779-2b13-436e-c049-d3609a1181f8"
   },
   "outputs": [
    {
     "data": {
      "text/plain": [
       "1.0"
      ]
     },
     "execution_count": 32,
     "metadata": {},
     "output_type": "execute_result"
    }
   ],
   "source": [
    "accuracy_score(y_test,y_pred3)"
   ]
  },
  {
   "cell_type": "code",
   "execution_count": 33,
   "metadata": {
    "colab": {
     "base_uri": "https://localhost:8080/"
    },
    "id": "D-5QIaRPfqmS",
    "outputId": "42ddabc3-d033-43af-a346-42b4740a47aa"
   },
   "outputs": [
    {
     "name": "stdout",
     "output_type": "stream",
     "text": [
      "              precision    recall  f1-score   support\n",
      "\n",
      "      LAYING       1.00      1.00      1.00       154\n",
      "     SITTING       1.00      1.00      1.00       148\n",
      "     WALKING       1.00      1.00      1.00       148\n",
      "\n",
      "    accuracy                           1.00       450\n",
      "   macro avg       1.00      1.00      1.00       450\n",
      "weighted avg       1.00      1.00      1.00       450\n",
      "\n"
     ]
    }
   ],
   "source": [
    "print(classification_report(y_test,y_pred3))"
   ]
  },
  {
   "cell_type": "code",
   "execution_count": 34,
   "metadata": {},
   "outputs": [
    {
     "data": {
      "text/plain": [
       "AdaBoostClassifier(base_estimator=DecisionTreeClassifier(), learning_rate=0.01,\n",
       "                   n_estimators=100, random_state=0)"
      ]
     },
     "execution_count": 34,
     "metadata": {},
     "output_type": "execute_result"
    }
   ],
   "source": [
    "model3.best_estimator_"
   ]
  },
  {
   "cell_type": "markdown",
   "metadata": {
    "id": "KPt_yK4-WLDO"
   },
   "source": [
    "### Step6. [Build LogisticRegressionCV classifier]"
   ]
  },
  {
   "cell_type": "code",
   "execution_count": 35,
   "metadata": {
    "id": "QYT4bDoG8YxW"
   },
   "outputs": [],
   "source": [
    "model4 = LogisticRegressionCV(cv=4,Cs=5,penalty='l2')"
   ]
  },
  {
   "cell_type": "code",
   "execution_count": 36,
   "metadata": {
    "colab": {
     "base_uri": "https://localhost:8080/"
    },
    "id": "YQs-rfcqU9JE",
    "outputId": "12f13753-68dd-4ff8-db9d-fd7dc9e834c6"
   },
   "outputs": [
    {
     "data": {
      "text/plain": [
       "LogisticRegressionCV(Cs=5, cv=4)"
      ]
     },
     "execution_count": 36,
     "metadata": {},
     "output_type": "execute_result"
    }
   ],
   "source": [
    "model4.fit(X_train,y_train)"
   ]
  },
  {
   "cell_type": "code",
   "execution_count": 37,
   "metadata": {
    "colab": {
     "base_uri": "https://localhost:8080/"
    },
    "id": "YzWlM-czVcS8",
    "outputId": "30273953-9a99-494d-d18e-3075cfc618ae"
   },
   "outputs": [
    {
     "data": {
      "text/plain": [
       "array(['LAYING', 'LAYING', 'LAYING', 'SITTING', 'SITTING', 'LAYING',\n",
       "       'WALKING', 'WALKING', 'SITTING', 'WALKING', 'LAYING', 'LAYING',\n",
       "       'SITTING', 'LAYING', 'SITTING', 'LAYING', 'WALKING', 'SITTING',\n",
       "       'LAYING', 'LAYING', 'SITTING', 'LAYING', 'LAYING', 'LAYING',\n",
       "       'SITTING', 'LAYING', 'SITTING', 'SITTING', 'SITTING', 'WALKING',\n",
       "       'WALKING', 'SITTING', 'WALKING', 'SITTING', 'LAYING', 'LAYING',\n",
       "       'SITTING', 'SITTING', 'SITTING', 'LAYING', 'LAYING', 'LAYING',\n",
       "       'SITTING', 'SITTING', 'SITTING', 'SITTING', 'WALKING', 'WALKING',\n",
       "       'LAYING', 'LAYING', 'SITTING', 'LAYING', 'WALKING', 'LAYING',\n",
       "       'SITTING', 'LAYING', 'WALKING', 'SITTING', 'SITTING', 'SITTING',\n",
       "       'WALKING', 'SITTING', 'SITTING', 'SITTING', 'WALKING', 'WALKING',\n",
       "       'WALKING', 'WALKING', 'WALKING', 'LAYING', 'SITTING', 'LAYING',\n",
       "       'LAYING', 'WALKING', 'WALKING', 'WALKING', 'SITTING', 'WALKING',\n",
       "       'WALKING', 'LAYING', 'LAYING', 'LAYING', 'WALKING', 'WALKING',\n",
       "       'WALKING', 'LAYING', 'WALKING', 'SITTING', 'LAYING', 'WALKING',\n",
       "       'LAYING', 'LAYING', 'WALKING', 'LAYING', 'WALKING', 'WALKING',\n",
       "       'SITTING', 'LAYING', 'SITTING', 'WALKING', 'WALKING', 'LAYING',\n",
       "       'SITTING', 'SITTING', 'LAYING', 'SITTING', 'SITTING', 'SITTING',\n",
       "       'LAYING', 'WALKING', 'SITTING', 'LAYING', 'LAYING', 'WALKING',\n",
       "       'WALKING', 'WALKING', 'WALKING', 'LAYING', 'WALKING', 'WALKING',\n",
       "       'SITTING', 'WALKING', 'WALKING', 'LAYING', 'SITTING', 'WALKING',\n",
       "       'LAYING', 'SITTING', 'LAYING', 'LAYING', 'WALKING', 'WALKING',\n",
       "       'WALKING', 'SITTING', 'LAYING', 'SITTING', 'WALKING', 'SITTING',\n",
       "       'SITTING', 'SITTING', 'WALKING', 'LAYING', 'LAYING', 'LAYING',\n",
       "       'LAYING', 'LAYING', 'LAYING', 'LAYING', 'WALKING', 'SITTING',\n",
       "       'LAYING', 'WALKING', 'WALKING', 'SITTING', 'SITTING', 'SITTING',\n",
       "       'LAYING', 'WALKING', 'LAYING', 'LAYING', 'WALKING', 'LAYING',\n",
       "       'SITTING', 'LAYING', 'WALKING', 'SITTING', 'SITTING', 'SITTING',\n",
       "       'WALKING', 'LAYING', 'LAYING', 'WALKING', 'SITTING', 'WALKING',\n",
       "       'WALKING', 'WALKING', 'SITTING', 'LAYING', 'LAYING', 'SITTING',\n",
       "       'SITTING', 'SITTING', 'WALKING', 'WALKING', 'LAYING', 'WALKING',\n",
       "       'LAYING', 'WALKING', 'SITTING', 'WALKING', 'WALKING', 'LAYING',\n",
       "       'SITTING', 'SITTING', 'SITTING', 'SITTING', 'WALKING', 'LAYING',\n",
       "       'WALKING', 'WALKING', 'SITTING', 'LAYING', 'LAYING', 'LAYING',\n",
       "       'WALKING', 'LAYING', 'LAYING', 'WALKING', 'SITTING', 'SITTING',\n",
       "       'SITTING', 'LAYING', 'LAYING', 'LAYING', 'LAYING', 'WALKING',\n",
       "       'SITTING', 'LAYING', 'SITTING', 'SITTING', 'WALKING', 'SITTING',\n",
       "       'SITTING', 'SITTING', 'WALKING', 'WALKING', 'LAYING', 'SITTING',\n",
       "       'WALKING', 'WALKING', 'LAYING', 'WALKING', 'LAYING', 'WALKING',\n",
       "       'SITTING', 'LAYING', 'SITTING', 'LAYING', 'SITTING', 'SITTING',\n",
       "       'SITTING', 'SITTING', 'SITTING', 'WALKING', 'LAYING', 'LAYING',\n",
       "       'SITTING', 'SITTING', 'LAYING', 'WALKING', 'LAYING', 'LAYING',\n",
       "       'LAYING', 'SITTING', 'SITTING', 'WALKING', 'WALKING', 'SITTING',\n",
       "       'SITTING', 'WALKING', 'SITTING', 'SITTING', 'WALKING', 'SITTING',\n",
       "       'WALKING', 'LAYING', 'WALKING', 'SITTING', 'LAYING', 'WALKING',\n",
       "       'WALKING', 'SITTING', 'WALKING', 'WALKING', 'WALKING', 'SITTING',\n",
       "       'SITTING', 'LAYING', 'LAYING', 'LAYING', 'SITTING', 'SITTING',\n",
       "       'WALKING', 'SITTING', 'SITTING', 'LAYING', 'LAYING', 'LAYING',\n",
       "       'SITTING', 'WALKING', 'WALKING', 'SITTING', 'SITTING', 'WALKING',\n",
       "       'WALKING', 'WALKING', 'SITTING', 'LAYING', 'SITTING', 'WALKING',\n",
       "       'LAYING', 'LAYING', 'SITTING', 'WALKING', 'WALKING', 'LAYING',\n",
       "       'LAYING', 'SITTING', 'WALKING', 'SITTING', 'SITTING', 'WALKING',\n",
       "       'WALKING', 'LAYING', 'WALKING', 'LAYING', 'WALKING', 'SITTING',\n",
       "       'SITTING', 'SITTING', 'SITTING', 'SITTING', 'LAYING', 'LAYING',\n",
       "       'LAYING', 'WALKING', 'LAYING', 'SITTING', 'SITTING', 'LAYING',\n",
       "       'LAYING', 'SITTING', 'LAYING', 'SITTING', 'SITTING', 'WALKING',\n",
       "       'SITTING', 'LAYING', 'SITTING', 'WALKING', 'LAYING', 'LAYING',\n",
       "       'SITTING', 'SITTING', 'WALKING', 'WALKING', 'LAYING', 'LAYING',\n",
       "       'SITTING', 'WALKING', 'LAYING', 'LAYING', 'LAYING', 'LAYING',\n",
       "       'SITTING', 'LAYING', 'WALKING', 'WALKING', 'SITTING', 'WALKING',\n",
       "       'WALKING', 'WALKING', 'WALKING', 'WALKING', 'SITTING', 'WALKING',\n",
       "       'SITTING', 'WALKING', 'LAYING', 'LAYING', 'SITTING', 'WALKING',\n",
       "       'LAYING', 'LAYING', 'SITTING', 'LAYING', 'WALKING', 'SITTING',\n",
       "       'WALKING', 'SITTING', 'LAYING', 'SITTING', 'WALKING', 'WALKING',\n",
       "       'WALKING', 'SITTING', 'WALKING', 'WALKING', 'WALKING', 'WALKING',\n",
       "       'SITTING', 'WALKING', 'LAYING', 'LAYING', 'WALKING', 'LAYING',\n",
       "       'WALKING', 'WALKING', 'WALKING', 'LAYING', 'LAYING', 'WALKING',\n",
       "       'SITTING', 'LAYING', 'LAYING', 'SITTING', 'LAYING', 'LAYING',\n",
       "       'SITTING', 'WALKING', 'LAYING', 'SITTING', 'LAYING', 'LAYING',\n",
       "       'LAYING', 'SITTING', 'SITTING', 'SITTING', 'SITTING', 'SITTING',\n",
       "       'WALKING', 'WALKING', 'WALKING', 'LAYING', 'LAYING', 'LAYING',\n",
       "       'SITTING', 'WALKING', 'LAYING', 'SITTING', 'SITTING', 'LAYING',\n",
       "       'LAYING', 'SITTING', 'WALKING', 'WALKING', 'LAYING', 'WALKING',\n",
       "       'LAYING', 'WALKING', 'LAYING', 'WALKING', 'LAYING', 'LAYING',\n",
       "       'WALKING', 'LAYING', 'WALKING', 'LAYING', 'WALKING', 'LAYING'],\n",
       "      dtype=object)"
      ]
     },
     "execution_count": 37,
     "metadata": {},
     "output_type": "execute_result"
    }
   ],
   "source": [
    "y_pred4=model4.predict(X_test)\n",
    "y_pred4"
   ]
  },
  {
   "cell_type": "code",
   "execution_count": 38,
   "metadata": {
    "colab": {
     "base_uri": "https://localhost:8080/"
    },
    "id": "cQQpPlUEVl0P",
    "outputId": "b66915e2-0701-4495-d981-2d267859243a"
   },
   "outputs": [
    {
     "data": {
      "text/plain": [
       "1.0"
      ]
     },
     "execution_count": 38,
     "metadata": {},
     "output_type": "execute_result"
    }
   ],
   "source": [
    "accuracy_score(y_test,y_pred4)"
   ]
  },
  {
   "cell_type": "code",
   "execution_count": 39,
   "metadata": {
    "colab": {
     "base_uri": "https://localhost:8080/"
    },
    "id": "mRF01ACMVwDv",
    "outputId": "4e7d3f82-26fc-4895-8b2b-b4d5adc05fa3"
   },
   "outputs": [
    {
     "name": "stdout",
     "output_type": "stream",
     "text": [
      "              precision    recall  f1-score   support\n",
      "\n",
      "      LAYING       1.00      1.00      1.00       154\n",
      "     SITTING       1.00      1.00      1.00       148\n",
      "     WALKING       1.00      1.00      1.00       148\n",
      "\n",
      "    accuracy                           1.00       450\n",
      "   macro avg       1.00      1.00      1.00       450\n",
      "weighted avg       1.00      1.00      1.00       450\n",
      "\n"
     ]
    }
   ],
   "source": [
    "print(classification_report(y_test,y_pred4))"
   ]
  },
  {
   "cell_type": "markdown",
   "metadata": {
    "id": "ki1OPDA0WPuq"
   },
   "source": [
    "### Step 7 [ Build VotingClassifier]"
   ]
  },
  {
   "cell_type": "code",
   "execution_count": 40,
   "metadata": {
    "id": "_TtnTMFQWUEF"
   },
   "outputs": [],
   "source": [
    "model5=VotingClassifier(estimators=[('lr',model4),('gbc',base2)],voting='hard')"
   ]
  },
  {
   "cell_type": "code",
   "execution_count": 41,
   "metadata": {
    "colab": {
     "base_uri": "https://localhost:8080/"
    },
    "id": "f7itbcSbjoQ4",
    "outputId": "fc1dad5f-9567-4c71-9d8a-867778f359e7"
   },
   "outputs": [
    {
     "data": {
      "text/plain": [
       "VotingClassifier(estimators=[('lr', LogisticRegressionCV(Cs=5, cv=4)),\n",
       "                             ('gbc',\n",
       "                              AdaBoostClassifier(base_estimator=DecisionTreeClassifier(),\n",
       "                                                 random_state=0))])"
      ]
     },
     "execution_count": 41,
     "metadata": {},
     "output_type": "execute_result"
    }
   ],
   "source": [
    "model5.fit(X_train,y_train)"
   ]
  },
  {
   "cell_type": "code",
   "execution_count": 42,
   "metadata": {
    "colab": {
     "base_uri": "https://localhost:8080/"
    },
    "id": "JFwQPic2jsut",
    "outputId": "0aca22c6-2d3e-4dbb-efe6-94982b4d025d"
   },
   "outputs": [
    {
     "data": {
      "text/plain": [
       "array(['LAYING', 'LAYING', 'LAYING', 'SITTING', 'SITTING', 'LAYING',\n",
       "       'WALKING', 'WALKING', 'SITTING', 'WALKING', 'LAYING', 'LAYING',\n",
       "       'SITTING', 'LAYING', 'SITTING', 'LAYING', 'WALKING', 'SITTING',\n",
       "       'LAYING', 'LAYING', 'SITTING', 'LAYING', 'LAYING', 'LAYING',\n",
       "       'SITTING', 'LAYING', 'SITTING', 'SITTING', 'SITTING', 'WALKING',\n",
       "       'WALKING', 'SITTING', 'WALKING', 'SITTING', 'LAYING', 'LAYING',\n",
       "       'SITTING', 'SITTING', 'SITTING', 'LAYING', 'LAYING', 'LAYING',\n",
       "       'SITTING', 'SITTING', 'SITTING', 'SITTING', 'WALKING', 'WALKING',\n",
       "       'LAYING', 'LAYING', 'SITTING', 'LAYING', 'WALKING', 'LAYING',\n",
       "       'SITTING', 'LAYING', 'WALKING', 'SITTING', 'SITTING', 'SITTING',\n",
       "       'WALKING', 'SITTING', 'SITTING', 'SITTING', 'WALKING', 'WALKING',\n",
       "       'WALKING', 'WALKING', 'WALKING', 'LAYING', 'SITTING', 'LAYING',\n",
       "       'LAYING', 'WALKING', 'WALKING', 'WALKING', 'SITTING', 'WALKING',\n",
       "       'WALKING', 'LAYING', 'LAYING', 'LAYING', 'WALKING', 'WALKING',\n",
       "       'WALKING', 'LAYING', 'WALKING', 'SITTING', 'LAYING', 'WALKING',\n",
       "       'LAYING', 'LAYING', 'WALKING', 'LAYING', 'WALKING', 'WALKING',\n",
       "       'SITTING', 'LAYING', 'SITTING', 'WALKING', 'WALKING', 'LAYING',\n",
       "       'SITTING', 'SITTING', 'LAYING', 'SITTING', 'SITTING', 'SITTING',\n",
       "       'LAYING', 'WALKING', 'SITTING', 'LAYING', 'LAYING', 'WALKING',\n",
       "       'WALKING', 'WALKING', 'WALKING', 'LAYING', 'WALKING', 'WALKING',\n",
       "       'SITTING', 'WALKING', 'WALKING', 'LAYING', 'SITTING', 'WALKING',\n",
       "       'LAYING', 'SITTING', 'LAYING', 'LAYING', 'WALKING', 'WALKING',\n",
       "       'WALKING', 'SITTING', 'LAYING', 'SITTING', 'WALKING', 'SITTING',\n",
       "       'SITTING', 'SITTING', 'WALKING', 'LAYING', 'LAYING', 'LAYING',\n",
       "       'LAYING', 'LAYING', 'LAYING', 'LAYING', 'WALKING', 'SITTING',\n",
       "       'LAYING', 'WALKING', 'WALKING', 'SITTING', 'SITTING', 'SITTING',\n",
       "       'LAYING', 'WALKING', 'LAYING', 'LAYING', 'WALKING', 'LAYING',\n",
       "       'SITTING', 'LAYING', 'WALKING', 'SITTING', 'SITTING', 'SITTING',\n",
       "       'WALKING', 'LAYING', 'LAYING', 'WALKING', 'SITTING', 'WALKING',\n",
       "       'WALKING', 'WALKING', 'SITTING', 'LAYING', 'LAYING', 'SITTING',\n",
       "       'SITTING', 'SITTING', 'WALKING', 'WALKING', 'LAYING', 'WALKING',\n",
       "       'LAYING', 'WALKING', 'SITTING', 'WALKING', 'WALKING', 'LAYING',\n",
       "       'SITTING', 'SITTING', 'SITTING', 'SITTING', 'WALKING', 'LAYING',\n",
       "       'WALKING', 'WALKING', 'SITTING', 'LAYING', 'LAYING', 'LAYING',\n",
       "       'WALKING', 'LAYING', 'LAYING', 'WALKING', 'SITTING', 'SITTING',\n",
       "       'SITTING', 'LAYING', 'LAYING', 'LAYING', 'LAYING', 'WALKING',\n",
       "       'SITTING', 'LAYING', 'SITTING', 'SITTING', 'WALKING', 'SITTING',\n",
       "       'SITTING', 'SITTING', 'WALKING', 'WALKING', 'LAYING', 'SITTING',\n",
       "       'WALKING', 'WALKING', 'LAYING', 'WALKING', 'LAYING', 'WALKING',\n",
       "       'SITTING', 'LAYING', 'SITTING', 'LAYING', 'SITTING', 'SITTING',\n",
       "       'SITTING', 'SITTING', 'SITTING', 'WALKING', 'LAYING', 'LAYING',\n",
       "       'SITTING', 'SITTING', 'LAYING', 'WALKING', 'LAYING', 'LAYING',\n",
       "       'LAYING', 'SITTING', 'SITTING', 'WALKING', 'WALKING', 'SITTING',\n",
       "       'SITTING', 'WALKING', 'SITTING', 'SITTING', 'WALKING', 'SITTING',\n",
       "       'WALKING', 'LAYING', 'WALKING', 'SITTING', 'LAYING', 'WALKING',\n",
       "       'WALKING', 'SITTING', 'WALKING', 'WALKING', 'WALKING', 'SITTING',\n",
       "       'SITTING', 'LAYING', 'LAYING', 'LAYING', 'SITTING', 'SITTING',\n",
       "       'WALKING', 'SITTING', 'SITTING', 'LAYING', 'LAYING', 'LAYING',\n",
       "       'SITTING', 'WALKING', 'WALKING', 'SITTING', 'SITTING', 'WALKING',\n",
       "       'WALKING', 'WALKING', 'SITTING', 'LAYING', 'SITTING', 'WALKING',\n",
       "       'LAYING', 'LAYING', 'SITTING', 'WALKING', 'WALKING', 'LAYING',\n",
       "       'LAYING', 'SITTING', 'WALKING', 'SITTING', 'SITTING', 'WALKING',\n",
       "       'WALKING', 'LAYING', 'WALKING', 'LAYING', 'WALKING', 'SITTING',\n",
       "       'SITTING', 'SITTING', 'SITTING', 'SITTING', 'LAYING', 'LAYING',\n",
       "       'LAYING', 'WALKING', 'LAYING', 'SITTING', 'SITTING', 'LAYING',\n",
       "       'LAYING', 'SITTING', 'LAYING', 'SITTING', 'SITTING', 'WALKING',\n",
       "       'SITTING', 'LAYING', 'SITTING', 'WALKING', 'LAYING', 'LAYING',\n",
       "       'SITTING', 'SITTING', 'WALKING', 'WALKING', 'LAYING', 'LAYING',\n",
       "       'SITTING', 'WALKING', 'LAYING', 'LAYING', 'LAYING', 'LAYING',\n",
       "       'SITTING', 'LAYING', 'WALKING', 'WALKING', 'SITTING', 'WALKING',\n",
       "       'WALKING', 'WALKING', 'WALKING', 'WALKING', 'SITTING', 'WALKING',\n",
       "       'SITTING', 'WALKING', 'LAYING', 'LAYING', 'SITTING', 'WALKING',\n",
       "       'LAYING', 'LAYING', 'SITTING', 'LAYING', 'WALKING', 'SITTING',\n",
       "       'WALKING', 'SITTING', 'LAYING', 'SITTING', 'WALKING', 'WALKING',\n",
       "       'WALKING', 'SITTING', 'WALKING', 'WALKING', 'WALKING', 'WALKING',\n",
       "       'SITTING', 'WALKING', 'LAYING', 'LAYING', 'WALKING', 'LAYING',\n",
       "       'WALKING', 'WALKING', 'WALKING', 'LAYING', 'LAYING', 'WALKING',\n",
       "       'SITTING', 'LAYING', 'LAYING', 'SITTING', 'LAYING', 'LAYING',\n",
       "       'SITTING', 'WALKING', 'LAYING', 'SITTING', 'LAYING', 'LAYING',\n",
       "       'LAYING', 'SITTING', 'SITTING', 'SITTING', 'SITTING', 'SITTING',\n",
       "       'WALKING', 'WALKING', 'WALKING', 'LAYING', 'LAYING', 'LAYING',\n",
       "       'SITTING', 'WALKING', 'LAYING', 'SITTING', 'SITTING', 'LAYING',\n",
       "       'LAYING', 'SITTING', 'WALKING', 'WALKING', 'LAYING', 'WALKING',\n",
       "       'LAYING', 'WALKING', 'LAYING', 'WALKING', 'LAYING', 'LAYING',\n",
       "       'WALKING', 'LAYING', 'WALKING', 'LAYING', 'WALKING', 'LAYING'],\n",
       "      dtype=object)"
      ]
     },
     "execution_count": 42,
     "metadata": {},
     "output_type": "execute_result"
    }
   ],
   "source": [
    "y_pred5=model5.predict(X_test)\n",
    "y_pred5"
   ]
  },
  {
   "cell_type": "code",
   "execution_count": 43,
   "metadata": {
    "colab": {
     "base_uri": "https://localhost:8080/"
    },
    "id": "K6rLAFK7jzYs",
    "outputId": "47adf203-05b1-439a-8a03-8750f7ae612d"
   },
   "outputs": [
    {
     "data": {
      "text/plain": [
       "1.0"
      ]
     },
     "execution_count": 43,
     "metadata": {},
     "output_type": "execute_result"
    }
   ],
   "source": [
    "accuracy_score(y_test,y_pred5)"
   ]
  },
  {
   "cell_type": "code",
   "execution_count": 44,
   "metadata": {
    "colab": {
     "base_uri": "https://localhost:8080/"
    },
    "id": "8MRqvHQBj__T",
    "outputId": "54c2b87b-38bc-458d-bb1b-9241388c6fbf"
   },
   "outputs": [
    {
     "name": "stdout",
     "output_type": "stream",
     "text": [
      "              precision    recall  f1-score   support\n",
      "\n",
      "      LAYING       1.00      1.00      1.00       154\n",
      "     SITTING       1.00      1.00      1.00       148\n",
      "     WALKING       1.00      1.00      1.00       148\n",
      "\n",
      "    accuracy                           1.00       450\n",
      "   macro avg       1.00      1.00      1.00       450\n",
      "weighted avg       1.00      1.00      1.00       450\n",
      "\n"
     ]
    }
   ],
   "source": [
    "print(classification_report(y_test,y_pred5))"
   ]
  },
  {
   "cell_type": "markdown",
   "metadata": {
    "id": "JsbzGi4IkEwS"
   },
   "source": [
    "### Step8. [ Interpret your results]"
   ]
  },
  {
   "cell_type": "markdown",
   "metadata": {},
   "source": [
    "### GradientBoostingClassifier(n_estimators=50)\n",
    "\n",
    "#####  GradientBoostingClassifier(n_estimators=50,learning_rate=1.0,max_depth=1,random_state=0)"
   ]
  },
  {
   "cell_type": "code",
   "execution_count": 45,
   "metadata": {},
   "outputs": [],
   "source": [
    "model6 = GradientBoostingClassifier(n_estimators=50,learning_rate=1.0,max_depth=1,random_state=0)"
   ]
  },
  {
   "cell_type": "code",
   "execution_count": 46,
   "metadata": {},
   "outputs": [
    {
     "data": {
      "text/plain": [
       "GradientBoostingClassifier(learning_rate=1.0, max_depth=1, n_estimators=50,\n",
       "                           random_state=0)"
      ]
     },
     "execution_count": 46,
     "metadata": {},
     "output_type": "execute_result"
    }
   ],
   "source": [
    "model6.fit(X_train,y_train)"
   ]
  },
  {
   "cell_type": "code",
   "execution_count": 47,
   "metadata": {},
   "outputs": [
    {
     "data": {
      "text/plain": [
       "array(['LAYING', 'LAYING', 'LAYING', 'SITTING', 'SITTING', 'LAYING',\n",
       "       'WALKING', 'WALKING', 'SITTING', 'WALKING', 'LAYING', 'LAYING',\n",
       "       'SITTING', 'LAYING', 'SITTING', 'LAYING', 'WALKING', 'SITTING',\n",
       "       'LAYING', 'LAYING', 'SITTING', 'LAYING', 'LAYING', 'LAYING',\n",
       "       'SITTING', 'LAYING', 'SITTING', 'SITTING', 'SITTING', 'WALKING',\n",
       "       'WALKING', 'SITTING', 'WALKING', 'SITTING', 'LAYING', 'LAYING',\n",
       "       'SITTING', 'SITTING', 'SITTING', 'LAYING', 'LAYING', 'LAYING',\n",
       "       'SITTING', 'SITTING', 'SITTING', 'SITTING', 'WALKING', 'WALKING',\n",
       "       'LAYING', 'LAYING', 'SITTING', 'LAYING', 'WALKING', 'LAYING',\n",
       "       'SITTING', 'LAYING', 'WALKING', 'SITTING', 'SITTING', 'SITTING',\n",
       "       'WALKING', 'SITTING', 'SITTING', 'SITTING', 'WALKING', 'WALKING',\n",
       "       'WALKING', 'WALKING', 'WALKING', 'LAYING', 'SITTING', 'LAYING',\n",
       "       'LAYING', 'WALKING', 'WALKING', 'WALKING', 'SITTING', 'WALKING',\n",
       "       'WALKING', 'LAYING', 'LAYING', 'LAYING', 'WALKING', 'WALKING',\n",
       "       'WALKING', 'LAYING', 'WALKING', 'SITTING', 'LAYING', 'WALKING',\n",
       "       'LAYING', 'LAYING', 'WALKING', 'LAYING', 'WALKING', 'WALKING',\n",
       "       'SITTING', 'LAYING', 'SITTING', 'WALKING', 'WALKING', 'LAYING',\n",
       "       'SITTING', 'SITTING', 'LAYING', 'SITTING', 'SITTING', 'SITTING',\n",
       "       'LAYING', 'WALKING', 'SITTING', 'LAYING', 'LAYING', 'WALKING',\n",
       "       'WALKING', 'WALKING', 'WALKING', 'LAYING', 'WALKING', 'WALKING',\n",
       "       'SITTING', 'WALKING', 'WALKING', 'LAYING', 'SITTING', 'WALKING',\n",
       "       'LAYING', 'SITTING', 'LAYING', 'LAYING', 'WALKING', 'WALKING',\n",
       "       'WALKING', 'SITTING', 'LAYING', 'SITTING', 'WALKING', 'SITTING',\n",
       "       'SITTING', 'SITTING', 'WALKING', 'LAYING', 'LAYING', 'LAYING',\n",
       "       'LAYING', 'LAYING', 'LAYING', 'LAYING', 'WALKING', 'SITTING',\n",
       "       'LAYING', 'WALKING', 'WALKING', 'SITTING', 'SITTING', 'SITTING',\n",
       "       'LAYING', 'WALKING', 'LAYING', 'LAYING', 'WALKING', 'LAYING',\n",
       "       'SITTING', 'LAYING', 'WALKING', 'SITTING', 'SITTING', 'SITTING',\n",
       "       'WALKING', 'LAYING', 'LAYING', 'WALKING', 'SITTING', 'WALKING',\n",
       "       'WALKING', 'WALKING', 'SITTING', 'LAYING', 'LAYING', 'SITTING',\n",
       "       'SITTING', 'SITTING', 'WALKING', 'WALKING', 'LAYING', 'WALKING',\n",
       "       'LAYING', 'WALKING', 'SITTING', 'WALKING', 'WALKING', 'LAYING',\n",
       "       'SITTING', 'SITTING', 'SITTING', 'SITTING', 'WALKING', 'LAYING',\n",
       "       'WALKING', 'WALKING', 'SITTING', 'LAYING', 'LAYING', 'LAYING',\n",
       "       'WALKING', 'LAYING', 'LAYING', 'WALKING', 'SITTING', 'SITTING',\n",
       "       'SITTING', 'LAYING', 'LAYING', 'LAYING', 'LAYING', 'WALKING',\n",
       "       'SITTING', 'LAYING', 'SITTING', 'SITTING', 'WALKING', 'SITTING',\n",
       "       'SITTING', 'SITTING', 'WALKING', 'WALKING', 'LAYING', 'SITTING',\n",
       "       'WALKING', 'WALKING', 'LAYING', 'WALKING', 'LAYING', 'WALKING',\n",
       "       'SITTING', 'LAYING', 'SITTING', 'LAYING', 'SITTING', 'SITTING',\n",
       "       'SITTING', 'SITTING', 'SITTING', 'WALKING', 'LAYING', 'LAYING',\n",
       "       'SITTING', 'SITTING', 'LAYING', 'WALKING', 'LAYING', 'LAYING',\n",
       "       'LAYING', 'SITTING', 'SITTING', 'WALKING', 'WALKING', 'SITTING',\n",
       "       'SITTING', 'WALKING', 'SITTING', 'SITTING', 'WALKING', 'SITTING',\n",
       "       'WALKING', 'LAYING', 'WALKING', 'SITTING', 'LAYING', 'WALKING',\n",
       "       'WALKING', 'SITTING', 'WALKING', 'WALKING', 'WALKING', 'SITTING',\n",
       "       'SITTING', 'LAYING', 'LAYING', 'LAYING', 'SITTING', 'SITTING',\n",
       "       'WALKING', 'SITTING', 'SITTING', 'LAYING', 'LAYING', 'LAYING',\n",
       "       'SITTING', 'WALKING', 'WALKING', 'SITTING', 'SITTING', 'WALKING',\n",
       "       'WALKING', 'WALKING', 'SITTING', 'LAYING', 'SITTING', 'WALKING',\n",
       "       'LAYING', 'LAYING', 'SITTING', 'WALKING', 'WALKING', 'LAYING',\n",
       "       'LAYING', 'SITTING', 'WALKING', 'SITTING', 'SITTING', 'WALKING',\n",
       "       'WALKING', 'LAYING', 'WALKING', 'LAYING', 'WALKING', 'SITTING',\n",
       "       'SITTING', 'SITTING', 'SITTING', 'SITTING', 'LAYING', 'LAYING',\n",
       "       'LAYING', 'WALKING', 'LAYING', 'SITTING', 'SITTING', 'LAYING',\n",
       "       'LAYING', 'SITTING', 'LAYING', 'SITTING', 'SITTING', 'WALKING',\n",
       "       'SITTING', 'LAYING', 'SITTING', 'WALKING', 'LAYING', 'LAYING',\n",
       "       'SITTING', 'SITTING', 'WALKING', 'WALKING', 'LAYING', 'LAYING',\n",
       "       'SITTING', 'WALKING', 'LAYING', 'LAYING', 'LAYING', 'LAYING',\n",
       "       'SITTING', 'LAYING', 'WALKING', 'WALKING', 'SITTING', 'WALKING',\n",
       "       'WALKING', 'WALKING', 'WALKING', 'WALKING', 'SITTING', 'WALKING',\n",
       "       'SITTING', 'WALKING', 'LAYING', 'LAYING', 'SITTING', 'WALKING',\n",
       "       'LAYING', 'LAYING', 'SITTING', 'LAYING', 'WALKING', 'SITTING',\n",
       "       'WALKING', 'SITTING', 'LAYING', 'SITTING', 'WALKING', 'WALKING',\n",
       "       'WALKING', 'SITTING', 'WALKING', 'WALKING', 'WALKING', 'WALKING',\n",
       "       'SITTING', 'WALKING', 'LAYING', 'LAYING', 'WALKING', 'LAYING',\n",
       "       'WALKING', 'WALKING', 'WALKING', 'LAYING', 'LAYING', 'WALKING',\n",
       "       'SITTING', 'LAYING', 'LAYING', 'SITTING', 'LAYING', 'LAYING',\n",
       "       'SITTING', 'WALKING', 'LAYING', 'SITTING', 'LAYING', 'LAYING',\n",
       "       'LAYING', 'SITTING', 'SITTING', 'SITTING', 'SITTING', 'SITTING',\n",
       "       'WALKING', 'WALKING', 'WALKING', 'LAYING', 'LAYING', 'LAYING',\n",
       "       'SITTING', 'WALKING', 'LAYING', 'SITTING', 'SITTING', 'LAYING',\n",
       "       'LAYING', 'SITTING', 'WALKING', 'WALKING', 'LAYING', 'WALKING',\n",
       "       'LAYING', 'WALKING', 'LAYING', 'WALKING', 'LAYING', 'LAYING',\n",
       "       'WALKING', 'LAYING', 'WALKING', 'LAYING', 'WALKING', 'LAYING'],\n",
       "      dtype=object)"
      ]
     },
     "execution_count": 47,
     "metadata": {},
     "output_type": "execute_result"
    }
   ],
   "source": [
    "y_pred6=model6.predict(X_test)\n",
    "y_pred6"
   ]
  },
  {
   "cell_type": "code",
   "execution_count": 48,
   "metadata": {},
   "outputs": [
    {
     "data": {
      "text/plain": [
       "1.0"
      ]
     },
     "execution_count": 48,
     "metadata": {},
     "output_type": "execute_result"
    }
   ],
   "source": [
    "accuracy_score(y_test,y_pred6)"
   ]
  },
  {
   "cell_type": "code",
   "execution_count": 49,
   "metadata": {},
   "outputs": [
    {
     "name": "stdout",
     "output_type": "stream",
     "text": [
      "              precision    recall  f1-score   support\n",
      "\n",
      "      LAYING       1.00      1.00      1.00       154\n",
      "     SITTING       1.00      1.00      1.00       148\n",
      "     WALKING       1.00      1.00      1.00       148\n",
      "\n",
      "    accuracy                           1.00       450\n",
      "   macro avg       1.00      1.00      1.00       450\n",
      "weighted avg       1.00      1.00      1.00       450\n",
      "\n"
     ]
    }
   ],
   "source": [
    "print(classification_report(y_test,y_pred6))"
   ]
  },
  {
   "cell_type": "markdown",
   "metadata": {},
   "source": [
    "### AdaBoostClassifier\n",
    "\n",
    "##### AdaBoostClassifier(base_estimator=DecisionTreeClassifier(), learning_rate=0.01, n_estimators=75, random_state=0)"
   ]
  },
  {
   "cell_type": "code",
   "execution_count": 50,
   "metadata": {},
   "outputs": [],
   "source": [
    "base3 = AdaBoostClassifier(base_estimator=base,learning_rate=0.01,n_estimators=75,random_state=0)"
   ]
  },
  {
   "cell_type": "code",
   "execution_count": 51,
   "metadata": {},
   "outputs": [],
   "source": [
    "model7 = GridSearchCV(base3,param_grid,cv=5,n_jobs=-1)"
   ]
  },
  {
   "cell_type": "code",
   "execution_count": 52,
   "metadata": {},
   "outputs": [
    {
     "data": {
      "text/plain": [
       "GridSearchCV(cv=5,\n",
       "             estimator=AdaBoostClassifier(base_estimator=DecisionTreeClassifier(),\n",
       "                                          learning_rate=0.01, n_estimators=75,\n",
       "                                          random_state=0),\n",
       "             n_jobs=-1,\n",
       "             param_grid={'learning_rate': [0.01, 0.001],\n",
       "                         'n_estimators': [100, 150, 200]})"
      ]
     },
     "execution_count": 52,
     "metadata": {},
     "output_type": "execute_result"
    }
   ],
   "source": [
    "model7.fit(X_train,y_train)"
   ]
  },
  {
   "cell_type": "code",
   "execution_count": 53,
   "metadata": {},
   "outputs": [
    {
     "data": {
      "text/plain": [
       "array(['LAYING', 'LAYING', 'LAYING', 'SITTING', 'SITTING', 'LAYING',\n",
       "       'WALKING', 'WALKING', 'SITTING', 'WALKING', 'LAYING', 'LAYING',\n",
       "       'SITTING', 'LAYING', 'SITTING', 'LAYING', 'WALKING', 'SITTING',\n",
       "       'LAYING', 'LAYING', 'SITTING', 'LAYING', 'LAYING', 'LAYING',\n",
       "       'SITTING', 'LAYING', 'SITTING', 'SITTING', 'SITTING', 'WALKING',\n",
       "       'WALKING', 'SITTING', 'WALKING', 'SITTING', 'LAYING', 'LAYING',\n",
       "       'SITTING', 'SITTING', 'SITTING', 'LAYING', 'LAYING', 'LAYING',\n",
       "       'SITTING', 'SITTING', 'SITTING', 'SITTING', 'WALKING', 'WALKING',\n",
       "       'LAYING', 'LAYING', 'SITTING', 'LAYING', 'WALKING', 'LAYING',\n",
       "       'SITTING', 'LAYING', 'WALKING', 'SITTING', 'SITTING', 'SITTING',\n",
       "       'WALKING', 'SITTING', 'SITTING', 'SITTING', 'WALKING', 'WALKING',\n",
       "       'WALKING', 'WALKING', 'WALKING', 'LAYING', 'SITTING', 'LAYING',\n",
       "       'LAYING', 'WALKING', 'WALKING', 'WALKING', 'SITTING', 'WALKING',\n",
       "       'WALKING', 'LAYING', 'LAYING', 'LAYING', 'WALKING', 'WALKING',\n",
       "       'WALKING', 'LAYING', 'WALKING', 'SITTING', 'LAYING', 'WALKING',\n",
       "       'LAYING', 'LAYING', 'WALKING', 'LAYING', 'WALKING', 'WALKING',\n",
       "       'SITTING', 'LAYING', 'SITTING', 'WALKING', 'WALKING', 'LAYING',\n",
       "       'SITTING', 'SITTING', 'LAYING', 'SITTING', 'SITTING', 'SITTING',\n",
       "       'LAYING', 'WALKING', 'SITTING', 'LAYING', 'LAYING', 'WALKING',\n",
       "       'WALKING', 'WALKING', 'WALKING', 'LAYING', 'WALKING', 'WALKING',\n",
       "       'SITTING', 'WALKING', 'WALKING', 'LAYING', 'SITTING', 'WALKING',\n",
       "       'LAYING', 'SITTING', 'LAYING', 'LAYING', 'WALKING', 'WALKING',\n",
       "       'WALKING', 'SITTING', 'LAYING', 'SITTING', 'WALKING', 'SITTING',\n",
       "       'SITTING', 'SITTING', 'WALKING', 'LAYING', 'LAYING', 'LAYING',\n",
       "       'LAYING', 'LAYING', 'LAYING', 'LAYING', 'WALKING', 'SITTING',\n",
       "       'LAYING', 'WALKING', 'WALKING', 'SITTING', 'SITTING', 'SITTING',\n",
       "       'LAYING', 'WALKING', 'LAYING', 'LAYING', 'WALKING', 'LAYING',\n",
       "       'SITTING', 'LAYING', 'WALKING', 'SITTING', 'SITTING', 'SITTING',\n",
       "       'WALKING', 'LAYING', 'LAYING', 'WALKING', 'SITTING', 'WALKING',\n",
       "       'WALKING', 'WALKING', 'SITTING', 'LAYING', 'LAYING', 'SITTING',\n",
       "       'SITTING', 'SITTING', 'WALKING', 'WALKING', 'LAYING', 'WALKING',\n",
       "       'LAYING', 'WALKING', 'SITTING', 'WALKING', 'WALKING', 'LAYING',\n",
       "       'SITTING', 'SITTING', 'SITTING', 'SITTING', 'WALKING', 'LAYING',\n",
       "       'WALKING', 'WALKING', 'SITTING', 'LAYING', 'LAYING', 'LAYING',\n",
       "       'WALKING', 'LAYING', 'LAYING', 'WALKING', 'SITTING', 'SITTING',\n",
       "       'SITTING', 'LAYING', 'LAYING', 'LAYING', 'LAYING', 'WALKING',\n",
       "       'SITTING', 'LAYING', 'SITTING', 'SITTING', 'WALKING', 'SITTING',\n",
       "       'SITTING', 'SITTING', 'WALKING', 'WALKING', 'LAYING', 'SITTING',\n",
       "       'WALKING', 'WALKING', 'LAYING', 'WALKING', 'LAYING', 'WALKING',\n",
       "       'SITTING', 'LAYING', 'SITTING', 'LAYING', 'SITTING', 'SITTING',\n",
       "       'SITTING', 'SITTING', 'SITTING', 'WALKING', 'LAYING', 'LAYING',\n",
       "       'SITTING', 'SITTING', 'LAYING', 'WALKING', 'LAYING', 'LAYING',\n",
       "       'LAYING', 'SITTING', 'SITTING', 'WALKING', 'WALKING', 'SITTING',\n",
       "       'SITTING', 'WALKING', 'SITTING', 'SITTING', 'WALKING', 'SITTING',\n",
       "       'WALKING', 'LAYING', 'WALKING', 'SITTING', 'LAYING', 'WALKING',\n",
       "       'WALKING', 'SITTING', 'WALKING', 'WALKING', 'WALKING', 'SITTING',\n",
       "       'SITTING', 'LAYING', 'LAYING', 'LAYING', 'SITTING', 'SITTING',\n",
       "       'WALKING', 'SITTING', 'SITTING', 'LAYING', 'LAYING', 'LAYING',\n",
       "       'SITTING', 'WALKING', 'WALKING', 'SITTING', 'SITTING', 'WALKING',\n",
       "       'WALKING', 'WALKING', 'SITTING', 'LAYING', 'SITTING', 'WALKING',\n",
       "       'LAYING', 'LAYING', 'SITTING', 'WALKING', 'WALKING', 'LAYING',\n",
       "       'LAYING', 'SITTING', 'WALKING', 'SITTING', 'SITTING', 'WALKING',\n",
       "       'WALKING', 'LAYING', 'WALKING', 'LAYING', 'WALKING', 'SITTING',\n",
       "       'SITTING', 'SITTING', 'SITTING', 'SITTING', 'LAYING', 'LAYING',\n",
       "       'LAYING', 'WALKING', 'LAYING', 'SITTING', 'SITTING', 'LAYING',\n",
       "       'LAYING', 'SITTING', 'LAYING', 'SITTING', 'SITTING', 'WALKING',\n",
       "       'SITTING', 'LAYING', 'SITTING', 'WALKING', 'LAYING', 'LAYING',\n",
       "       'SITTING', 'SITTING', 'WALKING', 'WALKING', 'LAYING', 'LAYING',\n",
       "       'SITTING', 'WALKING', 'LAYING', 'LAYING', 'LAYING', 'LAYING',\n",
       "       'SITTING', 'LAYING', 'WALKING', 'WALKING', 'SITTING', 'WALKING',\n",
       "       'WALKING', 'WALKING', 'WALKING', 'WALKING', 'SITTING', 'WALKING',\n",
       "       'SITTING', 'WALKING', 'LAYING', 'LAYING', 'SITTING', 'WALKING',\n",
       "       'LAYING', 'LAYING', 'SITTING', 'LAYING', 'WALKING', 'SITTING',\n",
       "       'WALKING', 'SITTING', 'LAYING', 'SITTING', 'WALKING', 'WALKING',\n",
       "       'WALKING', 'SITTING', 'WALKING', 'WALKING', 'WALKING', 'WALKING',\n",
       "       'SITTING', 'WALKING', 'LAYING', 'LAYING', 'WALKING', 'LAYING',\n",
       "       'WALKING', 'WALKING', 'WALKING', 'LAYING', 'LAYING', 'WALKING',\n",
       "       'SITTING', 'LAYING', 'LAYING', 'SITTING', 'LAYING', 'LAYING',\n",
       "       'SITTING', 'WALKING', 'LAYING', 'SITTING', 'LAYING', 'LAYING',\n",
       "       'LAYING', 'SITTING', 'SITTING', 'SITTING', 'SITTING', 'SITTING',\n",
       "       'WALKING', 'WALKING', 'WALKING', 'LAYING', 'LAYING', 'LAYING',\n",
       "       'SITTING', 'WALKING', 'LAYING', 'SITTING', 'SITTING', 'LAYING',\n",
       "       'LAYING', 'SITTING', 'WALKING', 'WALKING', 'LAYING', 'WALKING',\n",
       "       'LAYING', 'WALKING', 'LAYING', 'WALKING', 'LAYING', 'LAYING',\n",
       "       'WALKING', 'LAYING', 'WALKING', 'LAYING', 'WALKING', 'LAYING'],\n",
       "      dtype=object)"
      ]
     },
     "execution_count": 53,
     "metadata": {},
     "output_type": "execute_result"
    }
   ],
   "source": [
    "y_pred7=model7.predict(X_test)\n",
    "y_pred7"
   ]
  },
  {
   "cell_type": "code",
   "execution_count": 54,
   "metadata": {},
   "outputs": [
    {
     "data": {
      "text/plain": [
       "1.0"
      ]
     },
     "execution_count": 54,
     "metadata": {},
     "output_type": "execute_result"
    }
   ],
   "source": [
    "accuracy_score(y_test,y_pred7)"
   ]
  },
  {
   "cell_type": "code",
   "execution_count": 55,
   "metadata": {},
   "outputs": [
    {
     "name": "stdout",
     "output_type": "stream",
     "text": [
      "              precision    recall  f1-score   support\n",
      "\n",
      "      LAYING       1.00      1.00      1.00       154\n",
      "     SITTING       1.00      1.00      1.00       148\n",
      "     WALKING       1.00      1.00      1.00       148\n",
      "\n",
      "    accuracy                           1.00       450\n",
      "   macro avg       1.00      1.00      1.00       450\n",
      "weighted avg       1.00      1.00      1.00       450\n",
      "\n"
     ]
    }
   ],
   "source": [
    "print(classification_report(y_test,y_pred7))"
   ]
  }
 ],
 "metadata": {
  "colab": {
   "collapsed_sections": [],
   "name": "lab 10 PML.ipynb",
   "provenance": []
  },
  "kernelspec": {
   "display_name": "Python 3",
   "language": "python",
   "name": "python3"
  },
  "language_info": {
   "codemirror_mode": {
    "name": "ipython",
    "version": 3
   },
   "file_extension": ".py",
   "mimetype": "text/x-python",
   "name": "python",
   "nbconvert_exporter": "python",
   "pygments_lexer": "ipython3",
   "version": "3.9.1"
  }
 },
 "nbformat": 4,
 "nbformat_minor": 1
}
